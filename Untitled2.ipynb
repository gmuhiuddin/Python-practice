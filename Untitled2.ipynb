{
 "cells": [
  {
   "cell_type": "code",
   "execution_count": 2,
   "id": "8055db81-1c45-41da-abcc-7238a57d225e",
   "metadata": {},
   "outputs": [
    {
     "data": {
      "text/plain": [
       "str"
      ]
     },
     "execution_count": 2,
     "metadata": {},
     "output_type": "execute_result"
    }
   ],
   "source": [
    "type(\"\")"
   ]
  },
  {
   "cell_type": "code",
   "execution_count": 4,
   "id": "ca03dbd1-d7fd-4a1a-8805-493361d5a3d9",
   "metadata": {},
   "outputs": [
    {
     "data": {
      "text/plain": [
       "False"
      ]
     },
     "execution_count": 4,
     "metadata": {},
     "output_type": "execute_result"
    }
   ],
   "source": [
    "bool(\"\")"
   ]
  },
  {
   "cell_type": "code",
   "execution_count": 6,
   "id": "6f0a9c50-9ae9-4026-8281-423a811d06f3",
   "metadata": {},
   "outputs": [
    {
     "data": {
      "text/plain": [
       "True"
      ]
     },
     "execution_count": 6,
     "metadata": {},
     "output_type": "execute_result"
    }
   ],
   "source": [
    "bool(\"1\")"
   ]
  },
  {
   "cell_type": "code",
   "execution_count": 8,
   "id": "3a68f6a2-8b40-4e97-a209-d5777620cdc8",
   "metadata": {},
   "outputs": [
    {
     "data": {
      "text/plain": [
       "True"
      ]
     },
     "execution_count": 8,
     "metadata": {},
     "output_type": "execute_result"
    }
   ],
   "source": [
    "bool(1)"
   ]
  },
  {
   "cell_type": "code",
   "execution_count": 16,
   "id": "620c0f4c-f81e-4045-8690-b51117933c46",
   "metadata": {},
   "outputs": [
    {
     "data": {
      "text/plain": [
       "1.0"
      ]
     },
     "execution_count": 16,
     "metadata": {},
     "output_type": "execute_result"
    }
   ],
   "source": [
    "float(\"1\")"
   ]
  },
  {
   "cell_type": "code",
   "execution_count": 22,
   "id": "d6d3fd1c-e099-4846-951f-cc9187e516e0",
   "metadata": {},
   "outputs": [
    {
     "ename": "ValueError",
     "evalue": "invalid literal for int() with base 10: '1.1'",
     "output_type": "error",
     "traceback": [
      "\u001b[1;31m---------------------------------------------------------------------------\u001b[0m",
      "\u001b[1;31mValueError\u001b[0m                                Traceback (most recent call last)",
      "Cell \u001b[1;32mIn[22], line 1\u001b[0m\n\u001b[1;32m----> 1\u001b[0m \u001b[38;5;28mint\u001b[39m(\u001b[38;5;124m\"\u001b[39m\u001b[38;5;124m1.1\u001b[39m\u001b[38;5;124m\"\u001b[39m)\n",
      "\u001b[1;31mValueError\u001b[0m: invalid literal for int() with base 10: '1.1'"
     ]
    }
   ],
   "source": [
    "int(\"1.1\")"
   ]
  },
  {
   "cell_type": "code",
   "execution_count": 24,
   "id": "9a46d71f-0990-48f1-b48f-6e2109c40b2b",
   "metadata": {},
   "outputs": [
    {
     "data": {
      "text/plain": [
       "1"
      ]
     },
     "execution_count": 24,
     "metadata": {},
     "output_type": "execute_result"
    }
   ],
   "source": [
    "int(\"1\")\n"
   ]
  },
  {
   "cell_type": "code",
   "execution_count": 26,
   "id": "681cea17-5c2e-4b67-a39f-57d233adb662",
   "metadata": {},
   "outputs": [
    {
     "ename": "SyntaxError",
     "evalue": "unterminated string literal (detected at line 2) (3030507664.py, line 2)",
     "output_type": "error",
     "traceback": [
      "\u001b[1;36m  Cell \u001b[1;32mIn[26], line 2\u001b[1;36m\u001b[0m\n\u001b[1;33m    voter_list = [\"123\", \"123]\u001b[0m\n\u001b[1;37m                         ^\u001b[0m\n\u001b[1;31mSyntaxError\u001b[0m\u001b[1;31m:\u001b[0m unterminated string literal (detected at line 2)\n"
     ]
    }
   ],
   "source": [
    "isElectionDay = True\n",
    "voter_list = [\"123\", \"1231\"]\n",
    "\n",
    "if isElectionDay:\n",
    "    cnic = input(\"Please add your cnic no\")\n",
    "\n",
    "    if(cnic in voter_list):\n",
    "        pass\n",
    "    else:\n",
    "        print(\"Cninc in not list\")\n",
    "else:\n",
    "    print(\"Today is Not election day\")"
   ]
  },
  {
   "cell_type": "code",
   "execution_count": 32,
   "id": "bd5a622d-7859-4f9a-8608-65b4c4137f70",
   "metadata": {},
   "outputs": [],
   "source": [
    "a = (1,4,3,1)"
   ]
  },
  {
   "cell_type": "code",
   "execution_count": 34,
   "id": "8a2910dc-bb67-4ceb-8f50-589fbfc51c9f",
   "metadata": {},
   "outputs": [
    {
     "data": {
      "text/plain": [
       "(1, 4, 3, 1)"
      ]
     },
     "execution_count": 34,
     "metadata": {},
     "output_type": "execute_result"
    }
   ],
   "source": [
    "a"
   ]
  },
  {
   "cell_type": "code",
   "execution_count": 36,
   "id": "d8d64176-de74-421a-8387-c0174b1af507",
   "metadata": {},
   "outputs": [],
   "source": [
    "b = {1,4,3,1}"
   ]
  },
  {
   "cell_type": "code",
   "execution_count": 38,
   "id": "21632015-036f-40d3-a947-d1cc76fa4e74",
   "metadata": {},
   "outputs": [
    {
     "data": {
      "text/plain": [
       "{1, 3, 4}"
      ]
     },
     "execution_count": 38,
     "metadata": {},
     "output_type": "execute_result"
    }
   ],
   "source": [
    "b"
   ]
  },
  {
   "cell_type": "code",
   "execution_count": 76,
   "id": "2fd83990-f68d-4018-be8c-28aeec8beb86",
   "metadata": {},
   "outputs": [],
   "source": [
    "dic = { \"abc\": \"a\"}"
   ]
  },
  {
   "cell_type": "code",
   "execution_count": 74,
   "id": "087ff585-7bd5-41df-9c4f-2dc1f63edea3",
   "metadata": {},
   "outputs": [
    {
     "data": {
      "text/plain": [
       "{'a': 'a'}"
      ]
     },
     "execution_count": 74,
     "metadata": {},
     "output_type": "execute_result"
    }
   ],
   "source": [
    "dic"
   ]
  },
  {
   "cell_type": "code",
   "execution_count": 4,
   "id": "3fa08edc-af79-4230-88b2-c08ba0138e96",
   "metadata": {},
   "outputs": [
    {
     "data": {
      "text/plain": [
       "(1,\n",
       " 3,\n",
       " 5,\n",
       " 7,\n",
       " 9,\n",
       " 11,\n",
       " 13,\n",
       " 15,\n",
       " 17,\n",
       " 19,\n",
       " 21,\n",
       " 23,\n",
       " 25,\n",
       " 27,\n",
       " 29,\n",
       " 31,\n",
       " 33,\n",
       " 35,\n",
       " 37,\n",
       " 39,\n",
       " 41,\n",
       " 43,\n",
       " 45,\n",
       " 47,\n",
       " 49,\n",
       " 51,\n",
       " 53,\n",
       " 55,\n",
       " 57,\n",
       " 59,\n",
       " 61,\n",
       " 63,\n",
       " 65,\n",
       " 67,\n",
       " 69,\n",
       " 71,\n",
       " 73,\n",
       " 75,\n",
       " 77,\n",
       " 79,\n",
       " 81,\n",
       " 83,\n",
       " 85,\n",
       " 87,\n",
       " 89,\n",
       " 91,\n",
       " 93,\n",
       " 95,\n",
       " 97,\n",
       " 99)"
      ]
     },
     "execution_count": 4,
     "metadata": {},
     "output_type": "execute_result"
    }
   ],
   "source": [
    "tuple(range(1, 100))[::2]"
   ]
  },
  {
   "cell_type": "markdown",
   "id": "6b4fbe3f-8112-4d78-94fc-c2b4716c0603",
   "metadata": {},
   "source": [
    "## Generator function"
   ]
  },
  {
   "cell_type": "code",
   "execution_count": 50,
   "id": "0725930a-1b93-4af7-8a4f-ea9e88d29868",
   "metadata": {},
   "outputs": [],
   "source": [
    "def gen_func():\n",
    "    yield 1\n",
    "\n",
    "    yield 2\n",
    "    \n",
    "    yield 3"
   ]
  },
  {
   "cell_type": "code",
   "execution_count": 61,
   "id": "32250e3f-0149-4b53-9f12-c073450e1335",
   "metadata": {},
   "outputs": [],
   "source": [
    "a = gen_func()"
   ]
  },
  {
   "cell_type": "code",
   "execution_count": 63,
   "id": "d3b202d7-5742-4ab8-8850-828fbfb5818a",
   "metadata": {},
   "outputs": [
    {
     "name": "stdout",
     "output_type": "stream",
     "text": [
      "1\n",
      "2\n",
      "3\n"
     ]
    }
   ],
   "source": [
    "for i in a:\n",
    "    print(i)"
   ]
  },
  {
   "cell_type": "markdown",
   "id": "f4e5cfb3-dac2-4b93-8b01-fa5a6ae58b9a",
   "metadata": {},
   "source": [
    "## Decorators"
   ]
  },
  {
   "cell_type": "code",
   "execution_count": 74,
   "id": "7f91c16e-20d0-4bfc-aeaf-872bae0ed396",
   "metadata": {},
   "outputs": [],
   "source": [
    "def decorator_func (func):\n",
    "    return \"a\""
   ]
  },
  {
   "cell_type": "code",
   "execution_count": 76,
   "id": "044d8dff-00db-4cf6-a592-0f86db5aac0b",
   "metadata": {},
   "outputs": [],
   "source": [
    "@decorator_func\n",
    "def func():\n",
    "    print(\"Hello\")\n"
   ]
  },
  {
   "cell_type": "code",
   "execution_count": 80,
   "id": "71bdff6f-e918-4b37-9f83-cf9317db884f",
   "metadata": {},
   "outputs": [
    {
     "data": {
      "text/plain": [
       "'a'"
      ]
     },
     "execution_count": 80,
     "metadata": {},
     "output_type": "execute_result"
    }
   ],
   "source": [
    "func"
   ]
  },
  {
   "cell_type": "code",
   "execution_count": 42,
   "id": "c5ae1977-144a-47ae-ae35-b8b3deeea6d3",
   "metadata": {},
   "outputs": [],
   "source": [
    "def say_hello(func):\n",
    "    def a():\n",
    "        name = input(\"Please input your name\")\n",
    "        func(name)\n",
    "    \n",
    "    return a"
   ]
  },
  {
   "cell_type": "code",
   "execution_count": 44,
   "id": "83f564b6-8249-4eed-918d-16d99dd4d698",
   "metadata": {},
   "outputs": [],
   "source": [
    "@say_hello\n",
    "def greeting(name):\n",
    "    print(f\"Hello, {name}!\")"
   ]
  },
  {
   "cell_type": "code",
   "execution_count": 46,
   "id": "418a79bb-e99a-4fb9-bd60-6329f28af6e8",
   "metadata": {},
   "outputs": [
    {
     "name": "stdin",
     "output_type": "stream",
     "text": [
      "Please input your name ghasdf\n"
     ]
    },
    {
     "name": "stdout",
     "output_type": "stream",
     "text": [
      "Hello, ghasdf!\n"
     ]
    }
   ],
   "source": [
    "greeting()"
   ]
  },
  {
   "cell_type": "code",
   "execution_count": 30,
   "id": "80100d7f-8f4a-4768-b6b3-8cf901677db9",
   "metadata": {},
   "outputs": [],
   "source": [
    "def asf():\n",
    "    input(\"ASFd\")"
   ]
  },
  {
   "cell_type": "code",
   "execution_count": 2,
   "id": "f13bab8f-c4e0-48fe-9778-4021d4b1c3de",
   "metadata": {},
   "outputs": [],
   "source": [
    "a = \"a\""
   ]
  },
  {
   "cell_type": "code",
   "execution_count": 57,
   "id": "c1be9187-ee7f-4b5d-84f8-33944a11763b",
   "metadata": {},
   "outputs": [
    {
     "ename": "IndentationError",
     "evalue": "unindent does not match any outer indentation level (<string>, line 4)",
     "output_type": "error",
     "traceback": [
      "\u001b[1;36m  File \u001b[1;32m<string>:4\u001b[1;36m\u001b[0m\n\u001b[1;33m    print(\"Print from yield 2\")\u001b[0m\n\u001b[1;37m                               ^\u001b[0m\n\u001b[1;31mIndentationError\u001b[0m\u001b[1;31m:\u001b[0m unindent does not match any outer indentation level\n"
     ]
    }
   ],
   "source": [
    "def gen_func():\n",
    "    yield 1\n",
    "\n",
    "   print(\"Print from yield 2\")\n",
    "\n",
    "    yield 2"
   ]
  },
  {
   "cell_type": "code",
   "execution_count": 54,
   "id": "7ef446e1-de24-4583-8f7b-5a6643f1c159",
   "metadata": {},
   "outputs": [
    {
     "data": {
      "text/plain": [
       "'a'"
      ]
     },
     "execution_count": 54,
     "metadata": {},
     "output_type": "execute_result"
    }
   ],
   "source": [
    "a"
   ]
  },
  {
   "cell_type": "code",
   "execution_count": 32,
   "id": "84934bae-c6df-4715-934a-63a183010122",
   "metadata": {},
   "outputs": [],
   "source": [
    "func_obj = gen_func()"
   ]
  },
  {
   "cell_type": "code",
   "execution_count": 36,
   "id": "dcc8166e-df9f-49a0-aaf0-12e2fe0d4559",
   "metadata": {},
   "outputs": [
    {
     "data": {
      "text/plain": [
       "2"
      ]
     },
     "execution_count": 36,
     "metadata": {},
     "output_type": "execute_result"
    }
   ],
   "source": [
    "next(func_obj)"
   ]
  },
  {
   "cell_type": "code",
   "execution_count": 18,
   "id": "02f7b163-4979-4b9c-aa66-c16ab97de30e",
   "metadata": {},
   "outputs": [],
   "source": [
    "def gen_func(lst):\n",
    "    for i in lst:\n",
    "        yield i"
   ]
  },
  {
   "cell_type": "code",
   "execution_count": 22,
   "id": "38915efb-0008-4c0b-91d8-8833a688bd53",
   "metadata": {},
   "outputs": [],
   "source": [
    "lst = [1,2,3]\n",
    "gen_obj = gen_func(lst)"
   ]
  },
  {
   "cell_type": "code",
   "execution_count": 30,
   "id": "5c92e564-85f7-4e4a-a7dc-9b28719914e6",
   "metadata": {},
   "outputs": [
    {
     "data": {
      "text/plain": [
       "15"
      ]
     },
     "execution_count": 30,
     "metadata": {},
     "output_type": "execute_result"
    }
   ],
   "source": [
    "next(gen_obj)"
   ]
  },
  {
   "cell_type": "code",
   "execution_count": 26,
   "id": "b33a23a8-4c32-448e-9bb3-7fae80766321",
   "metadata": {},
   "outputs": [],
   "source": [
    "lst[1] = 15"
   ]
  },
  {
   "cell_type": "code",
   "execution_count": 28,
   "id": "16ed0849-424a-4523-a23f-21d81c0dc7b3",
   "metadata": {},
   "outputs": [
    {
     "data": {
      "text/plain": [
       "[1, 15, 3]"
      ]
     },
     "execution_count": 28,
     "metadata": {},
     "output_type": "execute_result"
    }
   ],
   "source": [
    "lst"
   ]
  },
  {
   "cell_type": "code",
   "execution_count": null,
   "id": "23cfc5df-7650-46cf-ac1c-0c74713da38b",
   "metadata": {},
   "outputs": [],
   "source": []
  }
 ],
 "metadata": {
  "kernelspec": {
   "display_name": "Python 3 (ipykernel)",
   "language": "python",
   "name": "python3"
  },
  "language_info": {
   "codemirror_mode": {
    "name": "ipython",
    "version": 3
   },
   "file_extension": ".py",
   "mimetype": "text/x-python",
   "name": "python",
   "nbconvert_exporter": "python",
   "pygments_lexer": "ipython3",
   "version": "3.12.7"
  }
 },
 "nbformat": 4,
 "nbformat_minor": 5
}
