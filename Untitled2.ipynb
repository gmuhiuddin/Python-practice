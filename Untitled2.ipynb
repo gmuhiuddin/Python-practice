{
 "cells": [
  {
   "cell_type": "code",
   "execution_count": 2,
   "id": "8055db81-1c45-41da-abcc-7238a57d225e",
   "metadata": {},
   "outputs": [
    {
     "data": {
      "text/plain": [
       "str"
      ]
     },
     "execution_count": 2,
     "metadata": {},
     "output_type": "execute_result"
    }
   ],
   "source": [
    "type(\"\")"
   ]
  },
  {
   "cell_type": "code",
   "execution_count": 4,
   "id": "ca03dbd1-d7fd-4a1a-8805-493361d5a3d9",
   "metadata": {},
   "outputs": [
    {
     "data": {
      "text/plain": [
       "False"
      ]
     },
     "execution_count": 4,
     "metadata": {},
     "output_type": "execute_result"
    }
   ],
   "source": [
    "bool(\"\")"
   ]
  },
  {
   "cell_type": "code",
   "execution_count": 6,
   "id": "6f0a9c50-9ae9-4026-8281-423a811d06f3",
   "metadata": {},
   "outputs": [
    {
     "data": {
      "text/plain": [
       "True"
      ]
     },
     "execution_count": 6,
     "metadata": {},
     "output_type": "execute_result"
    }
   ],
   "source": [
    "bool(\"1\")"
   ]
  },
  {
   "cell_type": "code",
   "execution_count": 8,
   "id": "3a68f6a2-8b40-4e97-a209-d5777620cdc8",
   "metadata": {},
   "outputs": [
    {
     "data": {
      "text/plain": [
       "True"
      ]
     },
     "execution_count": 8,
     "metadata": {},
     "output_type": "execute_result"
    }
   ],
   "source": [
    "bool(1)"
   ]
  },
  {
   "cell_type": "code",
   "execution_count": 16,
   "id": "620c0f4c-f81e-4045-8690-b51117933c46",
   "metadata": {},
   "outputs": [
    {
     "data": {
      "text/plain": [
       "1.0"
      ]
     },
     "execution_count": 16,
     "metadata": {},
     "output_type": "execute_result"
    }
   ],
   "source": [
    "float(\"1\")"
   ]
  },
  {
   "cell_type": "code",
   "execution_count": 22,
   "id": "d6d3fd1c-e099-4846-951f-cc9187e516e0",
   "metadata": {},
   "outputs": [
    {
     "ename": "ValueError",
     "evalue": "invalid literal for int() with base 10: '1.1'",
     "output_type": "error",
     "traceback": [
      "\u001b[1;31m---------------------------------------------------------------------------\u001b[0m",
      "\u001b[1;31mValueError\u001b[0m                                Traceback (most recent call last)",
      "Cell \u001b[1;32mIn[22], line 1\u001b[0m\n\u001b[1;32m----> 1\u001b[0m \u001b[38;5;28mint\u001b[39m(\u001b[38;5;124m\"\u001b[39m\u001b[38;5;124m1.1\u001b[39m\u001b[38;5;124m\"\u001b[39m)\n",
      "\u001b[1;31mValueError\u001b[0m: invalid literal for int() with base 10: '1.1'"
     ]
    }
   ],
   "source": [
    "int(\"1.1\")"
   ]
  },
  {
   "cell_type": "code",
   "execution_count": 24,
   "id": "9a46d71f-0990-48f1-b48f-6e2109c40b2b",
   "metadata": {},
   "outputs": [
    {
     "data": {
      "text/plain": [
       "1"
      ]
     },
     "execution_count": 24,
     "metadata": {},
     "output_type": "execute_result"
    }
   ],
   "source": [
    "int(\"1\")\n"
   ]
  },
  {
   "cell_type": "code",
   "execution_count": 26,
   "id": "681cea17-5c2e-4b67-a39f-57d233adb662",
   "metadata": {},
   "outputs": [
    {
     "ename": "SyntaxError",
     "evalue": "unterminated string literal (detected at line 2) (3030507664.py, line 2)",
     "output_type": "error",
     "traceback": [
      "\u001b[1;36m  Cell \u001b[1;32mIn[26], line 2\u001b[1;36m\u001b[0m\n\u001b[1;33m    voter_list = [\"123\", \"123]\u001b[0m\n\u001b[1;37m                         ^\u001b[0m\n\u001b[1;31mSyntaxError\u001b[0m\u001b[1;31m:\u001b[0m unterminated string literal (detected at line 2)\n"
     ]
    }
   ],
   "source": [
    "isElectionDay = True\n",
    "voter_list = [\"123\", \"1231\"]\n",
    "\n",
    "if isElectionDay:\n",
    "    cnic = input(\"Please add your cnic no\")\n",
    "\n",
    "    if(cnic in voter_list):\n",
    "        pass\n",
    "    else:\n",
    "        print(\"Cninc in not list\")\n",
    "else:\n",
    "    print(\"Today is Not election day\")"
   ]
  },
  {
   "cell_type": "code",
   "execution_count": 32,
   "id": "bd5a622d-7859-4f9a-8608-65b4c4137f70",
   "metadata": {},
   "outputs": [],
   "source": [
    "a = (1,4,3,1)"
   ]
  },
  {
   "cell_type": "code",
   "execution_count": 34,
   "id": "8a2910dc-bb67-4ceb-8f50-589fbfc51c9f",
   "metadata": {},
   "outputs": [
    {
     "data": {
      "text/plain": [
       "(1, 4, 3, 1)"
      ]
     },
     "execution_count": 34,
     "metadata": {},
     "output_type": "execute_result"
    }
   ],
   "source": [
    "a"
   ]
  },
  {
   "cell_type": "code",
   "execution_count": 36,
   "id": "d8d64176-de74-421a-8387-c0174b1af507",
   "metadata": {},
   "outputs": [],
   "source": [
    "b = {1,4,3,1}"
   ]
  },
  {
   "cell_type": "code",
   "execution_count": 38,
   "id": "21632015-036f-40d3-a947-d1cc76fa4e74",
   "metadata": {},
   "outputs": [
    {
     "data": {
      "text/plain": [
       "{1, 3, 4}"
      ]
     },
     "execution_count": 38,
     "metadata": {},
     "output_type": "execute_result"
    }
   ],
   "source": [
    "b"
   ]
  },
  {
   "cell_type": "code",
   "execution_count": 76,
   "id": "2fd83990-f68d-4018-be8c-28aeec8beb86",
   "metadata": {},
   "outputs": [],
   "source": [
    "dic = { \"abc\": \"a\"}"
   ]
  },
  {
   "cell_type": "code",
   "execution_count": 74,
   "id": "087ff585-7bd5-41df-9c4f-2dc1f63edea3",
   "metadata": {},
   "outputs": [
    {
     "data": {
      "text/plain": [
       "{'a': 'a'}"
      ]
     },
     "execution_count": 74,
     "metadata": {},
     "output_type": "execute_result"
    }
   ],
   "source": [
    "dic"
   ]
  },
  {
   "cell_type": "code",
   "execution_count": 34,
   "id": "3fa08edc-af79-4230-88b2-c08ba0138e96",
   "metadata": {},
   "outputs": [
    {
     "data": {
      "text/plain": [
       "(1,\n",
       " 3,\n",
       " 5,\n",
       " 7,\n",
       " 9,\n",
       " 11,\n",
       " 13,\n",
       " 15,\n",
       " 17,\n",
       " 19,\n",
       " 21,\n",
       " 23,\n",
       " 25,\n",
       " 27,\n",
       " 29,\n",
       " 31,\n",
       " 33,\n",
       " 35,\n",
       " 37,\n",
       " 39,\n",
       " 41,\n",
       " 43,\n",
       " 45,\n",
       " 47,\n",
       " 49,\n",
       " 51,\n",
       " 53,\n",
       " 55,\n",
       " 57,\n",
       " 59,\n",
       " 61,\n",
       " 63,\n",
       " 65,\n",
       " 67,\n",
       " 69,\n",
       " 71,\n",
       " 73,\n",
       " 75,\n",
       " 77,\n",
       " 79,\n",
       " 81,\n",
       " 83,\n",
       " 85,\n",
       " 87,\n",
       " 89,\n",
       " 91,\n",
       " 93,\n",
       " 95,\n",
       " 97,\n",
       " 99)"
      ]
     },
     "execution_count": 34,
     "metadata": {},
     "output_type": "execute_result"
    }
   ],
   "source": [
    "tuple(range(1, 100))[::2]"
   ]
  },
  {
   "cell_type": "code",
   "execution_count": null,
   "id": "bba40d5a-25e5-46d9-b87b-4532c7122cce",
   "metadata": {},
   "outputs": [],
   "source": []
  },
  {
   "cell_type": "code",
   "execution_count": null,
   "id": "98377606-b299-4964-927e-e67336099257",
   "metadata": {},
   "outputs": [],
   "source": []
  }
 ],
 "metadata": {
  "kernelspec": {
   "display_name": "Python 3 (ipykernel)",
   "language": "python",
   "name": "python3"
  },
  "language_info": {
   "codemirror_mode": {
    "name": "ipython",
    "version": 3
   },
   "file_extension": ".py",
   "mimetype": "text/x-python",
   "name": "python",
   "nbconvert_exporter": "python",
   "pygments_lexer": "ipython3",
   "version": "3.12.7"
  }
 },
 "nbformat": 4,
 "nbformat_minor": 5
}
