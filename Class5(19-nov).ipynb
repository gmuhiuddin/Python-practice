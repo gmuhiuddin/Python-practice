{
 "cells": [
  {
   "cell_type": "markdown",
   "id": "fa0997b5-4e09-499f-b8d2-3ceb0ce464fb",
   "metadata": {},
   "source": [
    "# Python dictionary\n",
    " - {}\n",
    " - (key-value)"
   ]
  },
  {
   "cell_type": "code",
   "execution_count": 8,
   "id": "e18f6342-4db6-4e3a-97ef-2a7734140e27",
   "metadata": {},
   "outputs": [],
   "source": [
    "# empty dictionary\n",
    "\n",
    "student1 = {}"
   ]
  },
  {
   "cell_type": "code",
   "execution_count": 6,
   "id": "7cb77c25-9c9b-4364-8bf4-2b662c6e4997",
   "metadata": {},
   "outputs": [
    {
     "data": {
      "text/plain": [
       "{}"
      ]
     },
     "execution_count": 6,
     "metadata": {},
     "output_type": "execute_result"
    }
   ],
   "source": [
    "student1"
   ]
  },
  {
   "cell_type": "code",
   "execution_count": 12,
   "id": "09d121ad-8678-486d-a773-a9fa5cd9c8af",
   "metadata": {},
   "outputs": [],
   "source": [
    "student1 = {\"name\": \"ghulam muhiuddin\"}"
   ]
  },
  {
   "cell_type": "code",
   "execution_count": 16,
   "id": "6a6b8fa0-8a20-4850-b601-aa648f51739b",
   "metadata": {},
   "outputs": [
    {
     "data": {
      "text/plain": [
       "{'name': 'ghulam muhiuddin'}"
      ]
     },
     "execution_count": 16,
     "metadata": {},
     "output_type": "execute_result"
    }
   ],
   "source": [
    "student1"
   ]
  },
  {
   "cell_type": "code",
   "execution_count": 24,
   "id": "fe8391d8-4bd8-4175-998d-98c6989134ef",
   "metadata": {},
   "outputs": [],
   "source": [
    "teacher = {\"name\": \"Nasir\", \"tid\": 123, \"age\": 30.5}"
   ]
  },
  {
   "cell_type": "code",
   "execution_count": 26,
   "id": "0a305087-ded3-46c8-8ab8-7f44447aa5eb",
   "metadata": {},
   "outputs": [
    {
     "data": {
      "text/plain": [
       "{'name': 'Nasir', 'tid': 123, 'age': 30.5}"
      ]
     },
     "execution_count": 26,
     "metadata": {},
     "output_type": "execute_result"
    }
   ],
   "source": [
    "teacher"
   ]
  },
  {
   "cell_type": "code",
   "execution_count": 28,
   "id": "0fa57474-9db3-4217-8842-b466a26d8066",
   "metadata": {},
   "outputs": [
    {
     "data": {
      "text/plain": [
       "3"
      ]
     },
     "execution_count": 28,
     "metadata": {},
     "output_type": "execute_result"
    }
   ],
   "source": [
    "len(teacher)"
   ]
  },
  {
   "cell_type": "code",
   "execution_count": 36,
   "id": "22b8b235-6abb-42ae-9878-5644e20959e8",
   "metadata": {},
   "outputs": [],
   "source": [
    "teacher[\"name\"] = \"bilal\""
   ]
  },
  {
   "cell_type": "code",
   "execution_count": 38,
   "id": "4ada4b36-129f-4b0f-9032-c885e5b4f76d",
   "metadata": {},
   "outputs": [
    {
     "data": {
      "text/plain": [
       "{'name': 'bilal', 'tid': 123, 'age': 30.5}"
      ]
     },
     "execution_count": 38,
     "metadata": {},
     "output_type": "execute_result"
    }
   ],
   "source": [
    "teacher"
   ]
  },
  {
   "cell_type": "code",
   "execution_count": 40,
   "id": "b28196cf-3f45-4ac2-b031-2ae82cc5420f",
   "metadata": {},
   "outputs": [],
   "source": [
    "teacher[\"course\"] = \"AI\""
   ]
  },
  {
   "cell_type": "code",
   "execution_count": 42,
   "id": "58eda322-e925-471c-8fa8-bada8fd75ee0",
   "metadata": {},
   "outputs": [
    {
     "data": {
      "text/plain": [
       "{'name': 'bilal', 'tid': 123, 'age': 30.5, 'course': 'AI'}"
      ]
     },
     "execution_count": 42,
     "metadata": {},
     "output_type": "execute_result"
    }
   ],
   "source": [
    "teacher"
   ]
  },
  {
   "cell_type": "code",
   "execution_count": 44,
   "id": "cc1debf4-c1e4-407f-ba3d-38c61f4de8cc",
   "metadata": {},
   "outputs": [
    {
     "data": {
      "text/plain": [
       "dict_keys(['name', 'tid', 'age', 'course'])"
      ]
     },
     "execution_count": 44,
     "metadata": {},
     "output_type": "execute_result"
    }
   ],
   "source": [
    "teacher.keys()"
   ]
  },
  {
   "cell_type": "code",
   "execution_count": 46,
   "id": "37eaf312-db72-4d81-b6ef-5fc124d28d0d",
   "metadata": {},
   "outputs": [
    {
     "data": {
      "text/plain": [
       "dict_values(['bilal', 123, 30.5, 'AI'])"
      ]
     },
     "execution_count": 46,
     "metadata": {},
     "output_type": "execute_result"
    }
   ],
   "source": [
    "teacher.values()"
   ]
  },
  {
   "cell_type": "code",
   "execution_count": 60,
   "id": "3b6fd3db-e9b6-4299-bc69-1a4f2e9ee410",
   "metadata": {},
   "outputs": [
    {
     "data": {
      "text/plain": [
       "dict_items([('name', 'bilal'), ('tid', 123), ('age', 30.5), ('course', 'AI')])"
      ]
     },
     "execution_count": 60,
     "metadata": {},
     "output_type": "execute_result"
    }
   ],
   "source": [
    "teacher.items()"
   ]
  },
  {
   "cell_type": "code",
   "execution_count": 56,
   "id": "6707ba6c-0125-4eeb-8ce2-4f1f4eb645d6",
   "metadata": {},
   "outputs": [
    {
     "data": {
      "text/plain": [
       "dict"
      ]
     },
     "execution_count": 56,
     "metadata": {},
     "output_type": "execute_result"
    }
   ],
   "source": [
    "type(teacher)"
   ]
  },
  {
   "cell_type": "code",
   "execution_count": 64,
   "id": "f508af1d-bf14-4372-9d09-ac7c8371c382",
   "metadata": {},
   "outputs": [
    {
     "data": {
      "text/plain": [
       "'bilal'"
      ]
     },
     "execution_count": 64,
     "metadata": {},
     "output_type": "execute_result"
    }
   ],
   "source": [
    "teacher.pop(\"name\")"
   ]
  },
  {
   "cell_type": "code",
   "execution_count": 66,
   "id": "b79e5034-1791-4211-ad4d-90883a257e80",
   "metadata": {},
   "outputs": [
    {
     "data": {
      "text/plain": [
       "{'tid': 123, 'age': 30.5, 'course': 'AI'}"
      ]
     },
     "execution_count": 66,
     "metadata": {},
     "output_type": "execute_result"
    }
   ],
   "source": [
    "teacher"
   ]
  },
  {
   "cell_type": "code",
   "execution_count": 68,
   "id": "fb7b1534-e01d-4b99-babe-c96abd1042f4",
   "metadata": {},
   "outputs": [],
   "source": [
    "teacher[\"name\"] = \"nasir\""
   ]
  },
  {
   "cell_type": "code",
   "execution_count": 70,
   "id": "d73be406-dc73-4b9a-ac32-77f44e87513d",
   "metadata": {},
   "outputs": [
    {
     "data": {
      "text/plain": [
       "{'tid': 123, 'age': 30.5, 'course': 'AI', 'name': 'nasir'}"
      ]
     },
     "execution_count": 70,
     "metadata": {},
     "output_type": "execute_result"
    }
   ],
   "source": [
    "teacher"
   ]
  },
  {
   "cell_type": "code",
   "execution_count": 72,
   "id": "d3121468-9cd0-48ae-ac39-778ff8222fc1",
   "metadata": {},
   "outputs": [
    {
     "data": {
      "text/plain": [
       "('name', 'nasir')"
      ]
     },
     "execution_count": 72,
     "metadata": {},
     "output_type": "execute_result"
    }
   ],
   "source": [
    "teacher.popitem()"
   ]
  },
  {
   "cell_type": "code",
   "execution_count": 76,
   "id": "3f5ace9e-d67b-4d96-9ebc-80e680882c77",
   "metadata": {},
   "outputs": [
    {
     "data": {
      "text/plain": [
       "{'tid': 123, 'age': 30.5, 'course': 'AI'}"
      ]
     },
     "execution_count": 76,
     "metadata": {},
     "output_type": "execute_result"
    }
   ],
   "source": [
    "teacher"
   ]
  },
  {
   "cell_type": "code",
   "execution_count": 78,
   "id": "1a2bfff4-8e3e-4836-bc45-b070f78c2294",
   "metadata": {},
   "outputs": [],
   "source": [
    "del teacher['age']"
   ]
  },
  {
   "cell_type": "code",
   "execution_count": 80,
   "id": "733ac38b-7867-4e66-9350-e12107200c08",
   "metadata": {},
   "outputs": [
    {
     "data": {
      "text/plain": [
       "{'tid': 123, 'course': 'AI'}"
      ]
     },
     "execution_count": 80,
     "metadata": {},
     "output_type": "execute_result"
    }
   ],
   "source": [
    "teacher"
   ]
  },
  {
   "cell_type": "code",
   "execution_count": 82,
   "id": "63e4a4e3-b6f6-4298-8f3f-8d98484e17ae",
   "metadata": {},
   "outputs": [],
   "source": [
    "teacher_detail = {\n",
    "    \"email\": \"abw@gmail.com\",\n",
    "    \"maritial-status\": \"married\"\n",
    "}"
   ]
  },
  {
   "cell_type": "code",
   "execution_count": 84,
   "id": "14e32852-fa03-475f-a963-f6082bf86514",
   "metadata": {},
   "outputs": [],
   "source": [
    "teacher[\"detail\"] = teacher_detail"
   ]
  },
  {
   "cell_type": "code",
   "execution_count": 86,
   "id": "197095b0-a4d9-4355-b01c-e9aba6f380fe",
   "metadata": {},
   "outputs": [
    {
     "data": {
      "text/plain": [
       "{'tid': 123,\n",
       " 'course': 'AI',\n",
       " 'detail': {'email': 'abw@gmail.com', 'maritial-status': 'married'}}"
      ]
     },
     "execution_count": 86,
     "metadata": {},
     "output_type": "execute_result"
    }
   ],
   "source": [
    "teacher"
   ]
  },
  {
   "cell_type": "code",
   "execution_count": 88,
   "id": "3bcf5bff-f16d-48a0-9eaa-8725f7e3454b",
   "metadata": {},
   "outputs": [],
   "source": [
    "teacher.update(teacher_detail)"
   ]
  },
  {
   "cell_type": "code",
   "execution_count": 90,
   "id": "9b2db620-0638-4086-acec-f72ec9cc2d71",
   "metadata": {},
   "outputs": [
    {
     "data": {
      "text/plain": [
       "{'tid': 123,\n",
       " 'course': 'AI',\n",
       " 'detail': {'email': 'abw@gmail.com', 'maritial-status': 'married'},\n",
       " 'email': 'abw@gmail.com',\n",
       " 'maritial-status': 'married'}"
      ]
     },
     "execution_count": 90,
     "metadata": {},
     "output_type": "execute_result"
    }
   ],
   "source": [
    "teacher"
   ]
  },
  {
   "cell_type": "code",
   "execution_count": 94,
   "id": "7d33e343-4841-44a5-99e6-32757f32611f",
   "metadata": {},
   "outputs": [],
   "source": [
    "del teacher[\"detail\"]"
   ]
  },
  {
   "cell_type": "code",
   "execution_count": 96,
   "id": "253e43bf-d3e9-4ea5-9a46-3149de5b2939",
   "metadata": {},
   "outputs": [
    {
     "data": {
      "text/plain": [
       "{'tid': 123,\n",
       " 'course': 'AI',\n",
       " 'email': 'abw@gmail.com',\n",
       " 'maritial-status': 'married'}"
      ]
     },
     "execution_count": 96,
     "metadata": {},
     "output_type": "execute_result"
    }
   ],
   "source": [
    "teacher"
   ]
  },
  {
   "cell_type": "code",
   "execution_count": 102,
   "id": "e498aec7-dd35-4e30-a6bd-d3055962c8ab",
   "metadata": {},
   "outputs": [
    {
     "data": {
      "text/plain": [
       "'abw@gmail.com'"
      ]
     },
     "execution_count": 102,
     "metadata": {},
     "output_type": "execute_result"
    }
   ],
   "source": [
    "teacher.pop(\"email\")"
   ]
  },
  {
   "cell_type": "code",
   "execution_count": 104,
   "id": "7db1ea58-c595-4926-a8ad-114f7cbb2f76",
   "metadata": {},
   "outputs": [
    {
     "data": {
      "text/plain": [
       "{'tid': 123, 'course': 'AI', 'maritial-status': 'married'}"
      ]
     },
     "execution_count": 104,
     "metadata": {},
     "output_type": "execute_result"
    }
   ],
   "source": [
    "teacher"
   ]
  },
  {
   "cell_type": "code",
   "execution_count": 106,
   "id": "0d833921-24e3-4801-868c-433a6d455d63",
   "metadata": {},
   "outputs": [],
   "source": [
    "aList = [5, 10, 15, 25]"
   ]
  },
  {
   "cell_type": "code",
   "execution_count": 108,
   "id": "2f043cff-bed0-4805-b183-164cd8afeb4f",
   "metadata": {},
   "outputs": [
    {
     "data": {
      "text/plain": [
       "[5, 10]"
      ]
     },
     "execution_count": 108,
     "metadata": {},
     "output_type": "execute_result"
    }
   ],
   "source": [
    "aList[0:2]"
   ]
  },
  {
   "cell_type": "code",
   "execution_count": 112,
   "id": "37ca7995-9a6a-46b6-8f33-a4e20b580ba0",
   "metadata": {},
   "outputs": [],
   "source": [
    "aList[0:2] = [1]"
   ]
  },
  {
   "cell_type": "code",
   "execution_count": 114,
   "id": "69de212e-88b1-47c2-827b-3166ee99240e",
   "metadata": {},
   "outputs": [
    {
     "data": {
      "text/plain": [
       "[1, 15, 25]"
      ]
     },
     "execution_count": 114,
     "metadata": {},
     "output_type": "execute_result"
    }
   ],
   "source": [
    "aList"
   ]
  },
  {
   "cell_type": "code",
   "execution_count": 116,
   "id": "0967890f-f929-4fcb-a138-d98a0207949d",
   "metadata": {},
   "outputs": [],
   "source": [
    "bList = aList[0:2]"
   ]
  },
  {
   "cell_type": "code",
   "execution_count": 118,
   "id": "2ea63c01-daf4-48ac-8bd7-048fdf8355b9",
   "metadata": {},
   "outputs": [
    {
     "data": {
      "text/plain": [
       "[1, 15]"
      ]
     },
     "execution_count": 118,
     "metadata": {},
     "output_type": "execute_result"
    }
   ],
   "source": [
    "bList"
   ]
  },
  {
   "cell_type": "code",
   "execution_count": 120,
   "id": "1c83969e-2333-49d9-989a-d7f571d51926",
   "metadata": {},
   "outputs": [],
   "source": [
    "bList.append(100)"
   ]
  },
  {
   "cell_type": "code",
   "execution_count": 122,
   "id": "2a705565-52c3-41e5-852c-4f9ff49e428d",
   "metadata": {},
   "outputs": [
    {
     "data": {
      "text/plain": [
       "[1, 15, 100]"
      ]
     },
     "execution_count": 122,
     "metadata": {},
     "output_type": "execute_result"
    }
   ],
   "source": [
    "bList"
   ]
  },
  {
   "cell_type": "code",
   "execution_count": 124,
   "id": "332b03a4-71d5-4ec9-b878-0a1261250e63",
   "metadata": {},
   "outputs": [
    {
     "data": {
      "text/plain": [
       "[1, 15, 25]"
      ]
     },
     "execution_count": 124,
     "metadata": {},
     "output_type": "execute_result"
    }
   ],
   "source": [
    "aList"
   ]
  },
  {
   "cell_type": "code",
   "execution_count": 126,
   "id": "2b29a0e9-ed36-4609-b5f2-6739fcce6665",
   "metadata": {},
   "outputs": [
    {
     "data": {
      "text/plain": [
       "2376147952256"
      ]
     },
     "execution_count": 126,
     "metadata": {},
     "output_type": "execute_result"
    }
   ],
   "source": [
    "id(aList)"
   ]
  },
  {
   "cell_type": "code",
   "execution_count": 128,
   "id": "962daded-2806-4986-845f-f8c93e71c54a",
   "metadata": {},
   "outputs": [
    {
     "ename": "NameError",
     "evalue": "name 'bLIst' is not defined",
     "output_type": "error",
     "traceback": [
      "\u001b[1;31m---------------------------------------------------------------------------\u001b[0m",
      "\u001b[1;31mNameError\u001b[0m                                 Traceback (most recent call last)",
      "Cell \u001b[1;32mIn[128], line 1\u001b[0m\n\u001b[1;32m----> 1\u001b[0m \u001b[38;5;28mid\u001b[39m(bLIst)\n",
      "\u001b[1;31mNameError\u001b[0m: name 'bLIst' is not defined"
     ]
    }
   ],
   "source": [
    "id(bLIst)"
   ]
  },
  {
   "cell_type": "code",
   "execution_count": null,
   "id": "e74ae221-431b-4069-bad6-e408aaed8f3e",
   "metadata": {},
   "outputs": [],
   "source": []
  }
 ],
 "metadata": {
  "kernelspec": {
   "display_name": "Python 3 (ipykernel)",
   "language": "python",
   "name": "python3"
  },
  "language_info": {
   "codemirror_mode": {
    "name": "ipython",
    "version": 3
   },
   "file_extension": ".py",
   "mimetype": "text/x-python",
   "name": "python",
   "nbconvert_exporter": "python",
   "pygments_lexer": "ipython3",
   "version": "3.12.7"
  }
 },
 "nbformat": 4,
 "nbformat_minor": 5
}
