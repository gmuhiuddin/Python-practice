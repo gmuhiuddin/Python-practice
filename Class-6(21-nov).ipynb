{
 "cells": [
  {
   "cell_type": "markdown",
   "id": "90bfe1ec-3b40-4507-9080-f6620023a7c4",
   "metadata": {},
   "source": [
    "# List in dictionary\n",
    "# Dictionary in list\n",
    "# Dictionary in dictionary"
   ]
  },
  {
   "cell_type": "code",
   "execution_count": 9,
   "id": "0f374c96-a27c-4aaa-b898-6fd53eb56480",
   "metadata": {},
   "outputs": [],
   "source": [
    "result = {\n",
    "    \"roll\": [1, 2, 3, 4, 5],\n",
    "    \"name\": [\"Ali\", \"Asad\", \"Saad\", \"Umar\", \"Bilal\"],\n",
    "    \"course\": [\"Python\", \"Stats\", \"ML\", \"AI\", \"Python\"],\n",
    "    \"marks\": [32, 45, 42, 45, 31, 20]\n",
    "}"
   ]
  },
  {
   "cell_type": "code",
   "execution_count": 21,
   "id": "60f160c3-3313-49aa-a955-74130c403fdf",
   "metadata": {},
   "outputs": [],
   "source": [
    "result[\"name\"].append(\"gmuhiuddin\")"
   ]
  },
  {
   "cell_type": "code",
   "execution_count": 25,
   "id": "c3b4866c-79d1-424c-9bbf-60b67dbcb8c2",
   "metadata": {},
   "outputs": [
    {
     "data": {
      "text/plain": [
       "['Ali', 'Asad', 'Saad', 'Umar', 'Bilal', 'gmuhiuddin']"
      ]
     },
     "execution_count": 25,
     "metadata": {},
     "output_type": "execute_result"
    }
   ],
   "source": [
    "result[\"name\"]"
   ]
  },
  {
   "cell_type": "markdown",
   "id": "a9b08755-341c-4198-aaa8-0869103ed4ad",
   "metadata": {},
   "source": [
    "# Dictionary in Dictionary"
   ]
  },
  {
   "cell_type": "code",
   "execution_count": 42,
   "id": "ed6e5a41-513a-4dc6-9f2a-8a928417d9af",
   "metadata": {},
   "outputs": [],
   "source": [
    "dict_in_dict = {\n",
    "    \"student1\": {\n",
    "        \"name\": \"Bilal\",\n",
    "        \"roll\": 123\n",
    "    },\n",
    "    \"student2\": {\n",
    "        \"name\": \"Ali\",\n",
    "        \"roll\": 124\n",
    "    },\n",
    "     \"student3\": {\n",
    "        \"name\": \"Taha\",\n",
    "        \",l'\": 125\n",
    "    },\n",
    "}"
   ]
  },
  {
   "cell_type": "code",
   "execution_count": 44,
   "id": "7989e053-7f53-411a-85b2-9195ae641ae6",
   "metadata": {},
   "outputs": [
    {
     "data": {
      "text/plain": [
       "{'student1': {'name': 'Bilal', 'roll': 123},\n",
       " 'student2': {'name': 'Ali', 'roll': 124},\n",
       " 'student3': {'name': 'Taha', 'roll': 125}}"
      ]
     },
     "execution_count": 44,
     "metadata": {},
     "output_type": "execute_result"
    }
   ],
   "source": [
    "dict_in_dict"
   ]
  },
  {
   "cell_type": "code",
   "execution_count": 46,
   "id": "6ed99143-50ad-4fdb-b525-10cfa15e2f3c",
   "metadata": {},
   "outputs": [
    {
     "data": {
      "text/plain": [
       "'Ali'"
      ]
     },
     "execution_count": 46,
     "metadata": {},
     "output_type": "execute_result"
    }
   ],
   "source": [
    "dict_in_dict[\"student2\"][\"name\"]"
   ]
  },
  {
   "cell_type": "markdown",
   "id": "f6595a31-c355-4cb3-8933-5fd1d809421b",
   "metadata": {},
   "source": [
    "# Tuple\n",
    "  - immutable\n",
    "  - iterable\n",
    "  - (v1, v2, v3)"
   ]
  },
  {
   "cell_type": "code",
   "execution_count": 51,
   "id": "4f6be811-92fb-4b84-a85a-6019acbb2e79",
   "metadata": {},
   "outputs": [],
   "source": [
    "atuple = ()"
   ]
  },
  {
   "cell_type": "code",
   "execution_count": 87,
   "id": "7ef8a647-6440-46e0-8174-9f762e5288ff",
   "metadata": {},
   "outputs": [
    {
     "data": {
      "text/plain": [
       "()"
      ]
     },
     "execution_count": 87,
     "metadata": {},
     "output_type": "execute_result"
    }
   ],
   "source": [
    "atuple"
   ]
  },
  {
   "cell_type": "code",
   "execution_count": 89,
   "id": "618a49c3-78ad-42ae-8e9b-16eef4132c64",
   "metadata": {},
   "outputs": [
    {
     "ename": "ValueError",
     "evalue": "tuple.index(x): x not in tuple",
     "output_type": "error",
     "traceback": [
      "\u001b[1;31m---------------------------------------------------------------------------\u001b[0m",
      "\u001b[1;31mValueError\u001b[0m                                Traceback (most recent call last)",
      "Cell \u001b[1;32mIn[89], line 1\u001b[0m\n\u001b[1;32m----> 1\u001b[0m atuple\u001b[38;5;241m.\u001b[39mindex(\u001b[38;5;124m\"\u001b[39m\u001b[38;5;124mA\u001b[39m\u001b[38;5;124m\"\u001b[39m)\n",
      "\u001b[1;31mValueError\u001b[0m: tuple.index(x): x not in tuple"
     ]
    }
   ],
   "source": [
    "atuple.index(\"A\")"
   ]
  },
  {
   "cell_type": "code",
   "execution_count": 75,
   "id": "46db04e9-2cf9-403e-b8c9-4b37db8cc2ff",
   "metadata": {},
   "outputs": [],
   "source": [
    "btuple = (25,)"
   ]
  },
  {
   "cell_type": "code",
   "execution_count": 77,
   "id": "6f008e0c-ef11-4b13-9d4d-bc848455eab9",
   "metadata": {},
   "outputs": [
    {
     "data": {
      "text/plain": [
       "(25,)"
      ]
     },
     "execution_count": 77,
     "metadata": {},
     "output_type": "execute_result"
    }
   ],
   "source": [
    "btuple"
   ]
  },
  {
   "cell_type": "code",
   "execution_count": 79,
   "id": "df0a2ab8-95ae-46ef-89c3-41f1c3dbb030",
   "metadata": {},
   "outputs": [
    {
     "data": {
      "text/plain": [
       "[]"
      ]
     },
     "execution_count": 79,
     "metadata": {},
     "output_type": "execute_result"
    }
   ],
   "source": [
    "list()"
   ]
  },
  {
   "cell_type": "code",
   "execution_count": 81,
   "id": "905d9ced-f2a7-4490-8153-c326164f6dad",
   "metadata": {},
   "outputs": [
    {
     "data": {
      "text/plain": [
       "1.1"
      ]
     },
     "execution_count": 81,
     "metadata": {},
     "output_type": "execute_result"
    }
   ],
   "source": [
    "float(1.1)"
   ]
  },
  {
   "cell_type": "code",
   "execution_count": 10,
   "id": "e5dec3ae-6605-4903-863c-601d59fa7eb9",
   "metadata": {},
   "outputs": [
    {
     "data": {
      "text/plain": [
       "('1', 'a')"
      ]
     },
     "execution_count": 10,
     "metadata": {},
     "output_type": "execute_result"
    }
   ],
   "source": [
    "tuple({\"a\", \"1\"})"
   ]
  },
  {
   "cell_type": "code",
   "execution_count": 20,
   "id": "026cf72b-f2e4-4e67-b376-113c33f9c923",
   "metadata": {},
   "outputs": [],
   "source": [
    "set1 = {1,2,3,4,}"
   ]
  },
  {
   "cell_type": "code",
   "execution_count": 28,
   "id": "74aae0d3-61c4-4d33-94c5-61b317058747",
   "metadata": {},
   "outputs": [
    {
     "data": {
      "text/plain": [
       "{1, 2, 3, 4}"
      ]
     },
     "execution_count": 28,
     "metadata": {},
     "output_type": "execute_result"
    }
   ],
   "source": [
    "set1"
   ]
  },
  {
   "cell_type": "code",
   "execution_count": 30,
   "id": "2c26153a-ac93-4c86-95db-b26becb28c0a",
   "metadata": {},
   "outputs": [],
   "source": [
    "a = 1,2,3,4"
   ]
  },
  {
   "cell_type": "code",
   "execution_count": 36,
   "id": "2badb769-2f60-45a6-b278-828e9e639913",
   "metadata": {},
   "outputs": [
    {
     "data": {
      "text/plain": [
       "'1'"
      ]
     },
     "execution_count": 36,
     "metadata": {},
     "output_type": "execute_result"
    }
   ],
   "source": [
    "a"
   ]
  },
  {
   "cell_type": "markdown",
   "id": "b3b15bdb-548a-4cf8-8b4b-40b2e0c42d8c",
   "metadata": {},
   "source": [
    "# Conditional Statements / if statements / if class"
   ]
  },
  {
   "cell_type": "code",
   "execution_count": null,
   "id": "a492ca65-510b-44d8-a26f-61f14ed52abf",
   "metadata": {},
   "outputs": [],
   "source": [
    "age = float(input(\"Enter your age: \"))\n",
    "\n",
    "if age > 18:\n",
    "    print(\"Adult\")\n",
    "else:\n",
    "    print(\"children\")"
   ]
  },
  {
   "cell_type": "code",
   "execution_count": null,
   "id": "3a8e5d78-fae9-45e8-8cb1-39a61b7f7ba0",
   "metadata": {},
   "outputs": [],
   "source": [
    "guests = [\"ali\", \"bilal\", \"rashid\", \"kamran\"]"
   ]
  },
  {
   "cell_type": "code",
   "execution_count": 16,
   "id": "35ac6f50-8c4d-4da7-8025-d1c3832005b9",
   "metadata": {},
   "outputs": [
    {
     "name": "stdout",
     "output_type": "stream",
     "text": [
      "A\n"
     ]
    }
   ],
   "source": [
    "print(\"A\")"
   ]
  },
  {
   "cell_type": "code",
   "execution_count": 18,
   "id": "c126b43a-e9b2-47a0-b47e-68d8dc557eaf",
   "metadata": {},
   "outputs": [
    {
     "name": "stdout",
     "output_type": "stream",
     "text": [
      "A\n"
     ]
    }
   ],
   "source": [
    "print(\"A\")"
   ]
  },
  {
   "cell_type": "code",
   "execution_count": 34,
   "id": "0a5b7803-2b7a-462a-9ee7-81e8ada019e1",
   "metadata": {},
   "outputs": [],
   "source": [
    "a = \"1\""
   ]
  },
  {
   "cell_type": "code",
   "execution_count": 38,
   "id": "ca742746-d3ca-4385-bb93-55759ed4097b",
   "metadata": {},
   "outputs": [],
   "source": [
    "a = (1, 3)"
   ]
  },
  {
   "cell_type": "code",
   "execution_count": 40,
   "id": "3dcb95d3-567e-4107-9c53-403d0f048d91",
   "metadata": {},
   "outputs": [
    {
     "data": {
      "text/plain": [
       "3"
      ]
     },
     "execution_count": 40,
     "metadata": {},
     "output_type": "execute_result"
    }
   ],
   "source": [
    "a[1]"
   ]
  },
  {
   "cell_type": "code",
   "execution_count": 42,
   "id": "551490dd-8617-4e65-95f2-aa0a7000d989",
   "metadata": {},
   "outputs": [],
   "source": [
    "a = \"a\""
   ]
  },
  {
   "cell_type": "code",
   "execution_count": 44,
   "id": "abf44244-8574-4fe3-b5a2-7dcb38598f9c",
   "metadata": {},
   "outputs": [
    {
     "data": {
      "text/plain": [
       "'a'"
      ]
     },
     "execution_count": 44,
     "metadata": {},
     "output_type": "execute_result"
    }
   ],
   "source": [
    "a"
   ]
  },
  {
   "cell_type": "code",
   "execution_count": 46,
   "id": "8ba18d10-1b30-456c-a26a-e85431f52f5d",
   "metadata": {},
   "outputs": [],
   "source": [
    "a = 1, 2,3"
   ]
  },
  {
   "cell_type": "code",
   "execution_count": 48,
   "id": "4fc60ad8-5a47-4be6-b589-cd5d99031ff9",
   "metadata": {},
   "outputs": [
    {
     "data": {
      "text/plain": [
       "(1, 2, 3)"
      ]
     },
     "execution_count": 48,
     "metadata": {},
     "output_type": "execute_result"
    }
   ],
   "source": [
    "a"
   ]
  },
  {
   "cell_type": "code",
   "execution_count": 50,
   "id": "6b983722-0198-4782-81e3-a9c6f528edea",
   "metadata": {},
   "outputs": [
    {
     "data": {
      "text/plain": [
       "1"
      ]
     },
     "execution_count": 50,
     "metadata": {},
     "output_type": "execute_result"
    }
   ],
   "source": [
    "a.count(1)"
   ]
  },
  {
   "cell_type": "code",
   "execution_count": 52,
   "id": "adcb5fe7-0088-4299-86a7-e4aa62586541",
   "metadata": {},
   "outputs": [
    {
     "data": {
      "text/plain": [
       "0"
      ]
     },
     "execution_count": 52,
     "metadata": {},
     "output_type": "execute_result"
    }
   ],
   "source": [
    "a.count(23)"
   ]
  },
  {
   "cell_type": "code",
   "execution_count": 54,
   "id": "315b3809-a342-46ef-8d9b-72f077e1b656",
   "metadata": {},
   "outputs": [
    {
     "data": {
      "text/plain": [
       "0"
      ]
     },
     "execution_count": 54,
     "metadata": {},
     "output_type": "execute_result"
    }
   ],
   "source": [
    "a.index(1)"
   ]
  },
  {
   "cell_type": "code",
   "execution_count": 63,
   "id": "beda84ee-26cd-4137-9b31-19c03308f6b5",
   "metadata": {},
   "outputs": [
    {
     "ename": "ValueError",
     "evalue": "tuple.index(x): x not in tuple",
     "output_type": "error",
     "traceback": [
      "\u001b[1;31m---------------------------------------------------------------------------\u001b[0m",
      "\u001b[1;31mValueError\u001b[0m                                Traceback (most recent call last)",
      "Cell \u001b[1;32mIn[63], line 1\u001b[0m\n\u001b[1;32m----> 1\u001b[0m a\u001b[38;5;241m.\u001b[39mindex(\u001b[38;5;241m4\u001b[39m)\n",
      "\u001b[1;31mValueError\u001b[0m: tuple.index(x): x not in tuple"
     ]
    }
   ],
   "source": [
    "a.index(4)"
   ]
  },
  {
   "cell_type": "code",
   "execution_count": null,
   "id": "aa785215-5c4c-4352-bcfc-87f78245651d",
   "metadata": {},
   "outputs": [],
   "source": []
  }
 ],
 "metadata": {
  "kernelspec": {
   "display_name": "Python 3 (ipykernel)",
   "language": "python",
   "name": "python3"
  },
  "language_info": {
   "codemirror_mode": {
    "name": "ipython",
    "version": 3
   },
   "file_extension": ".py",
   "mimetype": "text/x-python",
   "name": "python",
   "nbconvert_exporter": "python",
   "pygments_lexer": "ipython3",
   "version": "3.12.7"
  }
 },
 "nbformat": 4,
 "nbformat_minor": 5
}
