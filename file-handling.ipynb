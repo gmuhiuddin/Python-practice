{
 "cells": [
  {
   "cell_type": "code",
   "execution_count": 37,
   "id": "ac0b84ec-506d-401a-833f-c2c7436a89da",
   "metadata": {},
   "outputs": [
    {
     "name": "stdout",
     "output_type": "stream",
     "text": [
      "Ghulam\n",
      "GhulamGhulam\n"
     ]
    }
   ],
   "source": [
    "f=open(\"myfile.txt\", \"r+\")\n",
    "print(f.read())\n",
    "f.write(\"Ghulam\")\n",
    "f.seek(0)\n",
    "print(f.read())\n",
    "f.close()"
   ]
  },
  {
   "cell_type": "code",
   "execution_count": 41,
   "id": "520f478e-b006-415d-9df6-f6803b46a837",
   "metadata": {},
   "outputs": [
    {
     "ename": "UnsupportedOperation",
     "evalue": "not readable",
     "output_type": "error",
     "traceback": [
      "\u001b[1;31m---------------------------------------------------------------------------\u001b[0m",
      "\u001b[1;31mUnsupportedOperation\u001b[0m                      Traceback (most recent call last)",
      "Cell \u001b[1;32mIn[41], line 2\u001b[0m\n\u001b[0;32m      1\u001b[0m f\u001b[38;5;241m=\u001b[39m\u001b[38;5;28mopen\u001b[39m(\u001b[38;5;124m\"\u001b[39m\u001b[38;5;124mmyfile.txt\u001b[39m\u001b[38;5;124m\"\u001b[39m, \u001b[38;5;124m\"\u001b[39m\u001b[38;5;124ma\u001b[39m\u001b[38;5;124m\"\u001b[39m)\n\u001b[1;32m----> 2\u001b[0m \u001b[38;5;28mprint\u001b[39m(f\u001b[38;5;241m.\u001b[39mread())\n\u001b[0;32m      3\u001b[0m f\u001b[38;5;241m.\u001b[39mwrite(\u001b[38;5;124m\"\u001b[39m\u001b[38;5;124mGhulam\u001b[39m\u001b[38;5;124m\"\u001b[39m)\n\u001b[0;32m      4\u001b[0m f\u001b[38;5;241m.\u001b[39mseek(\u001b[38;5;241m0\u001b[39m)\n",
      "\u001b[1;31mUnsupportedOperation\u001b[0m: not readable"
     ]
    }
   ],
   "source": [
    "f=open(\"myfile.txt\", \"a\")\n",
    "print(f.read())\n",
    "f.write(\"Ghulam\")\n",
    "f.seek(0)\n",
    "print(f.read())\n",
    "f.close()"
   ]
  },
  {
   "cell_type": "code",
   "execution_count": 14,
   "id": "127eb3d1-7808-4082-9259-82bc2ef71ef5",
   "metadata": {},
   "outputs": [],
   "source": [
    "# f=open(\"myfile.txt\", \"w\")\n",
    "# f.write(\"asdf\")\n",
    "# f.close()\n",
    "# print(f.read())"
   ]
  },
  {
   "cell_type": "code",
   "execution_count": 62,
   "id": "066e2fb1-4abc-4062-af70-9a48c297c063",
   "metadata": {},
   "outputs": [],
   "source": [
    "banking_file=open(\"banking_file\", \"a\")\n",
    "\n",
    "banking_file.write(\"[{'name': 'Ghulam Muhiuddin','cnic': '123123','accNo': 123}]\")\n",
    "\n",
    "banking_file.close()"
   ]
  },
  {
   "cell_type": "code",
   "execution_count": 2,
   "id": "11b8d7c8-f56e-4cec-bcfb-7acde1b015fb",
   "metadata": {},
   "outputs": [
    {
     "name": "stdout",
     "output_type": "stream",
     "text": [
      "[{'name': 'Ghulam Muhiuddin', 'cnic': '123123', 'accNo': 123}, {'name': 'Ghulam Muhiuddin', 'cnic': '123123', 'accNo': 123}]\n",
      "1 {'name': 'Ghulam Muhiuddin', 'cnic': '123123', 'accNo': 123}\n",
      "2 {'name': 'Ghulam Muhiuddin', 'cnic': '123123', 'accNo': 123}\n"
     ]
    }
   ],
   "source": [
    "# from ast import literal_eval\n",
    "\n",
    "banking_file=open(\"banking_file\")\n",
    "file_content_str = banking_file.read() or \"[]\"\n",
    "file_d = eval(file_content_str)\n",
    "print(file_d)\n",
    "# print(literal_eval(file_d))\n",
    "\n",
    "# ast.literal_eval(\"[{'muffin' : 'lolz', 'foo' : 'kitty'}]\")\n",
    "# file_d\n",
    "# eval()\n",
    "\n",
    "for i,file_c in enumerate(file_d, 1):\n",
    "    print(i, file_c)"
   ]
  },
  {
   "cell_type": "code",
   "execution_count": 18,
   "id": "0f3c61b2-1f30-4e5d-a03f-46ce0bdf085b",
   "metadata": {},
   "outputs": [
    {
     "data": {
      "text/plain": [
       "({'name': 'ghulam'},)"
      ]
     },
     "execution_count": 18,
     "metadata": {},
     "output_type": "execute_result"
    }
   ],
   "source": [
    "eval(\"({'name': 'ghulam'},)\")"
   ]
  },
  {
   "cell_type": "code",
   "execution_count": null,
   "id": "27f003eb-3732-45e2-b5b9-454c79ba11e1",
   "metadata": {},
   "outputs": [],
   "source": []
  }
 ],
 "metadata": {
  "kernelspec": {
   "display_name": "Python 3 (ipykernel)",
   "language": "python",
   "name": "python3"
  },
  "language_info": {
   "codemirror_mode": {
    "name": "ipython",
    "version": 3
   },
   "file_extension": ".py",
   "mimetype": "text/x-python",
   "name": "python",
   "nbconvert_exporter": "python",
   "pygments_lexer": "ipython3",
   "version": "3.12.7"
  }
 },
 "nbformat": 4,
 "nbformat_minor": 5
}
