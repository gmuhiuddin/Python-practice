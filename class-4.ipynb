{
 "cells": [
  {
   "cell_type": "code",
   "execution_count": 2,
   "id": "3cb14165-7b92-4c09-97f4-13a160fe13ef",
   "metadata": {},
   "outputs": [
    {
     "name": "stdout",
     "output_type": "stream",
     "text": [
      "range(1, 5)\n"
     ]
    }
   ],
   "source": [
    "print(range(1, 5))"
   ]
  },
  {
   "cell_type": "code",
   "execution_count": 8,
   "id": "41b0a63d-242c-421a-8b3d-fc096bd225bf",
   "metadata": {},
   "outputs": [],
   "source": [
    "student = {\n",
    "    \"name\": \"ghulam muhiuddin\"\n",
    "}"
   ]
  },
  {
   "cell_type": "code",
   "execution_count": 10,
   "id": "e75b8328-0a8e-4037-8516-81cc973e97ad",
   "metadata": {},
   "outputs": [
    {
     "data": {
      "text/plain": [
       "{'name': 'ghulam muhiuddin'}"
      ]
     },
     "execution_count": 10,
     "metadata": {},
     "output_type": "execute_result"
    }
   ],
   "source": [
    "student"
   ]
  },
  {
   "cell_type": "code",
   "execution_count": 12,
   "id": "2f31f9ad-9028-4a20-8ca7-0f411db19589",
   "metadata": {},
   "outputs": [
    {
     "data": {
      "text/plain": [
       "dict"
      ]
     },
     "execution_count": 12,
     "metadata": {},
     "output_type": "execute_result"
    }
   ],
   "source": [
    "type(student)"
   ]
  },
  {
   "cell_type": "code",
   "execution_count": 14,
   "id": "44cd0ab5-b9b8-4dbb-8c39-f64984680ef9",
   "metadata": {},
   "outputs": [],
   "source": [
    "tupleExample = (1, 2)"
   ]
  },
  {
   "cell_type": "code",
   "execution_count": 16,
   "id": "df8b55c8-bce9-439a-8cd8-d40494ae2a1d",
   "metadata": {},
   "outputs": [
    {
     "data": {
      "text/plain": [
       "(1, 2)"
      ]
     },
     "execution_count": 16,
     "metadata": {},
     "output_type": "execute_result"
    }
   ],
   "source": [
    "tupleExample"
   ]
  },
  {
   "cell_type": "code",
   "execution_count": 18,
   "id": "b4616a3f-f3fa-4206-96d8-a6ec7b36dfea",
   "metadata": {},
   "outputs": [],
   "source": [
    "numbers = range(1, 10)"
   ]
  },
  {
   "cell_type": "code",
   "execution_count": 20,
   "id": "b575154e-9c1e-405b-9425-613caa3dbe80",
   "metadata": {},
   "outputs": [
    {
     "data": {
      "text/plain": [
       "range(1, 10)"
      ]
     },
     "execution_count": 20,
     "metadata": {},
     "output_type": "execute_result"
    }
   ],
   "source": [
    "numbers"
   ]
  },
  {
   "cell_type": "code",
   "execution_count": 22,
   "id": "c3be38ce-60f2-4f64-8349-02480d203c4e",
   "metadata": {},
   "outputs": [],
   "source": [
    "string = \"string\""
   ]
  },
  {
   "cell_type": "code",
   "execution_count": 24,
   "id": "7dcf26eb-1fbf-460e-8798-8d8264aa4f61",
   "metadata": {},
   "outputs": [
    {
     "data": {
      "text/plain": [
       "'string'"
      ]
     },
     "execution_count": 24,
     "metadata": {},
     "output_type": "execute_result"
    }
   ],
   "source": [
    "string"
   ]
  },
  {
   "cell_type": "code",
   "execution_count": 14,
   "id": "4e3b0a58-9baf-4d45-877e-8fb66b96920b",
   "metadata": {},
   "outputs": [],
   "source": [
    "students_name = [\"ghulam muhiuddin\", \"imran\"]"
   ]
  },
  {
   "cell_type": "code",
   "execution_count": 28,
   "id": "ccdd2af3-20a6-4f86-8acc-40cb2f7a8925",
   "metadata": {},
   "outputs": [
    {
     "data": {
      "text/plain": [
       "'imran'"
      ]
     },
     "execution_count": 28,
     "metadata": {},
     "output_type": "execute_result"
    }
   ],
   "source": [
    "students_name[-1]"
   ]
  },
  {
   "cell_type": "code",
   "execution_count": 30,
   "id": "eb2d3862-037f-40a0-8a98-0d3f08aab288",
   "metadata": {},
   "outputs": [
    {
     "data": {
      "text/plain": [
       "['ghulam muhiuddin', 'imran']"
      ]
     },
     "execution_count": 30,
     "metadata": {},
     "output_type": "execute_result"
    }
   ],
   "source": [
    "students_name[:2]"
   ]
  },
  {
   "cell_type": "code",
   "execution_count": 18,
   "id": "d33caa7c-df06-4435-ba8c-cf7fde608a5f",
   "metadata": {},
   "outputs": [],
   "source": [
    "students_name.append(\"bilal\")"
   ]
  },
  {
   "cell_type": "code",
   "execution_count": 36,
   "id": "c2ec5b84-0845-4dc2-83b6-4b4b9ae4bcb1",
   "metadata": {},
   "outputs": [
    {
     "data": {
      "text/plain": [
       "['ghulam muhiuddin', 'imran']"
      ]
     },
     "execution_count": 36,
     "metadata": {},
     "output_type": "execute_result"
    }
   ],
   "source": [
    "students_name[:2]"
   ]
  },
  {
   "cell_type": "code",
   "execution_count": 38,
   "id": "14edf99e-8372-4fa1-9778-5646610928e1",
   "metadata": {},
   "outputs": [
    {
     "data": {
      "text/plain": [
       "['ghulam muhiuddin', 'imran', 'bilal']"
      ]
     },
     "execution_count": 38,
     "metadata": {},
     "output_type": "execute_result"
    }
   ],
   "source": [
    "students_name"
   ]
  },
  {
   "cell_type": "code",
   "execution_count": 22,
   "id": "064b772e-0515-482b-88ff-55f6c94418ed",
   "metadata": {},
   "outputs": [
    {
     "name": "stdout",
     "output_type": "stream",
     "text": [
      "['ghulam muhiuddin', 'imran', 'bilal']\n"
     ]
    }
   ],
   "source": [
    "print(students_name)"
   ]
  },
  {
   "cell_type": "code",
   "execution_count": 26,
   "id": "09ff493d-a386-4366-9feb-475dbe23e7ee",
   "metadata": {},
   "outputs": [
    {
     "data": {
      "text/plain": [
       "['ghulam muhiuddin', 'imran', 'bilal', 'a', True]"
      ]
     },
     "execution_count": 26,
     "metadata": {},
     "output_type": "execute_result"
    }
   ],
   "source": [
    "students_name + [\"a\", True]"
   ]
  },
  {
   "cell_type": "code",
   "execution_count": 56,
   "id": "aa3bb30f-75ce-4566-9af0-ad83b39fbc68",
   "metadata": {},
   "outputs": [],
   "source": [
    "student_name = \"ghulam muhiuddin\""
   ]
  },
  {
   "cell_type": "code",
   "execution_count": 58,
   "id": "ca6d4062-0dcb-4018-b015-3b0fb5dd8235",
   "metadata": {},
   "outputs": [],
   "source": [
    "student_name_copy = student_name"
   ]
  },
  {
   "cell_type": "code",
   "execution_count": 60,
   "id": "6d865477-6150-4174-815a-48f4ff22eb37",
   "metadata": {},
   "outputs": [
    {
     "data": {
      "text/plain": [
       "'ghulam muhiuddin'"
      ]
     },
     "execution_count": 60,
     "metadata": {},
     "output_type": "execute_result"
    }
   ],
   "source": [
    "student_name_copy"
   ]
  },
  {
   "cell_type": "code",
   "execution_count": 62,
   "id": "3b3ee29b-e25c-4356-a775-d67a1f3dea2a",
   "metadata": {},
   "outputs": [
    {
     "data": {
      "text/plain": [
       "1588353446256"
      ]
     },
     "execution_count": 62,
     "metadata": {},
     "output_type": "execute_result"
    }
   ],
   "source": [
    "id(student_name)"
   ]
  },
  {
   "cell_type": "code",
   "execution_count": 64,
   "id": "c5fffd0e-fa8e-4fd4-acde-e0318d66fbd3",
   "metadata": {},
   "outputs": [
    {
     "data": {
      "text/plain": [
       "1588353446256"
      ]
     },
     "execution_count": 64,
     "metadata": {},
     "output_type": "execute_result"
    }
   ],
   "source": [
    "id(student_name_copy)"
   ]
  },
  {
   "cell_type": "code",
   "execution_count": 68,
   "id": "d60d82f7-a138-4495-99d6-d981cbd2394f",
   "metadata": {},
   "outputs": [],
   "source": [
    "student_name = \"bilal\""
   ]
  },
  {
   "cell_type": "code",
   "execution_count": 66,
   "id": "403212d5-e620-4f6f-9fdc-66b4b8e05939",
   "metadata": {},
   "outputs": [
    {
     "data": {
      "text/plain": [
       "'ghulam muhiuddin'"
      ]
     },
     "execution_count": 66,
     "metadata": {},
     "output_type": "execute_result"
    }
   ],
   "source": [
    "student_name_copy"
   ]
  },
  {
   "cell_type": "code",
   "execution_count": 70,
   "id": "0a9607ab-be3e-498b-8c1a-161a7b32a56e",
   "metadata": {},
   "outputs": [
    {
     "data": {
      "text/plain": [
       "1588352844928"
      ]
     },
     "execution_count": 70,
     "metadata": {},
     "output_type": "execute_result"
    }
   ],
   "source": [
    "id(student_name)"
   ]
  },
  {
   "cell_type": "code",
   "execution_count": 72,
   "id": "76bbf967-295a-41b4-ac71-39f7194cb736",
   "metadata": {},
   "outputs": [
    {
     "data": {
      "text/plain": [
       "1588353446256"
      ]
     },
     "execution_count": 72,
     "metadata": {},
     "output_type": "execute_result"
    }
   ],
   "source": [
    "id(student_name_copy)"
   ]
  },
  {
   "cell_type": "markdown",
   "id": "ebbf26c4-881a-4b7d-a4bc-7bb8dd39fd2f",
   "metadata": {},
   "source": [
    "# Python Collection\n",
    "  - list\n",
    "  - dictnory\n",
    "  - tuple\n",
    "  - set"
   ]
  },
  {
   "cell_type": "markdown",
   "id": "92d75041-af5e-4555-90bf-989f9169094c",
   "metadata": {},
   "source": [
    "# list\n",
    "  - list is python collection\n",
    "  - list can store many values\n",
    "  - list can store many data types\n",
    "  - list is mutable\n",
    "  - list is iterable is mean they can easily get only one value from collection"
   ]
  },
  {
   "cell_type": "code",
   "execution_count": 126,
   "id": "93614b2b-399a-4b6e-8864-16459b3eb944",
   "metadata": {},
   "outputs": [],
   "source": [
    "students = [\"bilal\", \"asad\", \"ali\"]"
   ]
  },
  {
   "cell_type": "code",
   "execution_count": 81,
   "id": "f1cf6265-2fde-4153-bc25-45e1d0286f15",
   "metadata": {},
   "outputs": [
    {
     "data": {
      "text/plain": [
       "['bilal', 'asad', 'ali']"
      ]
     },
     "execution_count": 81,
     "metadata": {},
     "output_type": "execute_result"
    }
   ],
   "source": [
    "students"
   ]
  },
  {
   "cell_type": "code",
   "execution_count": 83,
   "id": "1ded5c7c-4d24-4dc1-8b67-1a49b43ca1b3",
   "metadata": {},
   "outputs": [
    {
     "data": {
      "text/plain": [
       "'asad'"
      ]
     },
     "execution_count": 83,
     "metadata": {},
     "output_type": "execute_result"
    }
   ],
   "source": [
    "students[1]"
   ]
  },
  {
   "cell_type": "code",
   "execution_count": 85,
   "id": "a3b6e758-2da6-4095-bc70-78f07e40b49b",
   "metadata": {},
   "outputs": [
    {
     "data": {
      "text/plain": [
       "3"
      ]
     },
     "execution_count": 85,
     "metadata": {},
     "output_type": "execute_result"
    }
   ],
   "source": [
    "len(students)"
   ]
  },
  {
   "cell_type": "markdown",
   "id": "e1c23685-99d2-4626-85b8-58e5234ae7ad",
   "metadata": {},
   "source": [
    "## list adding methods\n",
    "   - append(value) add value on a very last of list\n",
    "   - insert(index, value) add value on a provided index\n",
    "   - extend(list2) adding many values but they store in a one list\n",
    "   - \"+\" concatinate two lists and return a new combined list"
   ]
  },
  {
   "cell_type": "code",
   "execution_count": 91,
   "id": "144e2fac-c908-413e-b6d2-6e13ac16844b",
   "metadata": {},
   "outputs": [
    {
     "data": {
      "text/plain": [
       "['bilal', 'asad', 'ali']"
      ]
     },
     "execution_count": 91,
     "metadata": {},
     "output_type": "execute_result"
    }
   ],
   "source": [
    "students"
   ]
  },
  {
   "cell_type": "code",
   "execution_count": 128,
   "id": "9dfec0f1-a94e-4fe0-8ecd-d21288a8be35",
   "metadata": {},
   "outputs": [],
   "source": [
    "students.append(\"hamid\")"
   ]
  },
  {
   "cell_type": "code",
   "execution_count": 95,
   "id": "80ff7d60-2f06-4db9-b7f9-a607e98bcc33",
   "metadata": {},
   "outputs": [
    {
     "data": {
      "text/plain": [
       "['bilal', 'asad', 'ali', 'hamid']"
      ]
     },
     "execution_count": 95,
     "metadata": {},
     "output_type": "execute_result"
    }
   ],
   "source": [
    "students"
   ]
  },
  {
   "cell_type": "code",
   "execution_count": 130,
   "id": "56bf18aa-ecbe-4cfb-9e60-38a9f30af67c",
   "metadata": {},
   "outputs": [],
   "source": [
    "students.insert(2, \"nasir\")"
   ]
  },
  {
   "cell_type": "code",
   "execution_count": 99,
   "id": "b1dd2107-a4f4-4d3c-b8f5-8c7da0fa74e4",
   "metadata": {},
   "outputs": [
    {
     "data": {
      "text/plain": [
       "['bilal', 'asad', 'nasir', 'ali', 'hamid']"
      ]
     },
     "execution_count": 99,
     "metadata": {},
     "output_type": "execute_result"
    }
   ],
   "source": [
    "students"
   ]
  },
  {
   "cell_type": "code",
   "execution_count": 132,
   "id": "f1c62be7-6329-493b-8ffe-bb6cc7401155",
   "metadata": {},
   "outputs": [],
   "source": [
    "students.extend([\"nadeem\", \"muneeb\"])"
   ]
  },
  {
   "cell_type": "code",
   "execution_count": 134,
   "id": "4645a2f7-65f1-44ac-8d8c-19ef74ac5dcd",
   "metadata": {},
   "outputs": [
    {
     "data": {
      "text/plain": [
       "['bilal', 'asad', 'nasir', 'ali', 'hamid', 'nadeem', 'muneeb']"
      ]
     },
     "execution_count": 134,
     "metadata": {},
     "output_type": "execute_result"
    }
   ],
   "source": [
    "students"
   ]
  },
  {
   "cell_type": "code",
   "execution_count": 136,
   "id": "6d170773-ee10-4fd7-b213-677fd1c2f870",
   "metadata": {},
   "outputs": [
    {
     "data": {
      "text/plain": [
       "['bilal',\n",
       " 'asad',\n",
       " 'nasir',\n",
       " 'ali',\n",
       " 'hamid',\n",
       " 'nadeem',\n",
       " 'muneeb',\n",
       " 'ghulam muhiuddin',\n",
       " 'imran']"
      ]
     },
     "execution_count": 136,
     "metadata": {},
     "output_type": "execute_result"
    }
   ],
   "source": [
    "students + [\"ghulam muhiuddin\", \"imran\"]"
   ]
  },
  {
   "cell_type": "code",
   "execution_count": 138,
   "id": "d7379d41-5465-4ecd-afc9-c3afeb516831",
   "metadata": {},
   "outputs": [
    {
     "data": {
      "text/plain": [
       "['bilal', 'asad', 'nasir', 'ali', 'hamid', 'nadeem', 'muneeb', True]"
      ]
     },
     "execution_count": 138,
     "metadata": {},
     "output_type": "execute_result"
    }
   ],
   "source": [
    "students + [True] # return a combined list"
   ]
  },
  {
   "cell_type": "code",
   "execution_count": 140,
   "id": "85f347f6-70dc-4cf1-97d9-0d19d5f6a824",
   "metadata": {},
   "outputs": [
    {
     "data": {
      "text/plain": [
       "['bilal', 'asad', 'nasir', 'ali', 'hamid', 'nadeem', 'muneeb']"
      ]
     },
     "execution_count": 140,
     "metadata": {},
     "output_type": "execute_result"
    }
   ],
   "source": [
    "students"
   ]
  },
  {
   "cell_type": "code",
   "execution_count": 148,
   "id": "307e8464-7b8a-41e0-81b2-ccf25b5f5984",
   "metadata": {},
   "outputs": [],
   "source": [
    "students.insert(300, \"ubaid\") # if provided index was higher than length the add a value on a last of a list"
   ]
  },
  {
   "cell_type": "code",
   "execution_count": 150,
   "id": "44facdfd-8374-4bcf-93d4-e70a0a92f52a",
   "metadata": {},
   "outputs": [
    {
     "data": {
      "text/plain": [
       "['bilal',\n",
       " 'asad',\n",
       " 'nasir',\n",
       " 'ali',\n",
       " 'hamid',\n",
       " 'nadeem',\n",
       " 'muneeb',\n",
       " 'ubaid',\n",
       " 'ubaid']"
      ]
     },
     "execution_count": 150,
     "metadata": {},
     "output_type": "execute_result"
    }
   ],
   "source": [
    "students"
   ]
  },
  {
   "cell_type": "markdown",
   "id": "e067d579-f718-4ce7-8924-203f43006a7b",
   "metadata": {},
   "source": [
    "# list deleting / removing operations\n",
    "  - del statement: delete a provided value\n",
    "  - remove(): remove a provided value\n",
    "  - pop(): remove a last value if the not have any argument if the have a index in a an argument the remove the element from provided index\n",
    "  - clear(): clean a list like a new list"
   ]
  },
  {
   "cell_type": "code",
   "execution_count": 155,
   "id": "d6cf8918-d6a0-4ec6-8a03-e565064f6228",
   "metadata": {},
   "outputs": [
    {
     "data": {
      "text/plain": [
       "['bilal',\n",
       " 'asad',\n",
       " 'nasir',\n",
       " 'ali',\n",
       " 'hamid',\n",
       " 'nadeem',\n",
       " 'muneeb',\n",
       " 'ubaid',\n",
       " 'ubaid']"
      ]
     },
     "execution_count": 155,
     "metadata": {},
     "output_type": "execute_result"
    }
   ],
   "source": [
    "students"
   ]
  },
  {
   "cell_type": "code",
   "execution_count": 195,
   "id": "05767467-d022-408b-ad85-946e5b6afc29",
   "metadata": {},
   "outputs": [],
   "source": [
    "del students[-1]"
   ]
  },
  {
   "cell_type": "code",
   "execution_count": 197,
   "id": "10ad75d5-912b-4c99-91b0-8931f09292e4",
   "metadata": {},
   "outputs": [
    {
     "data": {
      "text/plain": [
       "['bilal', 'asad', 'nasir', 'ali', 'hamid', 'nadeem', 'muneeb', 'ubaid']"
      ]
     },
     "execution_count": 197,
     "metadata": {},
     "output_type": "execute_result"
    }
   ],
   "source": [
    "students"
   ]
  },
  {
   "cell_type": "code",
   "execution_count": 207,
   "id": "539fcbe6-5bde-4f79-983e-aa228f816c49",
   "metadata": {
    "scrolled": true
   },
   "outputs": [],
   "source": [
    "students.remove(\"ubaid\")"
   ]
  },
  {
   "cell_type": "code",
   "execution_count": 209,
   "id": "d1390210-3402-46eb-b93f-1f4098671808",
   "metadata": {},
   "outputs": [
    {
     "data": {
      "text/plain": [
       "['bilal', 'asad', 'nasir', 'ali', 'hamid', 'nadeem', 'muneeb']"
      ]
     },
     "execution_count": 209,
     "metadata": {},
     "output_type": "execute_result"
    }
   ],
   "source": [
    "students"
   ]
  },
  {
   "cell_type": "code",
   "execution_count": 34,
   "id": "9ee662cc-1dbf-4510-a76d-390f0f789b48",
   "metadata": {},
   "outputs": [
    {
     "ename": "ValueError",
     "evalue": "list.remove(x): x not in list",
     "output_type": "error",
     "traceback": [
      "\u001b[1;31m---------------------------------------------------------------------------\u001b[0m",
      "\u001b[1;31mValueError\u001b[0m                                Traceback (most recent call last)",
      "Cell \u001b[1;32mIn[34], line 1\u001b[0m\n\u001b[1;32m----> 1\u001b[0m students\u001b[38;5;241m.\u001b[39mremove(\u001b[38;5;124m\"\u001b[39m\u001b[38;5;124mubaid\u001b[39m\u001b[38;5;124m\"\u001b[39m)\n",
      "\u001b[1;31mValueError\u001b[0m: list.remove(x): x not in list"
     ]
    }
   ],
   "source": [
    "students.remove(\"ubaid\")"
   ]
  },
  {
   "cell_type": "code",
   "execution_count": 223,
   "id": "acaca614-9db7-4c9b-9e4e-7acc0d4a21e9",
   "metadata": {},
   "outputs": [
    {
     "data": {
      "text/plain": [
       "'muneeb'"
      ]
     },
     "execution_count": 223,
     "metadata": {},
     "output_type": "execute_result"
    }
   ],
   "source": [
    "students.pop() # return popped value"
   ]
  },
  {
   "cell_type": "code",
   "execution_count": 225,
   "id": "8acf4e5b-5ce1-436e-884c-533c13145354",
   "metadata": {},
   "outputs": [
    {
     "data": {
      "text/plain": [
       "['bilal', 'asad', 'nasir', 'ali', 'hamid', 'muneeb']"
      ]
     },
     "execution_count": 225,
     "metadata": {},
     "output_type": "execute_result"
    }
   ],
   "source": [
    "students"
   ]
  },
  {
   "cell_type": "code",
   "execution_count": 227,
   "id": "e900b608-1320-4844-be09-1e9932ea764f",
   "metadata": {},
   "outputs": [
    {
     "data": {
      "text/plain": [
       "'nasir'"
      ]
     },
     "execution_count": 227,
     "metadata": {},
     "output_type": "execute_result"
    }
   ],
   "source": [
    "students.pop(2)"
   ]
  },
  {
   "cell_type": "code",
   "execution_count": 229,
   "id": "311cd58c-f7c8-4279-bf6f-55a256dda859",
   "metadata": {},
   "outputs": [
    {
     "data": {
      "text/plain": [
       "['bilal', 'asad', 'ali', 'hamid', 'muneeb']"
      ]
     },
     "execution_count": 229,
     "metadata": {},
     "output_type": "execute_result"
    }
   ],
   "source": [
    "students"
   ]
  },
  {
   "cell_type": "code",
   "execution_count": 231,
   "id": "24ed2c37-d72b-4362-91ca-a919b1fa6e7f",
   "metadata": {},
   "outputs": [],
   "source": [
    "students.clear()"
   ]
  },
  {
   "cell_type": "code",
   "execution_count": 235,
   "id": "86733493-1bfb-49a4-aff6-de184d84f176",
   "metadata": {},
   "outputs": [
    {
     "data": {
      "text/plain": [
       "[]"
      ]
     },
     "execution_count": 235,
     "metadata": {},
     "output_type": "execute_result"
    }
   ],
   "source": [
    "students"
   ]
  },
  {
   "cell_type": "code",
   "execution_count": 8,
   "id": "dd5b6722-3eee-4760-b507-288958118ad9",
   "metadata": {},
   "outputs": [],
   "source": [
    "students = ['bilal', 'asad', 'nasir', 'ali', 'hamid', 'muneeb']"
   ]
  },
  {
   "cell_type": "code",
   "execution_count": 239,
   "id": "eeefc98e-d9c3-4f3e-a7c4-4d0f6c480a9b",
   "metadata": {},
   "outputs": [
    {
     "data": {
      "text/plain": [
       "['bilal', 'asad', 'nasir', 'ali', 'hamid', 'muneeb']"
      ]
     },
     "execution_count": 239,
     "metadata": {},
     "output_type": "execute_result"
    }
   ],
   "source": [
    "students"
   ]
  },
  {
   "cell_type": "code",
   "execution_count": 241,
   "id": "3f4996b2-43fb-4518-ad62-5b7666598d1b",
   "metadata": {},
   "outputs": [],
   "source": [
    "students.append(\"name1\")"
   ]
  },
  {
   "cell_type": "code",
   "execution_count": 243,
   "id": "15f8cb1d-76d2-4ab3-b929-cdb0e9497944",
   "metadata": {},
   "outputs": [
    {
     "data": {
      "text/plain": [
       "['bilal', 'asad', 'nasir', 'ali', 'hamid', 'muneeb', 'name1']"
      ]
     },
     "execution_count": 243,
     "metadata": {},
     "output_type": "execute_result"
    }
   ],
   "source": [
    "students"
   ]
  },
  {
   "cell_type": "markdown",
   "id": "728e85a0-023a-476a-b019-bc13bd661054",
   "metadata": {},
   "source": [
    "# list slicing"
   ]
  },
  {
   "cell_type": "markdown",
   "id": "477f0e79-1bb6-4245-93cf-c8144b1c840e",
   "metadata": {},
   "source": [
    "### slicing [start: end: step]"
   ]
  },
  {
   "cell_type": "code",
   "execution_count": 10,
   "id": "e8ff45bf-b0fb-4b46-8375-1d0542df4574",
   "metadata": {},
   "outputs": [
    {
     "data": {
      "text/plain": [
       "['bilal', 'asad', 'nasir', 'ali', 'hamid', 'muneeb']"
      ]
     },
     "execution_count": 10,
     "metadata": {},
     "output_type": "execute_result"
    }
   ],
   "source": [
    "students"
   ]
  },
  {
   "cell_type": "code",
   "execution_count": 12,
   "id": "e05326f9-e151-4db7-8a4d-6aa732d276e3",
   "metadata": {},
   "outputs": [
    {
     "data": {
      "text/plain": [
       "['asad', 'nasir', 'ali', 'hamid']"
      ]
     },
     "execution_count": 12,
     "metadata": {},
     "output_type": "execute_result"
    }
   ],
   "source": [
    "students[1:5]"
   ]
  },
  {
   "cell_type": "code",
   "execution_count": 254,
   "id": "636f3883-0e74-407a-b457-d456e1961ed4",
   "metadata": {},
   "outputs": [
    {
     "data": {
      "text/plain": [
       "['asad', 'ali']"
      ]
     },
     "execution_count": 254,
     "metadata": {},
     "output_type": "execute_result"
    }
   ],
   "source": [
    "students[1:5:2]"
   ]
  },
  {
   "cell_type": "code",
   "execution_count": 258,
   "id": "b960c546-93e1-432e-9571-83bb2c9fa811",
   "metadata": {},
   "outputs": [
    {
     "data": {
      "text/plain": [
       "['muneeb', 'hamid', 'ali', 'nasir']"
      ]
     },
     "execution_count": 258,
     "metadata": {},
     "output_type": "execute_result"
    }
   ],
   "source": [
    "students[5:1:-1]"
   ]
  },
  {
   "cell_type": "code",
   "execution_count": 28,
   "id": "c15fee65-c85e-4cb0-80eb-1da4cad0a3a6",
   "metadata": {},
   "outputs": [
    {
     "data": {
      "text/plain": [
       "['ali', 'nasir']"
      ]
     },
     "execution_count": 28,
     "metadata": {},
     "output_type": "execute_result"
    }
   ],
   "source": [
    "students[3:1:-1]"
   ]
  },
  {
   "cell_type": "code",
   "execution_count": 32,
   "id": "41c1e121-0fcc-4beb-b520-0eac78a2cfaa",
   "metadata": {},
   "outputs": [
    {
     "data": {
      "text/plain": [
       "['asad', 'nasir']"
      ]
     },
     "execution_count": 32,
     "metadata": {},
     "output_type": "execute_result"
    }
   ],
   "source": [
    "students[1:3:1]"
   ]
  },
  {
   "cell_type": "code",
   "execution_count": 46,
   "id": "33dc98df-773b-447b-8319-a9294a668f68",
   "metadata": {},
   "outputs": [
    {
     "data": {
      "text/plain": [
       "['bilal', 'asad', 'nasir', 'ali', 'hamid', 'muneeb', 'a']"
      ]
     },
     "execution_count": 46,
     "metadata": {},
     "output_type": "execute_result"
    }
   ],
   "source": [
    "students + [\"a\"] # Plus operator contactinate the list and return the copy of a list"
   ]
  },
  {
   "cell_type": "code",
   "execution_count": 42,
   "id": "05f64d9c-f4c9-409a-9c48-06c334a9ea82",
   "metadata": {},
   "outputs": [
    {
     "data": {
      "text/plain": [
       "['bilal', 'asad', 'nasir', 'ali', 'hamid', 'muneeb']"
      ]
     },
     "execution_count": 42,
     "metadata": {},
     "output_type": "execute_result"
    }
   ],
   "source": [
    "students"
   ]
  },
  {
   "cell_type": "code",
   "execution_count": 50,
   "id": "aefaba77-a193-4e7c-953f-a71874abe79e",
   "metadata": {},
   "outputs": [],
   "source": [
    "student_detail = {\n",
    "    \"email\": \"abw@gmail.com\",\n",
    "    \"maritial-status\": \"married\"\n",
    "}"
   ]
  },
  {
   "cell_type": "code",
   "execution_count": null,
   "id": "59d747f8-bf45-489f-aa54-0d4d3e1d53e0",
   "metadata": {},
   "outputs": [],
   "source": []
  }
 ],
 "metadata": {
  "kernelspec": {
   "display_name": "Python 3 (ipykernel)",
   "language": "python",
   "name": "python3"
  },
  "language_info": {
   "codemirror_mode": {
    "name": "ipython",
    "version": 3
   },
   "file_extension": ".py",
   "mimetype": "text/x-python",
   "name": "python",
   "nbconvert_exporter": "python",
   "pygments_lexer": "ipython3",
   "version": "3.12.7"
  }
 },
 "nbformat": 4,
 "nbformat_minor": 5
}
