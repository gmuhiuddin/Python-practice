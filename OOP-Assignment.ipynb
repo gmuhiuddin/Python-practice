{
 "cells": [
  {
   "cell_type": "code",
   "execution_count": 135,
   "id": "8bde69f3-c23b-4805-89e5-a9a8a4d52eb5",
   "metadata": {},
   "outputs": [
    {
     "data": {
      "text/plain": [
       "True"
      ]
     },
     "execution_count": 135,
     "metadata": {},
     "output_type": "execute_result"
    }
   ],
   "source": [
    "class BankAccount:\n",
    "    _instances = []\n",
    "    \n",
    "    def __init__(self, name, account_no):\n",
    "        self.__name = name\n",
    "        self.__acc_no = account_no\n",
    "        self.__balance = 0\n",
    "        self.a = 0\n",
    "        \n",
    "        self._instances.append(self)\n",
    "\n",
    "    def bla(self):\n",
    "        pass\n",
    "\n",
    "    def get_acc_no(self):\n",
    "        return self.__acc_no\n",
    "        \n",
    "    def get_balance(self):\n",
    "        return self.__balance\n",
    "\n",
    "    @classmethod\n",
    "    def check_acc_exist(cls, acc_no):\n",
    "        for instance in cls._instances:\n",
    "            if instance.get_acc_no() == acc_no:\n",
    "                return True\n",
    "        return False\n",
    "\n",
    "a1 = BankAccount(\"Ghulam Muhiuddin\", 123)\n",
    "a2 = BankAccount(\"Ghulam Muhiuddin\", 124)\n",
    "a3 = BankAccount(\"Ghulam Muhiuddin\", 125)\n",
    "\n",
    "BankAccount.check_acc_exist(123)"
   ]
  },
  {
   "cell_type": "code",
   "execution_count": 137,
   "id": "5d523dd1-509f-4298-82dd-acc4f03d5992",
   "metadata": {},
   "outputs": [
    {
     "data": {
      "text/plain": [
       "True"
      ]
     },
     "execution_count": 137,
     "metadata": {},
     "output_type": "execute_result"
    }
   ],
   "source": [
    "BankAccount.check_acc_exist(123)"
   ]
  },
  {
   "cell_type": "code",
   "execution_count": 139,
   "id": "9491ba14-4d28-42f9-aa1e-751f0f58bf8d",
   "metadata": {},
   "outputs": [
    {
     "data": {
      "text/plain": [
       "[<__main__.BankAccount at 0x264ff2dce30>,\n",
       " <__main__.BankAccount at 0x264ff2df350>,\n",
       " <__main__.BankAccount at 0x264ff2ded50>]"
      ]
     },
     "execution_count": 139,
     "metadata": {},
     "output_type": "execute_result"
    }
   ],
   "source": [
    "BankAccount._instances"
   ]
  },
  {
   "cell_type": "code",
   "execution_count": 148,
   "id": "a22eae2c-7d40-4f65-ade4-71759ba3dd4c",
   "metadata": {},
   "outputs": [
    {
     "ename": "TypeError",
     "evalue": "BankAccount.bla() missing 1 required positional argument: 'self'",
     "output_type": "error",
     "traceback": [
      "\u001b[1;31m---------------------------------------------------------------------------\u001b[0m",
      "\u001b[1;31mTypeError\u001b[0m                                 Traceback (most recent call last)",
      "Cell \u001b[1;32mIn[148], line 1\u001b[0m\n\u001b[1;32m----> 1\u001b[0m BankAccount\u001b[38;5;241m.\u001b[39mbla()\n",
      "\u001b[1;31mTypeError\u001b[0m: BankAccount.bla() missing 1 required positional argument: 'self'"
     ]
    }
   ],
   "source": [
    "BankAccount.a"
   ]
  },
  {
   "cell_type": "code",
   "execution_count": null,
   "id": "20083884-c64c-4fb9-9185-487e7f7745c6",
   "metadata": {},
   "outputs": [],
   "source": []
  },
  {
   "cell_type": "code",
   "execution_count": null,
   "id": "a34ee334-3623-4406-ae3c-9ad44cedf1b4",
   "metadata": {},
   "outputs": [],
   "source": []
  }
 ],
 "metadata": {
  "kernelspec": {
   "display_name": "Python 3 (ipykernel)",
   "language": "python",
   "name": "python3"
  },
  "language_info": {
   "codemirror_mode": {
    "name": "ipython",
    "version": 3
   },
   "file_extension": ".py",
   "mimetype": "text/x-python",
   "name": "python",
   "nbconvert_exporter": "python",
   "pygments_lexer": "ipython3",
   "version": "3.12.7"
  }
 },
 "nbformat": 4,
 "nbformat_minor": 5
}
