{
 "cells": [
  {
   "cell_type": "markdown",
   "id": "7f367832-b043-425c-bf2c-c26905d04fa9",
   "metadata": {},
   "source": [
    "# Function assignment 1"
   ]
  },
  {
   "cell_type": "code",
   "execution_count": 38,
   "id": "1a9fa7fb-6034-48be-8a46-4236643aeae8",
   "metadata": {},
   "outputs": [],
   "source": [
    "# 1.\n",
    "\n",
    "def find_max(num_lst=[]):\n",
    "    \"\"\"\n",
    "    get a list of nums\n",
    "    return a max num in list\n",
    "    \"\"\"\n",
    "    if type(num_lst) != list:\n",
    "        return \"Invalid list\"\n",
    "    \n",
    "    max_num = 0\n",
    "    for num in num_lst:\n",
    "        if num > max_num:\n",
    "            max_num = num\n",
    "    return max_num"
   ]
  },
  {
   "cell_type": "code",
   "execution_count": 14,
   "id": "4e880b1a-2357-4fe9-8470-a1ebc3c8f5c6",
   "metadata": {},
   "outputs": [
    {
     "data": {
      "text/plain": [
       "124"
      ]
     },
     "execution_count": 14,
     "metadata": {},
     "output_type": "execute_result"
    }
   ],
   "source": [
    "find_max([123, 124, 12])"
   ]
  },
  {
   "cell_type": "code",
   "execution_count": 24,
   "id": "abe0476e-37b4-4731-8e24-e4ded522e675",
   "metadata": {},
   "outputs": [],
   "source": [
    "# 2.\n",
    "\n",
    "def sum_num(num_lst=[]):\n",
    "    \"\"\"\n",
    "    get a list of nums\n",
    "    return a sum of list\n",
    "    \"\"\"\n",
    "    if type(num_lst) != list:\n",
    "        return \"Invalid list\"\n",
    "    \n",
    "    sum_num = 0\n",
    "    for num in num_lst:\n",
    "        sum_num += num\n",
    "    return sum_num"
   ]
  },
  {
   "cell_type": "code",
   "execution_count": 26,
   "id": "9ed34e55-7544-46d4-8d8d-d3d568ccd073",
   "metadata": {},
   "outputs": [
    {
     "data": {
      "text/plain": [
       "10"
      ]
     },
     "execution_count": 26,
     "metadata": {},
     "output_type": "execute_result"
    }
   ],
   "source": [
    "sum_num([1,7,2])"
   ]
  },
  {
   "cell_type": "code",
   "execution_count": 66,
   "id": "508eea51-ba5c-4ca0-8a65-e8cc0f81869f",
   "metadata": {},
   "outputs": [],
   "source": [
    "# 3.\n",
    "\n",
    "def multiply_num(num_lst=[]):\n",
    "    \"\"\"\n",
    "    get a list of nums\n",
    "    return a multiplyed num of list\n",
    "    \"\"\"\n",
    "    if type(num_lst) != list and type(num_lst) != tuple:\n",
    "        return \"Invalid list\"\n",
    "    \n",
    "    multiplyed_num = num_lst[0]\n",
    "    \n",
    "    for num in num_lst[1:]:\n",
    "        multiplyed_num = multiplyed_num*num\n",
    "    \n",
    "    return multiplyed_num"
   ]
  },
  {
   "cell_type": "code",
   "execution_count": 68,
   "id": "c3c1eb7c-3d52-4064-b62b-e5d2786269ad",
   "metadata": {},
   "outputs": [
    {
     "data": {
      "text/plain": [
       "-336"
      ]
     },
     "execution_count": 68,
     "metadata": {},
     "output_type": "execute_result"
    }
   ],
   "source": [
    "multiply_num((8, 2, 3, -1, 7))"
   ]
  },
  {
   "cell_type": "code",
   "execution_count": 70,
   "id": "423df904-9ad5-4e68-bb6c-b975036d48f4",
   "metadata": {},
   "outputs": [],
   "source": [
    "# 4.\n",
    "\n",
    "def reverse_str(txt):\n",
    "    \"\"\"\n",
    "    get a text\n",
    "    return a reversed text\n",
    "    \"\"\"\n",
    "    return txt[::-1]"
   ]
  },
  {
   "cell_type": "code",
   "execution_count": 74,
   "id": "92f587a7-a92a-4f31-ba01-b16efa287acf",
   "metadata": {},
   "outputs": [
    {
     "data": {
      "text/plain": [
       "'dcba4321'"
      ]
     },
     "execution_count": 74,
     "metadata": {},
     "output_type": "execute_result"
    }
   ],
   "source": [
    "reverse_str(\"1234abcd\")"
   ]
  },
  {
   "cell_type": "code",
   "execution_count": 78,
   "id": "6ebdf0dc-e960-48a6-8edf-694403b9c707",
   "metadata": {},
   "outputs": [],
   "source": [
    "# 5.\n",
    "\n",
    "def check_only_int(num_lst=[]):\n",
    "    for num in num_lst:\n",
    "        if type(num) != int:\n",
    "            return False\n",
    "            break\n",
    "    else:\n",
    "        return True"
   ]
  },
  {
   "cell_type": "code",
   "execution_count": 82,
   "id": "b40b94be-3ef6-489d-a865-3c1ed6cc53db",
   "metadata": {},
   "outputs": [
    {
     "data": {
      "text/plain": [
       "False"
      ]
     },
     "execution_count": 82,
     "metadata": {},
     "output_type": "execute_result"
    }
   ],
   "source": [
    "check_only_int([1,12.3])"
   ]
  },
  {
   "cell_type": "code",
   "execution_count": null,
   "id": "492d5b77-7d4b-4436-943c-9eaf1bf5debc",
   "metadata": {},
   "outputs": [],
   "source": []
  },
  {
   "cell_type": "code",
   "execution_count": 126,
   "id": "57e5f550-bb46-45b4-88dc-0846b2119bdb",
   "metadata": {},
   "outputs": [],
   "source": [
    "# 7.\n",
    "\n",
    "def count_upper_lower(txt=\"ASdf\"):\n",
    "    \"\"\"\n",
    "    get a text\n",
    "    return a upper or lower numbers\n",
    "    \"\"\"\n",
    "\n",
    "    txt_lst = txt.split()\n",
    "    for t in txt_lst:\n",
    "        if not t.isalpha():\n",
    "            return \"Invalid text\"\n",
    "    \n",
    "    dic = {\"upper\": 0, \"lower\": 0}\n",
    "\n",
    "    for t in txt:\n",
    "        if t.isupper():\n",
    "            dic[\"upper\"] += 1\n",
    "        elif t.islower():\n",
    "            dic[\"lower\"] += 1\n",
    "\n",
    "    return dic"
   ]
  },
  {
   "cell_type": "code",
   "execution_count": 130,
   "id": "fc4e3073-5395-44ab-be5f-6d37e4a91d51",
   "metadata": {},
   "outputs": [
    {
     "name": "stdout",
     "output_type": "stream",
     "text": [
      "The\n"
     ]
    },
    {
     "data": {
      "text/plain": [
       "'Invalid text'"
      ]
     },
     "execution_count": 130,
     "metadata": {},
     "output_type": "execute_result"
    }
   ],
   "source": [
    "count_upper_lower(\"The 1\")"
   ]
  },
  {
   "cell_type": "code",
   "execution_count": 132,
   "id": "f1e26c69-8265-4d2c-8610-7892bc3feb4d",
   "metadata": {},
   "outputs": [],
   "source": [
    "# 8.\n",
    "\n",
    "def get_unique_lst(lst):\n",
    "    return list(set(lst))"
   ]
  },
  {
   "cell_type": "code",
   "execution_count": 134,
   "id": "a39d6a39-d5f4-4ac5-8d44-0248f5886d81",
   "metadata": {},
   "outputs": [
    {
     "data": {
      "text/plain": [
       "[1, 2, 3, 4]"
      ]
     },
     "execution_count": 134,
     "metadata": {},
     "output_type": "execute_result"
    }
   ],
   "source": [
    "get_unique_lst([1,2,3,4,3])"
   ]
  },
  {
   "cell_type": "code",
   "execution_count": 136,
   "id": "db7fbb8a-fa66-4ad1-a101-7244a4b18829",
   "metadata": {},
   "outputs": [],
   "source": [
    "# 10.\n",
    "\n",
    "def get_even_num(num_lst=[]):\n",
    "    even_lst = []\n",
    "\n",
    "    if type(num_lst) != list and type(num_lst) != tuple:\n",
    "        return \"Invalid list\"\n",
    "\n",
    "    for num in num_lst:\n",
    "        if num%2 == 0:\n",
    "            even_lst.append(num)\n",
    "    return even_lst"
   ]
  },
  {
   "cell_type": "code",
   "execution_count": 142,
   "id": "bd9a8c8c-58c3-4a2e-8938-05c7d9a6a833",
   "metadata": {},
   "outputs": [
    {
     "data": {
      "text/plain": [
       "[2, 4]"
      ]
     },
     "execution_count": 142,
     "metadata": {},
     "output_type": "execute_result"
    }
   ],
   "source": [
    "get_even_num([2,3,4])"
   ]
  },
  {
   "cell_type": "code",
   "execution_count": 146,
   "id": "3cba8878-f0a7-48b8-8741-bb78fc05915f",
   "metadata": {},
   "outputs": [],
   "source": [
    "# 12.\n",
    "\n",
    "def is_palindrome(txt=\"\"):\n",
    "    \"\"\"\n",
    "    get a text\n",
    "    return is palindrome or not\n",
    "    \"\"\"\n",
    "\n",
    "    txt=txt.split()\n",
    "    txt=\"\".join(txt)\n",
    "\n",
    "    reversed_txt = txt[::-1]\n",
    "\n",
    "    if txt == reversed_txt:\n",
    "        return True\n",
    "    \n",
    "    return False"
   ]
  },
  {
   "cell_type": "code",
   "execution_count": null,
   "id": "0f2e57d5-c715-45e3-a0b7-c097320c0c4c",
   "metadata": {},
   "outputs": [],
   "source": []
  }
 ],
 "metadata": {
  "kernelspec": {
   "display_name": "Python 3 (ipykernel)",
   "language": "python",
   "name": "python3"
  },
  "language_info": {
   "codemirror_mode": {
    "name": "ipython",
    "version": 3
   },
   "file_extension": ".py",
   "mimetype": "text/x-python",
   "name": "python",
   "nbconvert_exporter": "python",
   "pygments_lexer": "ipython3",
   "version": "3.12.7"
  }
 },
 "nbformat": 4,
 "nbformat_minor": 5
}
