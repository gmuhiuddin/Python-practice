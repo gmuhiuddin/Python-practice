{
 "cells": [
  {
   "cell_type": "code",
   "execution_count": 8,
   "id": "dfb50a4a-165d-48a5-b005-f02674a3ace2",
   "metadata": {},
   "outputs": [
    {
     "name": "stdin",
     "output_type": "stream",
     "text": [
      "Please add total amount of purchase:  200\n"
     ]
    },
    {
     "name": "stdout",
     "output_type": "stream",
     "text": [
      "180.0\n"
     ]
    }
   ],
   "source": [
    "total_purchase_amount = float(input(\"Please add total amount of purchase: \"))\n",
    "discount_percentage = 0\n",
    "\n",
    "if total_purchase_amount > 100:\n",
    "    discount_percentage = 0.10\n",
    "\n",
    "print(total_purchase_amount-total_purchase_amount*discount_percentage)"
   ]
  },
  {
   "cell_type": "code",
   "execution_count": 28,
   "id": "642a7ed2-3727-4800-af29-c6f4439c1bd4",
   "metadata": {},
   "outputs": [
    {
     "name": "stdout",
     "output_type": "stream",
     "text": [
      "595.0\n"
     ]
    }
   ],
   "source": [
    "customer_items = ({\n",
    "    \"name\": \"headphone\",\n",
    "    \"amount\": 100\n",
    "}, {\n",
    "    \"name\": \"headphone\",\n",
    "    \"amount\": 100\n",
    "}, {\n",
    "    \"name\": \"headphone\",\n",
    "    \"amount\": 100\n",
    "}, {\n",
    "    \"name\": \"headphone\",\n",
    "    \"amount\": 100\n",
    "}, {\n",
    "    \"name\": \"headphone\",\n",
    "    \"amount\": 100\n",
    "}, {\n",
    "    \"name\": \"headphone\",\n",
    "    \"amount\": 100\n",
    "}, {\n",
    "    \"name\": \"headphone\",\n",
    "    \"amount\": 100\n",
    "})\n",
    "\n",
    "total_amount_items = 0\n",
    "\n",
    "for customer_item in customer_items:\n",
    "    total_amount_items += customer_item[\"amount\"]\n",
    "\n",
    "discount_percentage = 0\n",
    "\n",
    "if len(customer_items) > 5:\n",
    "    discount_percentage = 0.15\n",
    "\n",
    "print(total_amount_items-total_amount_items*discount_percentage)"
   ]
  },
  {
   "cell_type": "code",
   "execution_count": 42,
   "id": "8b151651-bafd-41d2-a624-50df9a1e4937",
   "metadata": {},
   "outputs": [
    {
     "name": "stdout",
     "output_type": "stream",
     "text": [
      "560.0\n"
     ]
    }
   ],
   "source": [
    "customer_items = ({\n",
    "    \"name\": \"headphone\",\n",
    "    \"amount\": 100\n",
    "}, {\n",
    "    \"name\": \"headphone\",\n",
    "    \"amount\": 100\n",
    "}, {\n",
    "    \"name\": \"headphone\",\n",
    "    \"amount\": 100\n",
    "}, {\n",
    "    \"name\": \"headphone\",\n",
    "    \"amount\": 100\n",
    "}, {\n",
    "    \"name\": \"headphone\",\n",
    "    \"amount\": 100\n",
    "}, {\n",
    "    \"name\": \"headphone\",\n",
    "    \"amount\": 100\n",
    "}, {\n",
    "    \"name\": \"headphone\",\n",
    "    \"amount\": 100\n",
    "})\n",
    "\n",
    "total_amount_items = 0\n",
    "\n",
    "for customer_item in customer_items:\n",
    "    total_amount_items += customer_item[\"amount\"]\n",
    "\n",
    "is_member = True\n",
    "discount_percentage= 0\n",
    "\n",
    "if not is_member:\n",
    "    discount_percentage = 0.05\n",
    "else:\n",
    "    discount_percentage = 0.2\n",
    "\n",
    "print(total_amount_items-total_amount_items*discount_percentage)"
   ]
  },
  {
   "cell_type": "code",
   "execution_count": 52,
   "id": "b0835be2-85f2-4efa-8d37-55e1aeb55e4d",
   "metadata": {},
   "outputs": [
    {
     "name": "stdout",
     "output_type": "stream",
     "text": [
      "600\n"
     ]
    }
   ],
   "source": [
    "customer_items = ( {\n",
    "    \"name\": \"headphone\",\n",
    "    \"amount\": 100\n",
    "}, {\n",
    "    \"name\": \"headphone\",\n",
    "    \"amount\": 100\n",
    "}, {\n",
    "    \"name\": \"headphone\",\n",
    "    \"amount\": 100\n",
    "}, {\n",
    "    \"name\": \"headphone\",\n",
    "    \"amount\": 100\n",
    "}, {\n",
    "    \"name\": \"headphone\",\n",
    "    \"amount\": 100\n",
    "}, {\n",
    "    \"name\": \"headphone\",\n",
    "    \"amount\": 100\n",
    "})\n",
    "\n",
    "total_amount_items = 0\n",
    "\n",
    "for customer_item in customer_items:\n",
    "    total_amount_items += customer_item[\"amount\"]\n",
    "\n",
    "is_holiday = False\n",
    "\n",
    "discount_percentage = 0\n",
    "\n",
    "if is_holiday and not len(customer_items)%2:\n",
    "    discount_percentage = .50\n",
    "\n",
    "print(total_amount_items-total_amount_items*discount_percentage)"
   ]
  },
  {
   "cell_type": "code",
   "execution_count": null,
   "id": "6b01e3d5-04a3-41de-8549-a75836cf2f9c",
   "metadata": {},
   "outputs": [],
   "source": []
  }
 ],
 "metadata": {
  "kernelspec": {
   "display_name": "Python 3 (ipykernel)",
   "language": "python",
   "name": "python3"
  },
  "language_info": {
   "codemirror_mode": {
    "name": "ipython",
    "version": 3
   },
   "file_extension": ".py",
   "mimetype": "text/x-python",
   "name": "python",
   "nbconvert_exporter": "python",
   "pygments_lexer": "ipython3",
   "version": "3.12.7"
  }
 },
 "nbformat": 4,
 "nbformat_minor": 5
}
