{
 "cells": [
  {
   "cell_type": "code",
   "execution_count": 10,
   "id": "3154834d-a06d-4384-a8d9-5b6cb6e12e36",
   "metadata": {},
   "outputs": [
    {
     "name": "stdout",
     "output_type": "stream",
     "text": [
      "Ghulam\n"
     ]
    }
   ],
   "source": [
    "class Person:\n",
    "    name = \"Ghulam\"\n",
    "p1 = Person()\n",
    "print(p1.name)"
   ]
  },
  {
   "cell_type": "code",
   "execution_count": 12,
   "id": "bde41bb7-4f63-49ea-9ee6-8232acc7042e",
   "metadata": {},
   "outputs": [
    {
     "name": "stdout",
     "output_type": "stream",
     "text": [
      "Ghulam muhiuddin\n"
     ]
    }
   ],
   "source": [
    "class Person:\n",
    "    def __init__(self,name):\n",
    "        self.name = name\n",
    "p1 = Person(\"Ghulam muhiuddin\")\n",
    "print(p1.name)"
   ]
  },
  {
   "cell_type": "code",
   "execution_count": 20,
   "id": "97d6a339-a83b-4501-b06f-6e8531e1ca5a",
   "metadata": {},
   "outputs": [
    {
     "name": "stdout",
     "output_type": "stream",
     "text": [
      "Imran\n"
     ]
    }
   ],
   "source": [
    "# Encapsulation\n",
    "\n",
    "class Person:\n",
    "    def __init__(self,name):\n",
    "        self.__name = name\n",
    "\n",
    "    # Getters and setters\n",
    "    def get_name(self):\n",
    "        return self.__name\n",
    "\n",
    "    def set_name(self, name):\n",
    "        self.__name = name\n",
    "p1 = Person(\"Imran\")\n",
    "print(p1.get_name())"
   ]
  },
  {
   "cell_type": "code",
   "execution_count": 58,
   "id": "a63a46db-f082-4f62-9e1a-9ef5de9a4584",
   "metadata": {},
   "outputs": [
    {
     "name": "stdout",
     "output_type": "stream",
     "text": [
      "Ghulam Muhiuddin | 333451\n"
     ]
    }
   ],
   "source": [
    "# Inheritance\n",
    "\n",
    "class Person:\n",
    "    def __init__(self,name):\n",
    "        self._name = name\n",
    "\n",
    "    # Getters and setters\n",
    "    def get_name(self):\n",
    "        return self._name\n",
    "\n",
    "    def set_name(self, name):\n",
    "        self._name = name\n",
    "\n",
    "class Student(Person):\n",
    "    def __init__(self, name, roll_no):\n",
    "        super().__init__(name)\n",
    "        self.__roll_no = roll_no\n",
    "        \n",
    "    # Getters and setters\n",
    "    # Thats called polymorphic behavior in py\n",
    "    def get_name(self):\n",
    "        return f\"{self._name} | {self.__roll_no}\"\n",
    "        \n",
    "    def get_roll_no(self):\n",
    "        return self.__roll_no\n",
    "\n",
    "    def set_roll_no(self, roll_no):\n",
    "        self.__roll_no = roll_no\n",
    "\n",
    "s1 = Student(\"Ghulam Muhiuddin\", 333451)\n",
    "\n",
    "print(s1.get_name())"
   ]
  },
  {
   "cell_type": "code",
   "execution_count": null,
   "id": "2c8029eb-c974-40e2-abde-ae6087b892ab",
   "metadata": {},
   "outputs": [],
   "source": []
  }
 ],
 "metadata": {
  "kernelspec": {
   "display_name": "Python 3 (ipykernel)",
   "language": "python",
   "name": "python3"
  },
  "language_info": {
   "codemirror_mode": {
    "name": "ipython",
    "version": 3
   },
   "file_extension": ".py",
   "mimetype": "text/x-python",
   "name": "python",
   "nbconvert_exporter": "python",
   "pygments_lexer": "ipython3",
   "version": "3.12.7"
  }
 },
 "nbformat": 4,
 "nbformat_minor": 5
}
