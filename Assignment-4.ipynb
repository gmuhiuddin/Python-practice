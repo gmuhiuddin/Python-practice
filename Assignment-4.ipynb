{
 "cells": [
  {
   "cell_type": "markdown",
   "id": "5cf0c2a9-248a-4ccd-a70c-4a0612fe1ec6",
   "metadata": {},
   "source": [
    "# String Assignment"
   ]
  },
  {
   "cell_type": "code",
   "execution_count": 17,
   "id": "e912ee30-3f79-409f-a4b3-d928a136a8e4",
   "metadata": {},
   "outputs": [
    {
     "name": "stdin",
     "output_type": "stream",
     "text": [
      "Please enter something ghulam\n"
     ]
    },
    {
     "name": "stdout",
     "output_type": "stream",
     "text": [
      "2\n"
     ]
    }
   ],
   "source": [
    "user_input = input(\"Please enter something\")\n",
    "# vowels = (\"a\", \"e\", \"i\", \"o\", \"u\")\n",
    "vowels = \"aeiou\"\n",
    "\n",
    "total_vowels_in_input = 0\n",
    "for txt in user_input:\n",
    "    if(txt in vowels):\n",
    "        total_vowels_in_input += 1\n",
    "\n",
    "print(total_vowels_in_input)"
   ]
  },
  {
   "cell_type": "code",
   "execution_count": null,
   "id": "96c64167-88bb-4432-a327-0fd7d4acc2ba",
   "metadata": {},
   "outputs": [],
   "source": []
  },
  {
   "cell_type": "code",
   "execution_count": 33,
   "id": "e367a4ff-bf92-467c-8a28-bdac5ce0bdb8",
   "metadata": {},
   "outputs": [
    {
     "name": "stdin",
     "output_type": "stream",
     "text": [
      "Please enter something Ghulam Muhiuddin\n"
     ]
    },
    {
     "name": "stdout",
     "output_type": "stream",
     "text": [
      "{'upper_case': 2, 'lower_case': 13, 'numbers': 0, 'white_space': 0}\n"
     ]
    }
   ],
   "source": [
    "user_input = input(\"Please enter something\")\n",
    "total_count_of_everything = {\n",
    "    \"upper_case\": 0,\n",
    "    \"lower_case\": 0,\n",
    "    \"numbers\": 0,\n",
    "    \"white_space\": 0\n",
    "}\n",
    "\n",
    "alphabets = \"abcdefghijklmnopqrstuvwxyz\"\n",
    "numbers = \"1234567890\"\n",
    "\n",
    "for txt in user_input:\n",
    "    if(txt in alphabets):\n",
    "        total_count_of_everything[\"lower_case\"] += 1\n",
    "    elif(txt in alphabets.upper()): \n",
    "        total_count_of_everything[\"upper_case\"] += 1\n",
    "    elif(txt in numbers): \n",
    "        total_count_of_everything[\"numbers\"] += 1\n",
    "    elif(txt == \"\"):\n",
    "        total_count_of_everything[\"white_space\"] += 1\n",
    "        \n",
    "print(total_count_of_everything)"
   ]
  },
  {
   "cell_type": "code",
   "execution_count": null,
   "id": "8c62ba57-4c84-4775-af4b-3f5722445599",
   "metadata": {},
   "outputs": [],
   "source": []
  }
 ],
 "metadata": {
  "kernelspec": {
   "display_name": "Python 3 (ipykernel)",
   "language": "python",
   "name": "python3"
  },
  "language_info": {
   "codemirror_mode": {
    "name": "ipython",
    "version": 3
   },
   "file_extension": ".py",
   "mimetype": "text/x-python",
   "name": "python",
   "nbconvert_exporter": "python",
   "pygments_lexer": "ipython3",
   "version": "3.12.7"
  }
 },
 "nbformat": 4,
 "nbformat_minor": 5
}
