{
 "cells": [
  {
   "cell_type": "code",
   "execution_count": 1,
   "id": "ff94fe76-2bec-46db-baf2-dd4d9cb4737d",
   "metadata": {},
   "outputs": [
    {
     "name": "stdout",
     "output_type": "stream",
     "text": [
      " bla\n"
     ]
    }
   ],
   "source": [
    "print(\"\"\" bla\"\"\")"
   ]
  },
  {
   "cell_type": "code",
   "execution_count": 8,
   "id": "0422140e-0be4-4378-aaca-8a1961e573c7",
   "metadata": {},
   "outputs": [
    {
     "name": "stdout",
     "output_type": "stream",
     "text": [
      "\n",
      "bla\n",
      "bla\n",
      "\n"
     ]
    }
   ],
   "source": [
    "print(\"\"\"\n",
    "bla\n",
    "bla\n",
    "\"\"\")"
   ]
  },
  {
   "cell_type": "code",
   "execution_count": 10,
   "id": "d4e00109-49d4-41a2-917e-af19b2e76deb",
   "metadata": {},
   "outputs": [],
   "source": [
    "count = 1"
   ]
  },
  {
   "cell_type": "code",
   "execution_count": 12,
   "id": "684e9e90-41db-46ca-ab3d-15679bccc15a",
   "metadata": {},
   "outputs": [
    {
     "data": {
      "text/plain": [
       "1"
      ]
     },
     "execution_count": 12,
     "metadata": {},
     "output_type": "execute_result"
    }
   ],
   "source": [
    "count"
   ]
  },
  {
   "cell_type": "code",
   "execution_count": 14,
   "id": "162088cb-95df-4ca4-9cdc-b11395a36cb6",
   "metadata": {},
   "outputs": [],
   "source": [
    "count += 3"
   ]
  },
  {
   "cell_type": "code",
   "execution_count": 16,
   "id": "7eefe0eb-9eb7-40ee-892b-b7796122ff65",
   "metadata": {},
   "outputs": [
    {
     "data": {
      "text/plain": [
       "4"
      ]
     },
     "execution_count": 16,
     "metadata": {},
     "output_type": "execute_result"
    }
   ],
   "source": [
    "count"
   ]
  },
  {
   "cell_type": "code",
   "execution_count": 18,
   "id": "38e3a4e2-abd3-4ff2-801b-aee91a486d89",
   "metadata": {},
   "outputs": [
    {
     "name": "stdin",
     "output_type": "stream",
     "text": [
      "enter something asd\n"
     ]
    },
    {
     "data": {
      "text/plain": [
       "'asd'"
      ]
     },
     "execution_count": 18,
     "metadata": {},
     "output_type": "execute_result"
    }
   ],
   "source": [
    "input(\"enter something\")"
   ]
  },
  {
   "cell_type": "code",
   "execution_count": 20,
   "id": "9e415b8f-af21-4931-a46a-9e5918fe7efe",
   "metadata": {},
   "outputs": [
    {
     "name": "stdout",
     "output_type": "stream",
     "text": [
      "anything\n"
     ]
    }
   ],
   "source": [
    "print(\"anything\")"
   ]
  },
  {
   "cell_type": "code",
   "execution_count": 22,
   "id": "bb264e0a-533d-46c1-af56-4ce058c5acb0",
   "metadata": {},
   "outputs": [
    {
     "data": {
      "text/plain": [
       "1"
      ]
     },
     "execution_count": 22,
     "metadata": {},
     "output_type": "execute_result"
    }
   ],
   "source": [
    "1"
   ]
  },
  {
   "cell_type": "code",
   "execution_count": 24,
   "id": "391c291e-ebe8-40bd-bc83-36b53f0f29d4",
   "metadata": {},
   "outputs": [
    {
     "data": {
      "text/plain": [
       "1"
      ]
     },
     "execution_count": 24,
     "metadata": {},
     "output_type": "execute_result"
    }
   ],
   "source": [
    "int(1.1)"
   ]
  },
  {
   "cell_type": "code",
   "execution_count": 26,
   "id": "ab336a95-d82a-4d3a-8f38-5bdafe7291d8",
   "metadata": {},
   "outputs": [
    {
     "data": {
      "text/plain": [
       "1"
      ]
     },
     "execution_count": 26,
     "metadata": {},
     "output_type": "execute_result"
    }
   ],
   "source": [
    "int(1.222)"
   ]
  },
  {
   "cell_type": "code",
   "execution_count": 30,
   "id": "92500d39-420d-49f8-9fde-376a2985d005",
   "metadata": {},
   "outputs": [
    {
     "data": {
      "text/plain": [
       "123"
      ]
     },
     "execution_count": 30,
     "metadata": {},
     "output_type": "execute_result"
    }
   ],
   "source": [
    "int(float(\"123.1\"))"
   ]
  },
  {
   "cell_type": "code",
   "execution_count": 34,
   "id": "236d4758-ef53-4a8d-8965-d997c1d9b2cb",
   "metadata": {},
   "outputs": [
    {
     "ename": "ValueError",
     "evalue": "could not convert string to float: '130-1'",
     "output_type": "error",
     "traceback": [
      "\u001b[1;31m---------------------------------------------------------------------------\u001b[0m",
      "\u001b[1;31mValueError\u001b[0m                                Traceback (most recent call last)",
      "Cell \u001b[1;32mIn[34], line 1\u001b[0m\n\u001b[1;32m----> 1\u001b[0m \u001b[38;5;28mfloat\u001b[39m(\u001b[38;5;124m\"\u001b[39m\u001b[38;5;124m130-1\u001b[39m\u001b[38;5;124m\"\u001b[39m)\n",
      "\u001b[1;31mValueError\u001b[0m: could not convert string to float: '130-1'"
     ]
    }
   ],
   "source": [
    "float(\"130-1\")"
   ]
  },
  {
   "cell_type": "code",
   "execution_count": 36,
   "id": "b0b67188-f8ea-4838-863c-b1825bc13506",
   "metadata": {},
   "outputs": [
    {
     "ename": "ValueError",
     "evalue": "invalid literal for int() with base 10: '1.2'",
     "output_type": "error",
     "traceback": [
      "\u001b[1;31m---------------------------------------------------------------------------\u001b[0m",
      "\u001b[1;31mValueError\u001b[0m                                Traceback (most recent call last)",
      "Cell \u001b[1;32mIn[36], line 1\u001b[0m\n\u001b[1;32m----> 1\u001b[0m \u001b[38;5;28mint\u001b[39m(\u001b[38;5;124m\"\u001b[39m\u001b[38;5;124m1.2\u001b[39m\u001b[38;5;124m\"\u001b[39m)\n",
      "\u001b[1;31mValueError\u001b[0m: invalid literal for int() with base 10: '1.2'"
     ]
    }
   ],
   "source": [
    "int(\"1.2\")"
   ]
  },
  {
   "cell_type": "code",
   "execution_count": 40,
   "id": "32bea5b5-7ecf-4ea0-ab07-343f9c8a30bd",
   "metadata": {},
   "outputs": [
    {
     "ename": "ValueError",
     "evalue": "invalid literal for int() with base 10: '1a1'",
     "output_type": "error",
     "traceback": [
      "\u001b[1;31m---------------------------------------------------------------------------\u001b[0m",
      "\u001b[1;31mValueError\u001b[0m                                Traceback (most recent call last)",
      "Cell \u001b[1;32mIn[40], line 1\u001b[0m\n\u001b[1;32m----> 1\u001b[0m \u001b[38;5;28mint\u001b[39m(\u001b[38;5;124m\"\u001b[39m\u001b[38;5;124m1a1\u001b[39m\u001b[38;5;124m\"\u001b[39m)\n",
      "\u001b[1;31mValueError\u001b[0m: invalid literal for int() with base 10: '1a1'"
     ]
    }
   ],
   "source": [
    "int(\"1a1\")"
   ]
  },
  {
   "cell_type": "code",
   "execution_count": 42,
   "id": "dc2674db-1b47-47a2-9ce7-2132220cc786",
   "metadata": {},
   "outputs": [],
   "source": [
    "country = \"Pakistan\""
   ]
  },
  {
   "cell_type": "code",
   "execution_count": 46,
   "id": "0f870a91-3526-4427-bf0e-2a9e16f20c54",
   "metadata": {},
   "outputs": [
    {
     "data": {
      "text/plain": [
       "-1"
      ]
     },
     "execution_count": 46,
     "metadata": {},
     "output_type": "execute_result"
    }
   ],
   "source": [
    "country.find(\"z\")"
   ]
  },
  {
   "cell_type": "code",
   "execution_count": 48,
   "id": "d5739aac-59b7-4c62-a669-4da373847139",
   "metadata": {},
   "outputs": [],
   "source": [
    "country = \"india\""
   ]
  },
  {
   "cell_type": "code",
   "execution_count": 50,
   "id": "539ae4c8-b77f-47d8-84db-9f9a2be39b56",
   "metadata": {},
   "outputs": [
    {
     "data": {
      "text/plain": [
       "'india'"
      ]
     },
     "execution_count": 50,
     "metadata": {},
     "output_type": "execute_result"
    }
   ],
   "source": [
    "country"
   ]
  },
  {
   "cell_type": "code",
   "execution_count": 52,
   "id": "5304adb4-9da2-46d1-982a-0dcc457192bd",
   "metadata": {},
   "outputs": [
    {
     "data": {
      "text/plain": [
       "'India'"
      ]
     },
     "execution_count": 52,
     "metadata": {},
     "output_type": "execute_result"
    }
   ],
   "source": [
    "country.title()"
   ]
  },
  {
   "cell_type": "code",
   "execution_count": 58,
   "id": "0956d85c-d473-4071-aa87-c0e4e33d9091",
   "metadata": {},
   "outputs": [
    {
     "data": {
      "text/plain": [
       "2"
      ]
     },
     "execution_count": 58,
     "metadata": {},
     "output_type": "execute_result"
    }
   ],
   "source": [
    "country.count(\"i\")"
   ]
  },
  {
   "cell_type": "code",
   "execution_count": 60,
   "id": "6ac821d2-65f9-4788-b457-8ac7bf093696",
   "metadata": {},
   "outputs": [
    {
     "data": {
      "text/plain": [
       "False"
      ]
     },
     "execution_count": 60,
     "metadata": {},
     "output_type": "execute_result"
    }
   ],
   "source": [
    "\"-\".isalnum()"
   ]
  },
  {
   "cell_type": "code",
   "execution_count": 62,
   "id": "2ec1a770-6a43-4826-9c68-eead5f58b34f",
   "metadata": {},
   "outputs": [
    {
     "data": {
      "text/plain": [
       "False"
      ]
     },
     "execution_count": 62,
     "metadata": {},
     "output_type": "execute_result"
    }
   ],
   "source": [
    "\"o a\".isspace()"
   ]
  },
  {
   "cell_type": "code",
   "execution_count": 64,
   "id": "556e7961-604b-422d-a6c3-7caf8ff327b2",
   "metadata": {},
   "outputs": [
    {
     "data": {
      "text/plain": [
       "True"
      ]
     },
     "execution_count": 64,
     "metadata": {},
     "output_type": "execute_result"
    }
   ],
   "source": [
    "\" \".isspace()"
   ]
  },
  {
   "cell_type": "code",
   "execution_count": 68,
   "id": "373c2125-cab8-4a5c-8a54-9a5d4e794a30",
   "metadata": {},
   "outputs": [
    {
     "data": {
      "text/plain": [
       "0"
      ]
     },
     "execution_count": 68,
     "metadata": {},
     "output_type": "execute_result"
    }
   ],
   "source": [
    "country.index(\"i\")"
   ]
  },
  {
   "cell_type": "code",
   "execution_count": 70,
   "id": "ef578bbd-e448-4665-80b2-69590bd23341",
   "metadata": {},
   "outputs": [
    {
     "data": {
      "text/plain": [
       "'india'"
      ]
     },
     "execution_count": 70,
     "metadata": {},
     "output_type": "execute_result"
    }
   ],
   "source": [
    "country"
   ]
  },
  {
   "cell_type": "code",
   "execution_count": 72,
   "id": "f710be17-aa25-4db0-adb0-25716884d3ef",
   "metadata": {},
   "outputs": [
    {
     "data": {
      "text/plain": [
       "0"
      ]
     },
     "execution_count": 72,
     "metadata": {},
     "output_type": "execute_result"
    }
   ],
   "source": [
    "country.find(\"i\")"
   ]
  },
  {
   "cell_type": "code",
   "execution_count": 74,
   "id": "dbea1877-5ad6-47fb-8fcf-741056dabf46",
   "metadata": {},
   "outputs": [
    {
     "data": {
      "text/plain": [
       "'india'"
      ]
     },
     "execution_count": 74,
     "metadata": {},
     "output_type": "execute_result"
    }
   ],
   "source": [
    "country.format(\"i\")"
   ]
  },
  {
   "cell_type": "code",
   "execution_count": 76,
   "id": "1a000a9f-bfb2-46f0-9c46-3ff5ed75cb1c",
   "metadata": {},
   "outputs": [
    {
     "data": {
      "text/plain": [
       "'india'"
      ]
     },
     "execution_count": 76,
     "metadata": {},
     "output_type": "execute_result"
    }
   ],
   "source": [
    "country.format(\"s\")"
   ]
  },
  {
   "cell_type": "code",
   "execution_count": 82,
   "id": "f98232f5-573d-4233-9c48-c047f380baca",
   "metadata": {},
   "outputs": [
    {
     "name": "stdout",
     "output_type": "stream",
     "text": [
      "ab\n"
     ]
    }
   ],
   "source": [
    "print(\"a\" +\"b\")"
   ]
  },
  {
   "cell_type": "code",
   "execution_count": 84,
   "id": "42cd3c25-f55e-4f38-9ab4-3c193beb578f",
   "metadata": {},
   "outputs": [
    {
     "ename": "TypeError",
     "evalue": "can only concatenate str (not \"int\") to str",
     "output_type": "error",
     "traceback": [
      "\u001b[1;31m---------------------------------------------------------------------------\u001b[0m",
      "\u001b[1;31mTypeError\u001b[0m                                 Traceback (most recent call last)",
      "Cell \u001b[1;32mIn[84], line 1\u001b[0m\n\u001b[1;32m----> 1\u001b[0m \u001b[38;5;28mprint\u001b[39m(\u001b[38;5;124m\"\u001b[39m\u001b[38;5;124ma\u001b[39m\u001b[38;5;124m\"\u001b[39m \u001b[38;5;241m+\u001b[39m \u001b[38;5;241m1\u001b[39m)\n",
      "\u001b[1;31mTypeError\u001b[0m: can only concatenate str (not \"int\") to str"
     ]
    }
   ],
   "source": [
    "print(\"a\" + 1)"
   ]
  },
  {
   "cell_type": "code",
   "execution_count": 91,
   "id": "fd28fa14-243a-4347-b8d8-95d58560dd55",
   "metadata": {},
   "outputs": [
    {
     "data": {
      "text/plain": [
       "'india'"
      ]
     },
     "execution_count": 91,
     "metadata": {},
     "output_type": "execute_result"
    }
   ],
   "source": [
    "country.format(\"a\", \"A\")"
   ]
  },
  {
   "cell_type": "code",
   "execution_count": 95,
   "id": "fde358f2-27f0-4ec2-a373-1dedda99fd52",
   "metadata": {},
   "outputs": [
    {
     "name": "stdout",
     "output_type": "stream",
     "text": [
      "this is very poor country: {country}\n"
     ]
    }
   ],
   "source": [
    "print(\"this is very poor country: {country}\")"
   ]
  },
  {
   "cell_type": "code",
   "execution_count": 99,
   "id": "60561db9-3286-4336-831a-ef36b58c6b5d",
   "metadata": {},
   "outputs": [
    {
     "name": "stdout",
     "output_type": "stream",
     "text": [
      "this is very poor country: india\n"
     ]
    }
   ],
   "source": [
    "print(\"this is very poor country: {}\".format(country))"
   ]
  },
  {
   "cell_type": "code",
   "execution_count": 97,
   "id": "34342eb9-7aa7-4987-852b-2bffb8bcae99",
   "metadata": {},
   "outputs": [
    {
     "name": "stdout",
     "output_type": "stream",
     "text": [
      "this is very poor country: india\n"
     ]
    }
   ],
   "source": [
    "print(f\"this is very poor country: {country}\")"
   ]
  },
  {
   "cell_type": "code",
   "execution_count": 101,
   "id": "ca53877d-bf50-4373-8a2e-c3e4c89a48ea",
   "metadata": {},
   "outputs": [
    {
     "name": "stdout",
     "output_type": "stream",
     "text": [
      "\n"
     ]
    }
   ],
   "source": [
    "print()"
   ]
  },
  {
   "cell_type": "code",
   "execution_count": 102,
   "id": "8cdd1817-8e09-474e-9321-20fdfc566f79",
   "metadata": {},
   "outputs": [
    {
     "data": {
      "text/plain": [
       "{}"
      ]
     },
     "execution_count": 102,
     "metadata": {},
     "output_type": "execute_result"
    }
   ],
   "source": [
    "{}"
   ]
  },
  {
   "cell_type": "code",
   "execution_count": 103,
   "id": "6df10435-d934-4caf-9012-133b3eaca1c4",
   "metadata": {},
   "outputs": [
    {
     "ename": "NameError",
     "evalue": "name 'name' is not defined",
     "output_type": "error",
     "traceback": [
      "\u001b[1;31m---------------------------------------------------------------------------\u001b[0m",
      "\u001b[1;31mNameError\u001b[0m                                 Traceback (most recent call last)",
      "Cell \u001b[1;32mIn[103], line 2\u001b[0m\n\u001b[0;32m      1\u001b[0m \u001b[38;5;28mprint\u001b[39m({\n\u001b[1;32m----> 2\u001b[0m     name: \u001b[38;5;124m\"\u001b[39m\u001b[38;5;124mgmuhiuddin\u001b[39m\u001b[38;5;124m\"\u001b[39m,\n\u001b[0;32m      3\u001b[0m })\n",
      "\u001b[1;31mNameError\u001b[0m: name 'name' is not defined"
     ]
    }
   ],
   "source": [
    "print({\n",
    "    name: \"gmuhiuddin\",\n",
    "})"
   ]
  },
  {
   "cell_type": "code",
   "execution_count": 104,
   "id": "8f863998-cff7-4f9b-9aad-696d510fb618",
   "metadata": {},
   "outputs": [
    {
     "ename": "NameError",
     "evalue": "name 'name' is not defined",
     "output_type": "error",
     "traceback": [
      "\u001b[1;31m---------------------------------------------------------------------------\u001b[0m",
      "\u001b[1;31mNameError\u001b[0m                                 Traceback (most recent call last)",
      "Cell \u001b[1;32mIn[104], line 2\u001b[0m\n\u001b[0;32m      1\u001b[0m obj \u001b[38;5;241m=\u001b[39m {\n\u001b[1;32m----> 2\u001b[0m     name: \u001b[38;5;124m\"\u001b[39m\u001b[38;5;124mA\u001b[39m\u001b[38;5;124m\"\u001b[39m\n\u001b[0;32m      3\u001b[0m }\n",
      "\u001b[1;31mNameError\u001b[0m: name 'name' is not defined"
     ]
    }
   ],
   "source": [
    "obj = {\n",
    "    name: \"A\"\n",
    "}"
   ]
  },
  {
   "cell_type": "code",
   "execution_count": 2,
   "id": "0f009658-f309-4884-9ddf-d528e0c43a22",
   "metadata": {},
   "outputs": [
    {
     "ename": "NameError",
     "evalue": "name 'country' is not defined",
     "output_type": "error",
     "traceback": [
      "\u001b[1;31m---------------------------------------------------------------------------\u001b[0m",
      "\u001b[1;31mNameError\u001b[0m                                 Traceback (most recent call last)",
      "Cell \u001b[1;32mIn[2], line 1\u001b[0m\n\u001b[1;32m----> 1\u001b[0m \u001b[38;5;28mprint\u001b[39m(\u001b[38;5;124m\"\u001b[39m\u001b[38;5;124mThis console \u001b[39m\u001b[38;5;132;01m{}\u001b[39;00m\u001b[38;5;124m\"\u001b[39m\u001b[38;5;241m.\u001b[39mformat(country))\n",
      "\u001b[1;31mNameError\u001b[0m: name 'country' is not defined"
     ]
    }
   ],
   "source": [
    "print(\"This console {}\".format(country))"
   ]
  },
  {
   "cell_type": "code",
   "execution_count": 4,
   "id": "b48c3348-dcfb-4c54-85d7-859d7797f642",
   "metadata": {},
   "outputs": [
    {
     "ename": "NameError",
     "evalue": "name 'country' is not defined",
     "output_type": "error",
     "traceback": [
      "\u001b[1;31m---------------------------------------------------------------------------\u001b[0m",
      "\u001b[1;31mNameError\u001b[0m                                 Traceback (most recent call last)",
      "Cell \u001b[1;32mIn[4], line 1\u001b[0m\n\u001b[1;32m----> 1\u001b[0m country\n",
      "\u001b[1;31mNameError\u001b[0m: name 'country' is not defined"
     ]
    }
   ],
   "source": [
    "country"
   ]
  },
  {
   "cell_type": "code",
   "execution_count": 6,
   "id": "b3722935-b8c4-43a6-8938-d251962e4496",
   "metadata": {},
   "outputs": [],
   "source": [
    "country = \"india\""
   ]
  },
  {
   "cell_type": "code",
   "execution_count": 8,
   "id": "4713ebc0-489e-4403-9fd2-c6690ff40938",
   "metadata": {},
   "outputs": [
    {
     "data": {
      "text/plain": [
       "'india'"
      ]
     },
     "execution_count": 8,
     "metadata": {},
     "output_type": "execute_result"
    }
   ],
   "source": [
    "country"
   ]
  },
  {
   "cell_type": "code",
   "execution_count": 10,
   "id": "683599ee-dbe4-472b-a711-be85f29a62c3",
   "metadata": {},
   "outputs": [
    {
     "name": "stdout",
     "output_type": "stream",
     "text": [
      "This console india\n"
     ]
    }
   ],
   "source": [
    "print(\"This console {}\".format(country))"
   ]
  },
  {
   "cell_type": "code",
   "execution_count": 12,
   "id": "5f4caabf-63d8-4277-a738-2941feb64131",
   "metadata": {},
   "outputs": [
    {
     "name": "stdout",
     "output_type": "stream",
     "text": [
      "This console india\n"
     ]
    }
   ],
   "source": [
    "print(f\"This console {country}\")"
   ]
  },
  {
   "cell_type": "code",
   "execution_count": 16,
   "id": "8434942c-924f-4b49-ac93-6c6163f621e1",
   "metadata": {},
   "outputs": [
    {
     "name": "stdout",
     "output_type": "stream",
     "text": [
      "My\n",
      "name\n",
      "is\n",
      "gmuhiuddin\n"
     ]
    }
   ],
   "source": [
    "print(\"My\")\n",
    "print(\"name\")\n",
    "print(\"is\")\n",
    "print(\"gmuhiuddin\")"
   ]
  },
  {
   "cell_type": "code",
   "execution_count": 21,
   "id": "c69e619a-69d0-4ed1-a7b2-6bc8f9ab8661",
   "metadata": {},
   "outputs": [
    {
     "name": "stdout",
     "output_type": "stream",
     "text": [
      "My name is gmuhiuddin "
     ]
    }
   ],
   "source": [
    "print(\"My\", end=\" \")\n",
    "print(\"name\", end=\" \")\n",
    "print(\"is\", end=\" \")\n",
    "print(\"gmuhiuddin\", end=\" \")"
   ]
  },
  {
   "cell_type": "code",
   "execution_count": 25,
   "id": "e145f923-7b90-4aa5-8f3e-2e654ccc740f",
   "metadata": {},
   "outputs": [
    {
     "name": "stdout",
     "output_type": "stream",
     "text": [
      "70.6\n"
     ]
    }
   ],
   "source": [
    "print(70600/1000)"
   ]
  },
  {
   "cell_type": "code",
   "execution_count": 27,
   "id": "be143954-a05f-460b-b7e6-acd35333dba8",
   "metadata": {},
   "outputs": [
    {
     "name": "stdout",
     "output_type": "stream",
     "text": [
      "70\n"
     ]
    }
   ],
   "source": [
    "print(70600//1000)"
   ]
  },
  {
   "cell_type": "code",
   "execution_count": 31,
   "id": "96a9f85c-f509-4fb3-bbe1-93a5b8fa87b5",
   "metadata": {},
   "outputs": [
    {
     "name": "stdout",
     "output_type": "stream",
     "text": [
      "<class 'int'>\n"
     ]
    }
   ],
   "source": [
    "print(type(int(\"45\")))"
   ]
  },
  {
   "cell_type": "code",
   "execution_count": 33,
   "id": "88203aa8-c880-488f-a529-7e9ac774a6bc",
   "metadata": {},
   "outputs": [],
   "source": [
    "num = 10"
   ]
  },
  {
   "cell_type": "code",
   "execution_count": 35,
   "id": "9ab9ace4-7d7e-46ec-a089-5b1a2bf12eb2",
   "metadata": {},
   "outputs": [
    {
     "data": {
      "text/plain": [
       "4"
      ]
     },
     "execution_count": 35,
     "metadata": {},
     "output_type": "execute_result"
    }
   ],
   "source": [
    "num.bit_length()"
   ]
  },
  {
   "cell_type": "code",
   "execution_count": 39,
   "id": "f06f017d-9689-4217-a357-68fc88936b9f",
   "metadata": {},
   "outputs": [
    {
     "data": {
      "text/plain": [
       "2"
      ]
     },
     "execution_count": 39,
     "metadata": {},
     "output_type": "execute_result"
    }
   ],
   "source": [
    "num.bit_count()"
   ]
  },
  {
   "cell_type": "code",
   "execution_count": 41,
   "id": "6d5def71-b165-4073-98a3-f6f5047bbf2b",
   "metadata": {},
   "outputs": [
    {
     "data": {
      "text/plain": [
       "True"
      ]
     },
     "execution_count": 41,
     "metadata": {},
     "output_type": "execute_result"
    }
   ],
   "source": [
    "country.isalnum()"
   ]
  },
  {
   "cell_type": "code",
   "execution_count": 43,
   "id": "b765f9db-4e59-4cd4-9cd4-3bc59418534c",
   "metadata": {},
   "outputs": [
    {
     "data": {
      "text/plain": [
       "False"
      ]
     },
     "execution_count": 43,
     "metadata": {},
     "output_type": "execute_result"
    }
   ],
   "source": [
    "\"-\".isalpha()"
   ]
  },
  {
   "cell_type": "code",
   "execution_count": 45,
   "id": "be7912d1-aeb6-4c3d-8569-dffd8588529c",
   "metadata": {},
   "outputs": [
    {
     "data": {
      "text/plain": [
       "False"
      ]
     },
     "execution_count": 45,
     "metadata": {},
     "output_type": "execute_result"
    }
   ],
   "source": [
    "\"1\".isalpha()"
   ]
  },
  {
   "cell_type": "code",
   "execution_count": 49,
   "id": "c5549631-bb30-4ac7-b0d0-abdf131a8d5b",
   "metadata": {},
   "outputs": [
    {
     "data": {
      "text/plain": [
       "True"
      ]
     },
     "execution_count": 49,
     "metadata": {},
     "output_type": "execute_result"
    }
   ],
   "source": [
    "\"a\".isalpha()"
   ]
  },
  {
   "cell_type": "code",
   "execution_count": 51,
   "id": "d36c07c7-5388-4c4e-b917-7c148cd69458",
   "metadata": {},
   "outputs": [
    {
     "name": "stdout",
     "output_type": "stream",
     "text": [
      "bilal\n"
     ]
    }
   ],
   "source": [
    "print(\"bilal\")"
   ]
  },
  {
   "cell_type": "code",
   "execution_count": null,
   "id": "fa53ae77-cc65-4e53-8f29-e5d3c66a7811",
   "metadata": {},
   "outputs": [],
   "source": [
    "print(\"gmuhiuddin\")"
   ]
  }
 ],
 "metadata": {
  "kernelspec": {
   "display_name": "Python 3 (ipykernel)",
   "language": "python",
   "name": "python3"
  },
  "language_info": {
   "codemirror_mode": {
    "name": "ipython",
    "version": 3
   },
   "file_extension": ".py",
   "mimetype": "text/x-python",
   "name": "python",
   "nbconvert_exporter": "python",
   "pygments_lexer": "ipython3",
   "version": "3.12.7"
  }
 },
 "nbformat": 4,
 "nbformat_minor": 5
}
