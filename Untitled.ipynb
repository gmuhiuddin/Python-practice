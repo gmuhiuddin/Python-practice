{
 "cells": [
  {
   "cell_type": "code",
   "execution_count": 1,
   "id": "6c0d52ab-4838-48c8-819c-77c675f4fdff",
   "metadata": {},
   "outputs": [],
   "source": [
    "class Person ():\n",
    "    pass"
   ]
  },
  {
   "cell_type": "code",
   "execution_count": 3,
   "id": "71432a08-9ced-4ac9-9ba1-b2c1399bdb82",
   "metadata": {},
   "outputs": [],
   "source": [
    "p1 = Person()"
   ]
  },
  {
   "cell_type": "code",
   "execution_count": 7,
   "id": "d0e580b4-799f-4870-ad05-cca1865c788b",
   "metadata": {},
   "outputs": [
    {
     "data": {
      "text/plain": [
       "__main__.Person"
      ]
     },
     "execution_count": 7,
     "metadata": {},
     "output_type": "execute_result"
    }
   ],
   "source": [
    "type(p1)"
   ]
  },
  {
   "cell_type": "code",
   "execution_count": 49,
   "id": "58a12b5e-5dc5-4b1f-9a80-274d5838dcda",
   "metadata": {},
   "outputs": [],
   "source": [
    "class Person ():\n",
    "    # attributes\n",
    "    name = \"Bilal\"\n",
    "    age = 18\n",
    "    gender = \"Male\"\n",
    "    occupation = \"Jobless\"\n",
    "    # Methods / Behaviours / Action\n",
    "    def reaction (self):\n",
    "        print(f\"{self.name} name\")"
   ]
  },
  {
   "cell_type": "code",
   "execution_count": 53,
   "id": "e642c4f4-9345-45fd-b2ab-8fe41d62b8aa",
   "metadata": {},
   "outputs": [],
   "source": [
    "p1 = Person()"
   ]
  },
  {
   "cell_type": "code",
   "execution_count": 60,
   "id": "447bef58-bae2-42f8-9126-eda0d719cdbb",
   "metadata": {},
   "outputs": [
    {
     "data": {
      "text/plain": [
       "<__main__.Person at 0x1fce10ecf20>"
      ]
     },
     "execution_count": 60,
     "metadata": {},
     "output_type": "execute_result"
    }
   ],
   "source": [
    "p1"
   ]
  },
  {
   "cell_type": "code",
   "execution_count": 62,
   "id": "08fdca90-217e-46b9-916c-d823979223a4",
   "metadata": {},
   "outputs": [
    {
     "data": {
      "text/plain": [
       "'Bilal'"
      ]
     },
     "execution_count": 62,
     "metadata": {},
     "output_type": "execute_result"
    }
   ],
   "source": [
    "p1.name"
   ]
  },
  {
   "cell_type": "code",
   "execution_count": 63,
   "id": "1465d2f0-12e0-4083-9f4e-9c987afd345f",
   "metadata": {},
   "outputs": [
    {
     "name": "stdout",
     "output_type": "stream",
     "text": [
      "Bilal name\n"
     ]
    }
   ],
   "source": [
    "p1.reaction()"
   ]
  },
  {
   "cell_type": "code",
   "execution_count": 142,
   "id": "661c8d90-2ca9-4764-aa08-1c06ff534db8",
   "metadata": {},
   "outputs": [
    {
     "ename": "TypeError",
     "evalue": "unsupported operand type(s) for -: 'str' and 'int'",
     "output_type": "error",
     "traceback": [
      "\u001b[1;31m---------------------------------------------------------------------------\u001b[0m",
      "\u001b[1;31mTypeError\u001b[0m                                 Traceback (most recent call last)",
      "Cell \u001b[1;32mIn[142], line 1\u001b[0m\n\u001b[1;32m----> 1\u001b[0m \u001b[38;5;124m\"\u001b[39m\u001b[38;5;124m123\u001b[39m\u001b[38;5;124m\"\u001b[39m \u001b[38;5;241m-\u001b[39m \u001b[38;5;241m1\u001b[39m\n",
      "\u001b[1;31mTypeError\u001b[0m: unsupported operand type(s) for -: 'str' and 'int'"
     ]
    }
   ],
   "source": [
    "\"123\" - 1"
   ]
  },
  {
   "cell_type": "code",
   "execution_count": 144,
   "id": "ecec5bbf-966d-4356-a257-be453e597b08",
   "metadata": {},
   "outputs": [
    {
     "data": {
      "text/plain": [
       "'123123'"
      ]
     },
     "execution_count": 144,
     "metadata": {},
     "output_type": "execute_result"
    }
   ],
   "source": [
    "\"123\"*2"
   ]
  },
  {
   "cell_type": "code",
   "execution_count": 146,
   "id": "2991538e-8378-412c-b44c-2c4a66aee3b9",
   "metadata": {},
   "outputs": [
    {
     "data": {
      "text/plain": [
       "1"
      ]
     },
     "execution_count": 146,
     "metadata": {},
     "output_type": "execute_result"
    }
   ],
   "source": [
    "3%2"
   ]
  },
  {
   "cell_type": "code",
   "execution_count": 148,
   "id": "edad8765-3cac-4339-87e1-df15748fc2ca",
   "metadata": {},
   "outputs": [
    {
     "data": {
      "text/plain": [
       "2185619230496"
      ]
     },
     "execution_count": 148,
     "metadata": {},
     "output_type": "execute_result"
    }
   ],
   "source": [
    "id(p1)"
   ]
  },
  {
   "cell_type": "code",
   "execution_count": null,
   "id": "dce9a3a5-c95d-46b4-a721-8e17f398cf75",
   "metadata": {},
   "outputs": [],
   "source": []
  }
 ],
 "metadata": {
  "kernelspec": {
   "display_name": "Python 3 (ipykernel)",
   "language": "python",
   "name": "python3"
  },
  "language_info": {
   "codemirror_mode": {
    "name": "ipython",
    "version": 3
   },
   "file_extension": ".py",
   "mimetype": "text/x-python",
   "name": "python",
   "nbconvert_exporter": "python",
   "pygments_lexer": "ipython3",
   "version": "3.12.7"
  }
 },
 "nbformat": 4,
 "nbformat_minor": 5
}
