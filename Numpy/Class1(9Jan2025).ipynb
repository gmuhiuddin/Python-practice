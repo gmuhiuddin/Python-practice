{
 "cells": [
  {
   "cell_type": "code",
   "execution_count": 2,
   "id": "49e511fb-5a67-4a97-9c38-f1a22c6dcf53",
   "metadata": {},
   "outputs": [],
   "source": [
    "import numpy as np"
   ]
  },
  {
   "cell_type": "code",
   "execution_count": 11,
   "id": "506043ec-3609-4c70-bd81-19c00ad073dd",
   "metadata": {},
   "outputs": [],
   "source": [
    "lst = [1,2,3,4,5,6,]"
   ]
  },
  {
   "cell_type": "code",
   "execution_count": 12,
   "id": "e4183d0c-ec3c-4afd-b665-ec8803b8ef08",
   "metadata": {},
   "outputs": [
    {
     "data": {
      "text/plain": [
       "[10, 20, 30, 40, 50, 60]"
      ]
     },
     "execution_count": 12,
     "metadata": {},
     "output_type": "execute_result"
    }
   ],
   "source": [
    "lst_10= []\n",
    "for n in lst:\n",
    "    lst_10.append(n*10)\n",
    "lst_10"
   ]
  },
  {
   "cell_type": "code",
   "execution_count": 13,
   "id": "700383be-a927-44b4-9022-cadd5bee6286",
   "metadata": {},
   "outputs": [
    {
     "data": {
      "text/plain": [
       "array([1, 2, 3, 4, 5, 6])"
      ]
     },
     "execution_count": 13,
     "metadata": {},
     "output_type": "execute_result"
    }
   ],
   "source": [
    "array  = np.array(lst)\n",
    "array"
   ]
  },
  {
   "cell_type": "code",
   "execution_count": 14,
   "id": "d1bb433c-beaa-4857-8e7f-7b34a1906392",
   "metadata": {},
   "outputs": [
    {
     "data": {
      "text/plain": [
       "numpy.ndarray"
      ]
     },
     "execution_count": 14,
     "metadata": {},
     "output_type": "execute_result"
    }
   ],
   "source": [
    "type(array)"
   ]
  },
  {
   "cell_type": "code",
   "execution_count": 15,
   "id": "0583abf9-1de9-4004-b2f0-f3cadadcf8e0",
   "metadata": {},
   "outputs": [
    {
     "data": {
      "text/plain": [
       "array([10, 20, 30, 40, 50, 60])"
      ]
     },
     "execution_count": 15,
     "metadata": {},
     "output_type": "execute_result"
    }
   ],
   "source": [
    "array*10"
   ]
  },
  {
   "cell_type": "code",
   "execution_count": 16,
   "id": "6c22e8f2-1407-4c49-bfe8-6d16975fd5fc",
   "metadata": {},
   "outputs": [],
   "source": [
    "# a function that squares all the values\n",
    "# in a sequence\n",
    "def squares(values):\n",
    "    result = []\n",
    "    for v in values:\n",
    "        result.append(v * v)\n",
    "    return result"
   ]
  },
  {
   "cell_type": "code",
   "execution_count": 17,
   "id": "f37aace1-1780-43af-9762-53f225a11e66",
   "metadata": {},
   "outputs": [],
   "source": [
    "# create 100,000 numbers using python range\n",
    "to_square = range(100000)"
   ]
  },
  {
   "cell_type": "code",
   "execution_count": 18,
   "id": "0e0eae6a-19b5-47d2-9902-b45f632b954e",
   "metadata": {},
   "outputs": [
    {
     "name": "stdout",
     "output_type": "stream",
     "text": [
      "24.9 ms ± 594 μs per loop (mean ± std. dev. of 7 runs, 100 loops each)\n"
     ]
    }
   ],
   "source": [
    "# time how long it takes to repeatedly square them all\n",
    "%timeit squares(to_square)"
   ]
  },
  {
   "cell_type": "code",
   "execution_count": 19,
   "id": "5b916b36-65d9-4abd-8cc7-55be6b1852cf",
   "metadata": {},
   "outputs": [
    {
     "name": "stdout",
     "output_type": "stream",
     "text": [
      "174 μs ± 4.04 μs per loop (mean ± std. dev. of 7 runs, 10,000 loops each)\n"
     ]
    }
   ],
   "source": [
    "# now lets do this with a numpy array\n",
    "array_to_square = np.arange(0, 100000)\n",
    "# and time using a vectorized operation\n",
    "%timeit array_to_square ** 2"
   ]
  },
  {
   "cell_type": "markdown",
   "id": "7a895a31-7026-4677-95c8-82086a0b5b30",
   "metadata": {},
   "source": [
    "# Creating NumPy arrays and performing basic array operations\n",
    "   - type casting python list\n",
    "   - np.array\n",
    "   - np.arange()"
   ]
  },
  {
   "cell_type": "code",
   "execution_count": 24,
   "id": "fdbf987f-c77b-4ec7-bd07-12709b3fd2d7",
   "metadata": {},
   "outputs": [],
   "source": [
    "lst = [10,20,39]\n",
    "arr1d = np.array(lst)"
   ]
  },
  {
   "cell_type": "code",
   "execution_count": 22,
   "id": "46064337-c1e1-40f3-9886-e0da3f9d5fd7",
   "metadata": {},
   "outputs": [
    {
     "data": {
      "text/plain": [
       "array([1, 2, 3, 4, 5, 6, 7])"
      ]
     },
     "execution_count": 22,
     "metadata": {},
     "output_type": "execute_result"
    }
   ],
   "source": [
    "np.array((1,2,3,4,5,6,7))"
   ]
  },
  {
   "cell_type": "code",
   "execution_count": 23,
   "id": "1a0c61c9-b368-40c1-bc23-846d88bc994d",
   "metadata": {},
   "outputs": [
    {
     "data": {
      "text/plain": [
       "array([0, 1, 2, 3, 4, 5, 6, 7, 8, 9])"
      ]
     },
     "execution_count": 23,
     "metadata": {},
     "output_type": "execute_result"
    }
   ],
   "source": [
    "np.arange(10)"
   ]
  },
  {
   "cell_type": "code",
   "execution_count": 26,
   "id": "2601920d-02c3-47f5-87f4-4a80ce6d14ab",
   "metadata": {},
   "outputs": [
    {
     "data": {
      "text/plain": [
       "3"
      ]
     },
     "execution_count": 26,
     "metadata": {},
     "output_type": "execute_result"
    }
   ],
   "source": [
    "# how many members\n",
    "arr1d.size"
   ]
  },
  {
   "cell_type": "code",
   "execution_count": 27,
   "id": "4a95b785-1a54-4886-b9d4-f3a65420ed2e",
   "metadata": {},
   "outputs": [
    {
     "data": {
      "text/plain": [
       "(3,)"
      ]
     },
     "execution_count": 27,
     "metadata": {},
     "output_type": "execute_result"
    }
   ],
   "source": [
    "# shape/order\n",
    "arr1d.shape"
   ]
  },
  {
   "cell_type": "code",
   "execution_count": 28,
   "id": "c2d93139-83ad-45d6-9d00-2ccda93afa14",
   "metadata": {},
   "outputs": [
    {
     "data": {
      "text/plain": [
       "dtype('int32')"
      ]
     },
     "execution_count": 28,
     "metadata": {},
     "output_type": "execute_result"
    }
   ],
   "source": [
    "arr1d.dtype"
   ]
  },
  {
   "cell_type": "code",
   "execution_count": 29,
   "id": "65b1148f-bcd9-43fe-ba31-498b8ca8019f",
   "metadata": {},
   "outputs": [
    {
     "data": {
      "text/plain": [
       "dtype('float64')"
      ]
     },
     "execution_count": 29,
     "metadata": {},
     "output_type": "execute_result"
    }
   ],
   "source": [
    "arr1d = np.array([10,20,39.0])\n",
    "arr1d.dtype"
   ]
  },
  {
   "cell_type": "code",
   "execution_count": 32,
   "id": "42ce314f-ddd9-4d4d-805a-3166632437a3",
   "metadata": {},
   "outputs": [],
   "source": [
    "zeros = np.zeros(10)"
   ]
  },
  {
   "cell_type": "code",
   "execution_count": 33,
   "id": "0b929d68-06ce-4953-843f-c9bfb15025ac",
   "metadata": {},
   "outputs": [
    {
     "data": {
      "text/plain": [
       "array([0., 0., 0., 0., 0., 0., 0., 0., 0., 0.])"
      ]
     },
     "execution_count": 33,
     "metadata": {},
     "output_type": "execute_result"
    }
   ],
   "source": [
    "zeros"
   ]
  },
  {
   "cell_type": "code",
   "execution_count": 34,
   "id": "2042a8ae-0839-4ac2-85db-aaf70b82cb7f",
   "metadata": {},
   "outputs": [],
   "source": [
    "ones = np.ones(10)"
   ]
  },
  {
   "cell_type": "code",
   "execution_count": 43,
   "id": "43a0752b-826b-4688-b155-1814c9967810",
   "metadata": {},
   "outputs": [
    {
     "data": {
      "text/plain": [
       "1"
      ]
     },
     "execution_count": 43,
     "metadata": {},
     "output_type": "execute_result"
    }
   ],
   "source": [
    "ones.ndim"
   ]
  },
  {
   "cell_type": "code",
   "execution_count": 36,
   "id": "8d059a66-54e6-4306-a666-0b70fd0f6428",
   "metadata": {},
   "outputs": [
    {
     "data": {
      "text/plain": [
       "array([0., 1., 2., 3., 4., 5., 6., 7., 8., 9.])"
      ]
     },
     "execution_count": 36,
     "metadata": {},
     "output_type": "execute_result"
    }
   ],
   "source": [
    "np.linspace(0,9,10)"
   ]
  },
  {
   "cell_type": "markdown",
   "id": "58753fa4-260d-4b6a-886b-ab8f3673b3fa",
   "metadata": {},
   "source": [
    "# 2-dimensional array"
   ]
  },
  {
   "cell_type": "code",
   "execution_count": 38,
   "id": "5131cd5a-c351-4251-b1f0-caa5dec8a23c",
   "metadata": {},
   "outputs": [
    {
     "data": {
      "text/plain": [
       "[[6, 4, 2], [1, 2, 3]]"
      ]
     },
     "execution_count": 38,
     "metadata": {},
     "output_type": "execute_result"
    }
   ],
   "source": [
    "lst2d =[[6,4,2],[1,2,3]]\n",
    "lst2d"
   ]
  },
  {
   "cell_type": "code",
   "execution_count": 39,
   "id": "a0522516-7a23-47aa-b94d-303db752e6f6",
   "metadata": {},
   "outputs": [
    {
     "data": {
      "text/plain": [
       "array([[6, 4, 2],\n",
       "       [1, 2, 3]])"
      ]
     },
     "execution_count": 39,
     "metadata": {},
     "output_type": "execute_result"
    }
   ],
   "source": [
    "arr2d = np.array(lst2d)\n",
    "arr2d"
   ]
  },
  {
   "cell_type": "code",
   "execution_count": 40,
   "id": "0fc2242d-f9a8-43ce-9e7b-757c37e2f30f",
   "metadata": {},
   "outputs": [
    {
     "data": {
      "text/plain": [
       "(2, 3)"
      ]
     },
     "execution_count": 40,
     "metadata": {},
     "output_type": "execute_result"
    }
   ],
   "source": [
    "arr2d.shape"
   ]
  },
  {
   "cell_type": "code",
   "execution_count": 41,
   "id": "ae0bff9c-a2ef-46dd-a822-7bdf9cc715f3",
   "metadata": {},
   "outputs": [
    {
     "data": {
      "text/plain": [
       "6"
      ]
     },
     "execution_count": 41,
     "metadata": {},
     "output_type": "execute_result"
    }
   ],
   "source": [
    "arr2d.size"
   ]
  },
  {
   "cell_type": "code",
   "execution_count": 42,
   "id": "146604f6-0990-4835-b474-71f6aa9d5931",
   "metadata": {},
   "outputs": [
    {
     "data": {
      "text/plain": [
       "2"
      ]
     },
     "execution_count": 42,
     "metadata": {},
     "output_type": "execute_result"
    }
   ],
   "source": [
    "arr2d.ndim"
   ]
  },
  {
   "cell_type": "code",
   "execution_count": 44,
   "id": "cdc2b29a-7f2c-4cf6-b96a-c34d28e77168",
   "metadata": {},
   "outputs": [
    {
     "data": {
      "text/plain": [
       "array([[ 0,  1,  2,  3,  4,  5,  6,  7,  8,  9, 10, 11, 12, 13, 14, 15]])"
      ]
     },
     "execution_count": 44,
     "metadata": {},
     "output_type": "execute_result"
    }
   ],
   "source": [
    "arr2d = np.arange(16).reshape(1,16)\n",
    "arr2d"
   ]
  },
  {
   "cell_type": "code",
   "execution_count": 45,
   "id": "afea5755-b8ac-4f83-837a-adde0c306efa",
   "metadata": {},
   "outputs": [
    {
     "data": {
      "text/plain": [
       "(1, 16)"
      ]
     },
     "execution_count": 45,
     "metadata": {},
     "output_type": "execute_result"
    }
   ],
   "source": [
    "arr2d.shape"
   ]
  },
  {
   "cell_type": "code",
   "execution_count": 46,
   "id": "4ff22b4e-13a4-4149-a8b5-93c9d6cece0b",
   "metadata": {},
   "outputs": [
    {
     "data": {
      "text/plain": [
       "array([[ 0,  1,  2,  3],\n",
       "       [ 4,  5,  6,  7],\n",
       "       [ 8,  9, 10, 11],\n",
       "       [12, 13, 14, 15]])"
      ]
     },
     "execution_count": 46,
     "metadata": {},
     "output_type": "execute_result"
    }
   ],
   "source": [
    "arr2d = np.arange(16).reshape(4,4)\n",
    "arr2d"
   ]
  },
  {
   "cell_type": "code",
   "execution_count": 47,
   "id": "e192dba6-3170-47af-8a4f-77ebb8236964",
   "metadata": {},
   "outputs": [
    {
     "data": {
      "text/plain": [
       "array([[ 0,  1,  2,  3,  4,  5,  6,  7],\n",
       "       [ 8,  9, 10, 11, 12, 13, 14, 15]])"
      ]
     },
     "execution_count": 47,
     "metadata": {},
     "output_type": "execute_result"
    }
   ],
   "source": [
    "arr2d = np.arange(16).reshape(2,8)\n",
    "arr2d"
   ]
  },
  {
   "cell_type": "code",
   "execution_count": 48,
   "id": "9525139b-9ac3-4345-a63e-0881cdf261fd",
   "metadata": {},
   "outputs": [
    {
     "data": {
      "text/plain": [
       "array([[ 0,  1],\n",
       "       [ 2,  3],\n",
       "       [ 4,  5],\n",
       "       [ 6,  7],\n",
       "       [ 8,  9],\n",
       "       [10, 11],\n",
       "       [12, 13],\n",
       "       [14, 15]])"
      ]
     },
     "execution_count": 48,
     "metadata": {},
     "output_type": "execute_result"
    }
   ],
   "source": [
    "arr2d = np.arange(16).reshape(8,2)\n",
    "arr2d"
   ]
  },
  {
   "cell_type": "code",
   "execution_count": 49,
   "id": "6ea14cd1-862c-43a1-bbc5-bd495ff6efc6",
   "metadata": {},
   "outputs": [
    {
     "data": {
      "text/plain": [
       "array([[ 0],\n",
       "       [ 1],\n",
       "       [ 2],\n",
       "       [ 3],\n",
       "       [ 4],\n",
       "       [ 5],\n",
       "       [ 6],\n",
       "       [ 7],\n",
       "       [ 8],\n",
       "       [ 9],\n",
       "       [10],\n",
       "       [11],\n",
       "       [12],\n",
       "       [13],\n",
       "       [14],\n",
       "       [15]])"
      ]
     },
     "execution_count": 49,
     "metadata": {},
     "output_type": "execute_result"
    }
   ],
   "source": [
    "arr2d = np.arange(16).reshape(16,1)\n",
    "arr2d"
   ]
  },
  {
   "cell_type": "code",
   "execution_count": 50,
   "id": "4b1496b8-577a-469b-9a9e-635b835d647e",
   "metadata": {},
   "outputs": [
    {
     "ename": "ValueError",
     "evalue": "cannot reshape array of size 16 into shape (5,4)",
     "output_type": "error",
     "traceback": [
      "\u001b[1;31m---------------------------------------------------------------------------\u001b[0m",
      "\u001b[1;31mValueError\u001b[0m                                Traceback (most recent call last)",
      "Cell \u001b[1;32mIn[50], line 1\u001b[0m\n\u001b[1;32m----> 1\u001b[0m arr2d \u001b[38;5;241m=\u001b[39m np\u001b[38;5;241m.\u001b[39marange(\u001b[38;5;241m16\u001b[39m)\u001b[38;5;241m.\u001b[39mreshape(\u001b[38;5;241m5\u001b[39m,\u001b[38;5;241m4\u001b[39m)\n\u001b[0;32m      2\u001b[0m arr2d\n",
      "\u001b[1;31mValueError\u001b[0m: cannot reshape array of size 16 into shape (5,4)"
     ]
    }
   ],
   "source": [
    "arr2d = np.arange(16).reshape(5,4)\n",
    "arr2d"
   ]
  },
  {
   "cell_type": "markdown",
   "id": "403c807e-6e07-4696-8e66-ac929a3144e8",
   "metadata": {},
   "source": [
    "# 3-Dimensional Array"
   ]
  },
  {
   "cell_type": "code",
   "execution_count": 55,
   "id": "8920808e-e19a-4de8-9d84-a48ef183dfe0",
   "metadata": {},
   "outputs": [
    {
     "data": {
      "text/plain": [
       "array([[[ 1,  2,  3],\n",
       "        [ 4,  5,  6],\n",
       "        [ 7,  8,  9],\n",
       "        [10, 11, 12]],\n",
       "\n",
       "       [[13, 14, 15],\n",
       "        [16, 17, 18],\n",
       "        [19, 20, 21],\n",
       "        [22, 23, 24]],\n",
       "\n",
       "       [[25, 26, 27],\n",
       "        [28, 29, 30],\n",
       "        [31, 32, 33],\n",
       "        [34, 35, 36]]])"
      ]
     },
     "execution_count": 55,
     "metadata": {},
     "output_type": "execute_result"
    }
   ],
   "source": [
    "arr3d = np.arange(1,37).reshape(3,4,3)     # copy/depth, row,columns\n",
    "arr3d"
   ]
  },
  {
   "attachments": {
    "b87950f6-9a7b-4d10-87c4-88d2a9115fb7.png": {
     "image/png": "[encoded data removed]"
    }
   },
   "cell_type": "markdown",
   "id": "4731efb2-07bd-4993-a0a7-ae2b28633844",
   "metadata": {},
   "source": [
    "![image.png](attachment:b87950f6-9a7b-4d10-87c4-88d2a9115fb7.png)"
   ]
  },
  {
   "cell_type": "code",
   "execution_count": 56,
   "id": "2209ba40-7659-4359-8408-625ca32cf80c",
   "metadata": {},
   "outputs": [
    {
     "name": "stdout",
     "output_type": "stream",
     "text": [
      "JPEG\n",
      "(600, 600)\n",
      "RGB\n"
     ]
    }
   ],
   "source": [
    "from PIL import Image\n",
    "image = Image.open('my.jpg')\n",
    "\n",
    "# summarize some details about the image\n",
    "print(image.format)\n",
    "print(image.size)\n",
    "print(image.mode)\n"
   ]
  },
  {
   "cell_type": "code",
   "execution_count": 58,
   "id": "90150c60-5570-4cb0-9388-e49de0d7921b",
   "metadata": {},
   "outputs": [
    {
     "name": "stdout",
     "output_type": "stream",
     "text": [
      "<class 'numpy.ndarray'>\n",
      "(600, 600, 3)\n"
     ]
    }
   ],
   "source": [
    "# Import the necessary libraries\n",
    "from PIL import Image\n",
    "\n",
    "# load the image and convert into\n",
    "# numpy array\n",
    "image = Image.open('my.jpg')\n",
    "\n",
    "# asarray() class is used to convert\n",
    "# PIL images into NumPy arrays\n",
    "numpydata = np.asarray(image)\n",
    "\n",
    "# <class 'numpy.ndarray'>\n",
    "print(type(numpydata))\n",
    "\n",
    "# shape\n",
    "print(numpydata.shape)\n"
   ]
  },
  {
   "cell_type": "code",
   "execution_count": 59,
   "id": "4e80a866-c4f4-4285-bfc6-2b41c60a4b31",
   "metadata": {},
   "outputs": [
    {
     "data": {
      "text/plain": [
       "array([[[41, 48, 58],\n",
       "        [41, 48, 58],\n",
       "        [41, 48, 58],\n",
       "        ...,\n",
       "        [41, 48, 58],\n",
       "        [41, 48, 58],\n",
       "        [41, 48, 58]],\n",
       "\n",
       "       [[41, 48, 58],\n",
       "        [41, 48, 58],\n",
       "        [41, 48, 58],\n",
       "        ...,\n",
       "        [41, 48, 58],\n",
       "        [41, 48, 58],\n",
       "        [41, 48, 58]],\n",
       "\n",
       "       [[41, 48, 58],\n",
       "        [41, 48, 58],\n",
       "        [41, 48, 58],\n",
       "        ...,\n",
       "        [41, 48, 58],\n",
       "        [41, 48, 58],\n",
       "        [41, 48, 58]],\n",
       "\n",
       "       ...,\n",
       "\n",
       "       [[ 2,  2,  2],\n",
       "        [ 2,  2,  2],\n",
       "        [ 2,  2,  2],\n",
       "        ...,\n",
       "        [ 0,  0,  0],\n",
       "        [ 0,  0,  0],\n",
       "        [ 0,  0,  0]],\n",
       "\n",
       "       [[ 2,  2,  2],\n",
       "        [ 2,  2,  2],\n",
       "        [ 2,  2,  2],\n",
       "        ...,\n",
       "        [ 0,  0,  0],\n",
       "        [ 0,  0,  0],\n",
       "        [ 0,  0,  0]],\n",
       "\n",
       "       [[ 2,  2,  2],\n",
       "        [ 2,  2,  2],\n",
       "        [ 2,  2,  2],\n",
       "        ...,\n",
       "        [ 0,  0,  0],\n",
       "        [ 0,  0,  0],\n",
       "        [ 0,  0,  0]]], dtype=uint8)"
      ]
     },
     "execution_count": 59,
     "metadata": {},
     "output_type": "execute_result"
    }
   ],
   "source": [
    "numpydata"
   ]
  },
  {
   "cell_type": "code",
   "execution_count": 62,
   "id": "18ba3c3d-534a-4acd-b97f-42ca78034a6b",
   "metadata": {},
   "outputs": [
    {
     "name": "stdout",
     "output_type": "stream",
     "text": [
      "<class 'numpy.ndarray'>\n",
      "(192, 204, 3)\n"
     ]
    }
   ],
   "source": [
    "# Import the necessary libraries\n",
    "from PIL import Image\n",
    "\n",
    "# load the image and convert into\n",
    "# numpy array\n",
    "image = Image.open('six.jpg')\n",
    "\n",
    "# asarray() class is used to convert\n",
    "# PIL images into NumPy arrays\n",
    "numpydata = np.asarray(image)\n",
    "\n",
    "# <class 'numpy.ndarray'>\n",
    "print(type(numpydata))\n",
    "\n",
    "# shape\n",
    "print(numpydata.shape)\n"
   ]
  },
  {
   "cell_type": "code",
   "execution_count": 63,
   "id": "b0e43625-398e-48e4-aae3-f34d37de2918",
   "metadata": {},
   "outputs": [
    {
     "data": {
      "text/plain": [
       "array([[[254, 254, 254],\n",
       "        [254, 254, 254],\n",
       "        [254, 254, 254],\n",
       "        ...,\n",
       "        [254, 254, 254],\n",
       "        [254, 254, 254],\n",
       "        [254, 254, 254]],\n",
       "\n",
       "       [[254, 254, 254],\n",
       "        [254, 254, 254],\n",
       "        [254, 254, 254],\n",
       "        ...,\n",
       "        [254, 254, 254],\n",
       "        [254, 254, 254],\n",
       "        [254, 254, 254]],\n",
       "\n",
       "       [[254, 254, 254],\n",
       "        [254, 254, 254],\n",
       "        [254, 254, 254],\n",
       "        ...,\n",
       "        [254, 254, 254],\n",
       "        [254, 254, 254],\n",
       "        [254, 254, 254]],\n",
       "\n",
       "       ...,\n",
       "\n",
       "       [[252, 252, 252],\n",
       "        [252, 252, 252],\n",
       "        [252, 252, 252],\n",
       "        ...,\n",
       "        [252, 252, 252],\n",
       "        [252, 252, 252],\n",
       "        [252, 252, 252]],\n",
       "\n",
       "       [[254, 254, 254],\n",
       "        [254, 254, 254],\n",
       "        [254, 254, 254],\n",
       "        ...,\n",
       "        [254, 254, 254],\n",
       "        [254, 254, 254],\n",
       "        [254, 254, 254]],\n",
       "\n",
       "       [[  2,   2,   2],\n",
       "        [  2,   2,   2],\n",
       "        [  2,   2,   2],\n",
       "        ...,\n",
       "        [  2,   2,   2],\n",
       "        [  2,   2,   2],\n",
       "        [  2,   2,   2]]], dtype=uint8)"
      ]
     },
     "execution_count": 63,
     "metadata": {},
     "output_type": "execute_result"
    }
   ],
   "source": [
    "numpydata"
   ]
  },
  {
   "cell_type": "code",
   "execution_count": null,
   "id": "12f3e9f7-1a73-487d-978b-b6e8e854878b",
   "metadata": {},
   "outputs": [],
   "source": []
  }
 ],
 "metadata": {
  "kernelspec": {
   "display_name": "Python 3 (ipykernel)",
   "language": "python",
   "name": "python3"
  },
  "language_info": {
   "codemirror_mode": {
    "name": "ipython",
    "version": 3
   },
   "file_extension": ".py",
   "mimetype": "text/x-python",
   "name": "python",
   "nbconvert_exporter": "python",
   "pygments_lexer": "ipython3",
   "version": "3.12.7"
  }
 },
 "nbformat": 4,
 "nbformat_minor": 5
}
