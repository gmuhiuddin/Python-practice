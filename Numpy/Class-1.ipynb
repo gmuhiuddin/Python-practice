{
 "cells": [
  {
   "cell_type": "code",
   "execution_count": 81,
   "id": "3d874139-9c61-4d2e-830a-f2e6d2560435",
   "metadata": {},
   "outputs": [],
   "source": [
    "import numpy as np"
   ]
  },
  {
   "cell_type": "code",
   "execution_count": 4,
   "id": "24d060c8-261b-4736-b347-91948f00f1a5",
   "metadata": {},
   "outputs": [],
   "source": [
    "lst = range(10)"
   ]
  },
  {
   "cell_type": "code",
   "execution_count": 6,
   "id": "ca44250a-1d55-4387-8a1b-432d7b9a00da",
   "metadata": {},
   "outputs": [],
   "source": [
    "array = np.array(lst)"
   ]
  },
  {
   "cell_type": "code",
   "execution_count": 8,
   "id": "cc409107-afd0-4096-b24a-753f802b5e96",
   "metadata": {},
   "outputs": [
    {
     "data": {
      "text/plain": [
       "array([0.        , 1.        , 1.41421356, 1.73205081, 2.        ,\n",
       "       2.23606798, 2.44948974, 2.64575131, 2.82842712, 3.        ])"
      ]
     },
     "execution_count": 8,
     "metadata": {},
     "output_type": "execute_result"
    }
   ],
   "source": [
    "array**.5"
   ]
  },
  {
   "cell_type": "code",
   "execution_count": 10,
   "id": "7ad7024d-9147-48a1-aebd-d43b37c11fd1",
   "metadata": {},
   "outputs": [
    {
     "data": {
      "text/plain": [
       "(10,)"
      ]
     },
     "execution_count": 10,
     "metadata": {},
     "output_type": "execute_result"
    }
   ],
   "source": [
    "array.shape"
   ]
  },
  {
   "cell_type": "code",
   "execution_count": 12,
   "id": "76d34851-36b5-48aa-b871-8e575338e2f5",
   "metadata": {},
   "outputs": [],
   "source": [
    "a1d = np.array(lst)"
   ]
  },
  {
   "cell_type": "code",
   "execution_count": 14,
   "id": "a5d71ef7-4d0f-4a84-965f-8c6a143c6f17",
   "metadata": {},
   "outputs": [
    {
     "data": {
      "text/plain": [
       "array([0, 1, 2, 3, 4, 5, 6, 7, 8, 9])"
      ]
     },
     "execution_count": 14,
     "metadata": {},
     "output_type": "execute_result"
    }
   ],
   "source": [
    "a1d"
   ]
  },
  {
   "cell_type": "code",
   "execution_count": 16,
   "id": "e1998077-d33e-45b8-a10e-51ba3c02d53c",
   "metadata": {},
   "outputs": [
    {
     "data": {
      "text/plain": [
       "(10,)"
      ]
     },
     "execution_count": 16,
     "metadata": {},
     "output_type": "execute_result"
    }
   ],
   "source": [
    "a1d.shape"
   ]
  },
  {
   "cell_type": "code",
   "execution_count": 18,
   "id": "0897121a-4693-41e4-884d-47bf2737fd7a",
   "metadata": {},
   "outputs": [],
   "source": [
    "num_lst = range(100000)"
   ]
  },
  {
   "cell_type": "code",
   "execution_count": 20,
   "id": "f83eae09-fc58-4647-a271-73ef62c22144",
   "metadata": {},
   "outputs": [],
   "source": [
    "def square(lst):\n",
    "    \"\"\"\n",
    "    Takes a collection of numbers and returns squares of each value\n",
    "    \"\"\"\n",
    "    \n",
    "    result = []\n",
    "    \n",
    "    for num in lst:\n",
    "        if type(num) == str:\n",
    "            return \"Value must be number\"\n",
    "        result.append(num**2)\n",
    "\n",
    "    return result"
   ]
  },
  {
   "cell_type": "code",
   "execution_count": 22,
   "id": "4e97086f-17f8-4a2b-8689-7bb735bac1be",
   "metadata": {},
   "outputs": [
    {
     "name": "stdout",
     "output_type": "stream",
     "text": [
      "22.3 ms ± 3.3 ms per loop (mean ± std. dev. of 7 runs, 10 loops each)\n"
     ]
    }
   ],
   "source": [
    "%timeit square(num_lst)"
   ]
  },
  {
   "cell_type": "code",
   "execution_count": 23,
   "id": "cbe3d500-ed84-4f4c-9d03-b9b39befe29d",
   "metadata": {},
   "outputs": [],
   "source": [
    "num_arr = np.arange(100000)"
   ]
  },
  {
   "cell_type": "code",
   "execution_count": null,
   "id": "c86976b0-b1e9-4338-9561-fb1b96f39121",
   "metadata": {
    "scrolled": true
   },
   "outputs": [],
   "source": [
    "%timeit num_arr **2"
   ]
  },
  {
   "cell_type": "code",
   "execution_count": 49,
   "id": "7a51f71c-7d51-459d-b09b-8998de86003a",
   "metadata": {},
   "outputs": [],
   "source": [
    "type_casted_arr = np.array(range(1,4))"
   ]
  },
  {
   "cell_type": "code",
   "execution_count": 61,
   "id": "693389aa-3a18-4d0b-a566-5d3c02e615b2",
   "metadata": {},
   "outputs": [
    {
     "data": {
      "text/plain": [
       "(3,)"
      ]
     },
     "execution_count": 61,
     "metadata": {},
     "output_type": "execute_result"
    }
   ],
   "source": [
    "type_casted_arr.shape"
   ]
  },
  {
   "cell_type": "code",
   "execution_count": 63,
   "id": "be818cf1-d33c-4f96-b559-f916ab104908",
   "metadata": {},
   "outputs": [
    {
     "data": {
      "text/plain": [
       "3"
      ]
     },
     "execution_count": 63,
     "metadata": {},
     "output_type": "execute_result"
    }
   ],
   "source": [
    "type_casted_arr.size"
   ]
  },
  {
   "cell_type": "code",
   "execution_count": 75,
   "id": "05930d3c-1ea5-4a8e-9ee4-b61c79b13ce5",
   "metadata": {},
   "outputs": [
    {
     "data": {
      "text/plain": [
       "1"
      ]
     },
     "execution_count": 75,
     "metadata": {},
     "output_type": "execute_result"
    }
   ],
   "source": [
    "type_casted_arr.ndim"
   ]
  },
  {
   "cell_type": "code",
   "execution_count": 65,
   "id": "8637b8ab-0af9-467b-adf7-9fdaff8978f2",
   "metadata": {},
   "outputs": [
    {
     "data": {
      "text/plain": [
       "dtype('int32')"
      ]
     },
     "execution_count": 65,
     "metadata": {},
     "output_type": "execute_result"
    }
   ],
   "source": [
    "type_casted_arr.dtype"
   ]
  },
  {
   "cell_type": "code",
   "execution_count": 71,
   "id": "8a1e1301-48e2-4cc8-98e6-fd1b0aea84c3",
   "metadata": {},
   "outputs": [
    {
     "data": {
      "text/plain": [
       "dtype('float64')"
      ]
     },
     "execution_count": 71,
     "metadata": {},
     "output_type": "execute_result"
    }
   ],
   "source": [
    "float_arr = np.array((1.2,))"
   ]
  },
  {
   "cell_type": "code",
   "execution_count": 103,
   "id": "86ae15db-2791-44d1-b24c-32c3c0c9c08c",
   "metadata": {},
   "outputs": [
    {
     "data": {
      "text/plain": [
       "array([[[ 1,  2,  3],\n",
       "        [ 4,  5,  6]],\n",
       "\n",
       "       [[ 7,  8,  9],\n",
       "        [10, 11, 12]],\n",
       "\n",
       "       [[13, 14, 15],\n",
       "        [16, 17, 18]]])"
      ]
     },
     "execution_count": 103,
     "metadata": {},
     "output_type": "execute_result"
    }
   ],
   "source": [
    "arr = np.arange(1, 19).reshape(3,2,3)\n",
    "arr"
   ]
  },
  {
   "cell_type": "code",
   "execution_count": 105,
   "id": "3c33a608-dc09-453a-9d2b-572f1656f937",
   "metadata": {},
   "outputs": [
    {
     "data": {
      "text/plain": [
       "(3, 2, 3)"
      ]
     },
     "execution_count": 105,
     "metadata": {},
     "output_type": "execute_result"
    }
   ],
   "source": [
    "arr.shape"
   ]
  },
  {
   "cell_type": "code",
   "execution_count": 107,
   "id": "2b6bd89c-5f97-4318-8b44-e1a7401cfa29",
   "metadata": {},
   "outputs": [
    {
     "data": {
      "text/plain": [
       "3"
      ]
     },
     "execution_count": 107,
     "metadata": {},
     "output_type": "execute_result"
    }
   ],
   "source": [
    "arr.ndim"
   ]
  },
  {
   "cell_type": "code",
   "execution_count": 113,
   "id": "fb48f4ce-c307-4a45-91c9-71e381b4ac81",
   "metadata": {},
   "outputs": [],
   "source": [
    "arr = arr.reshape(2,1,9)"
   ]
  },
  {
   "cell_type": "code",
   "execution_count": 115,
   "id": "486c0f49-338f-45b5-b207-8d4926e7f02f",
   "metadata": {},
   "outputs": [
    {
     "data": {
      "text/plain": [
       "array([[[ 1,  2,  3,  4,  5,  6,  7,  8,  9]],\n",
       "\n",
       "       [[10, 11, 12, 13, 14, 15, 16, 17, 18]]])"
      ]
     },
     "execution_count": 115,
     "metadata": {},
     "output_type": "execute_result"
    }
   ],
   "source": [
    "arr"
   ]
  },
  {
   "cell_type": "code",
   "execution_count": null,
   "id": "cf33eaeb-30f4-466b-857e-4b35a96eef2f",
   "metadata": {},
   "outputs": [],
   "source": []
  }
 ],
 "metadata": {
  "kernelspec": {
   "display_name": "Python 3 (ipykernel)",
   "language": "python",
   "name": "python3"
  },
  "language_info": {
   "codemirror_mode": {
    "name": "ipython",
    "version": 3
   },
   "file_extension": ".py",
   "mimetype": "text/x-python",
   "name": "python",
   "nbconvert_exporter": "python",
   "pygments_lexer": "ipython3",
   "version": "3.12.7"
  }
 },
 "nbformat": 4,
 "nbformat_minor": 5
}
