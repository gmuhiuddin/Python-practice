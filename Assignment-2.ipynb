{
 "cells": [
  {
   "cell_type": "code",
   "execution_count": 21,
   "id": "2dd94319-ec6d-4ec4-85e5-b4ab8eae23d5",
   "metadata": {},
   "outputs": [
    {
     "name": "stdin",
     "output_type": "stream",
     "text": [
      "Please add a width of rectangle:  10.2\n",
      "Please add a length of rectangle:  19.3\n"
     ]
    },
    {
     "name": "stdout",
     "output_type": "stream",
     "text": [
      "196.85999999999999\n"
     ]
    }
   ],
   "source": [
    "# 1. Area of a Rectangle:\n",
    "\n",
    "width = float(input(\"Please add a width of rectangle: \"))\n",
    "length = float(input(\"Please add a length of rectangle: \"))\n",
    "\n",
    "area = width * length\n",
    "\n",
    "print(\"Area of Rectangle\", area)"
   ]
  },
  {
   "cell_type": "code",
   "execution_count": 27,
   "id": "3b2fb451-1e95-4aa2-ac35-5177dcc2cc8f",
   "metadata": {},
   "outputs": [
    {
     "name": "stdin",
     "output_type": "stream",
     "text": [
      "Please add a radius of circle:  10\n"
     ]
    },
    {
     "name": "stdout",
     "output_type": "stream",
     "text": [
      "circumference 62.83185307179586\n"
     ]
    }
   ],
   "source": [
    "# 2. Circumference of a Circle:\n",
    "\n",
    "import math\n",
    "\n",
    "radius = float(input(\"Please add a radius of circle: \"))\n",
    "\n",
    "circumference = 2*math.pi*radius\n",
    "\n",
    "print(\"Circumference:\", circumference)"
   ]
  },
  {
   "cell_type": "code",
   "execution_count": 37,
   "id": "8420a5a6-ba18-4b5a-b047-4d9e95d2c177",
   "metadata": {},
   "outputs": [
    {
     "name": "stdin",
     "output_type": "stream",
     "text": [
      "Please add a principal of interest calculation:  250000\n",
      "Please add a rate of interest calculation:  5\n",
      "Please add a time of interest calculatione:  10\n"
     ]
    },
    {
     "name": "stdout",
     "output_type": "stream",
     "text": [
      "Simple Interest: 125000.0\n"
     ]
    }
   ],
   "source": [
    "# 3. Simple Interest:\n",
    "\n",
    "principal = float(input(\"Please add a principal of interest calculation: \"))\n",
    "rate = float(input(\"Please add a rate of interest calculation: \"))\n",
    "time = float(input(\"Please add a time of interest calculatione: \"))\n",
    "\n",
    "simpleInterest = principal * rate * time / 100\n",
    "\n",
    "print(\"Simple Interest:\", simpleInterest)"
   ]
  },
  {
   "cell_type": "code",
   "execution_count": 49,
   "id": "40ccfedf-7e99-4a0c-9273-7d331854c2ab",
   "metadata": {},
   "outputs": [
    {
     "name": "stdin",
     "output_type": "stream",
     "text": [
      "Please add a distance in meter for speed calculation:  300\n",
      "Please add a time in second for speed calculation:  10\n"
     ]
    },
    {
     "name": "stdout",
     "output_type": "stream",
     "text": [
      "30.0 mtr/second\n"
     ]
    }
   ],
   "source": [
    "# 4. Speed of an Object:\n",
    "\n",
    "distance = float(input(\"Please add a distance in meter for speed calculation: \"))\n",
    "time = float(input(\"Please add a time in second for speed calculation: \"))\n",
    "\n",
    "speed = distance / time\n",
    "\n",
    "print(speed, \"mtr/second\")"
   ]
  },
  {
   "cell_type": "code",
   "execution_count": 57,
   "id": "785bc19e-8ab1-4982-b5d0-e4722c502b99",
   "metadata": {},
   "outputs": [
    {
     "name": "stdin",
     "output_type": "stream",
     "text": [
      "Please add a height in meter for BMI calculator:  1.52\n",
      "Please add a weight in kg for BMI calculator:  60\n"
     ]
    },
    {
     "name": "stdout",
     "output_type": "stream",
     "text": [
      "bmi 25.969529085872576\n"
     ]
    }
   ],
   "source": [
    "# 5. BMI Calculator:\n",
    "\n",
    "height = float(input(\"Please add a height in meter for BMI calculator: \"))\n",
    "weight = float(input(\"Please add a weight in kg for BMI calculator: \"))\n",
    "\n",
    "bmi = weight / (height * height)\n",
    "\n",
    "print(\"bmi\", bmi)"
   ]
  },
  {
   "cell_type": "code",
   "execution_count": 61,
   "id": "3f42de6d-3189-4d6c-aaa9-e47ae31ab65e",
   "metadata": {},
   "outputs": [
    {
     "name": "stdin",
     "output_type": "stream",
     "text": [
      "Please add a Mass in kg:  100\n",
      "Please add a acceleration in (meter/second*second):  100\n"
     ]
    },
    {
     "name": "stdout",
     "output_type": "stream",
     "text": [
      "force 10000.0\n"
     ]
    }
   ],
   "source": [
    "# 6. Force Using Newton's Second Law:\n",
    "\n",
    "massInKg = float(input(\"Please add a Mass in kg: \"))\n",
    "acceleration = float(input(\"Please add a acceleration in (meter/second*second): \"))\n",
    "\n",
    "force = massInKg * acceleration\n",
    "\n",
    "print(\"force\", force)"
   ]
  },
  {
   "cell_type": "code",
   "execution_count": 97,
   "id": "35c81f5b-77d6-4118-9615-6cb101a2d7a7",
   "metadata": {},
   "outputs": [
    {
     "name": "stdin",
     "output_type": "stream",
     "text": [
      "Please add a Principal Amount:  1000\n",
      "Please add a annual interest rate:  0.05\n",
      "Please add a number of times interest is compounded per year:  4\n",
      "Please add a time in years:  3\n"
     ]
    },
    {
     "name": "stdout",
     "output_type": "stream",
     "text": [
      "total amount 1161\n"
     ]
    }
   ],
   "source": [
    "# 7. Compound Interest:\n",
    "\n",
    "principal_amount = int(input(\"Please add a Principal Amount: \"))\n",
    "annual_interest_rate = float(input(\"Please add a annual interest rate: \"))\n",
    "number_of_times_interest_is_compounded_per_year = int(input(\"Please add a number of times interest is compounded per year: \"))\n",
    "time_in_years = int(input(\"Please add a time in years: \"))\n",
    "\n",
    "total_amount = principal_amount * (1+(annual_interest_rate/number_of_times_interest_is_compounded_per_year))**(number_of_times_interest_is_compounded_per_year*time_in_years)\n",
    "\n",
    "print(\"total amount\", round(total_amount))"
   ]
  },
  {
   "cell_type": "code",
   "execution_count": null,
   "id": "9ca5034c-9f0e-43f6-94d6-5e0a4f3d6fa2",
   "metadata": {},
   "outputs": [],
   "source": []
  }
 ],
 "metadata": {
  "kernelspec": {
   "display_name": "Python 3 (ipykernel)",
   "language": "python",
   "name": "python3"
  },
  "language_info": {
   "codemirror_mode": {
    "name": "ipython",
    "version": 3
   },
   "file_extension": ".py",
   "mimetype": "text/x-python",
   "name": "python",
   "nbconvert_exporter": "python",
   "pygments_lexer": "ipython3",
   "version": "3.12.7"
  }
 },
 "nbformat": 4,
 "nbformat_minor": 5
}
