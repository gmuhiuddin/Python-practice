{
 "cells": [
  {
   "cell_type": "code",
   "execution_count": 21,
   "id": "2dd94319-ec6d-4ec4-85e5-b4ab8eae23d5",
   "metadata": {},
   "outputs": [
    {
     "name": "stdin",
     "output_type": "stream",
     "text": [
      "Please add a width of rectangle:  10.2\n",
      "Please add a length of rectangle:  19.3\n"
     ]
    },
    {
     "name": "stdout",
     "output_type": "stream",
     "text": [
      "196.85999999999999\n"
     ]
    }
   ],
   "source": [
    "# 1. Area of a Rectangle:\n",
    "\n",
    "width = float(input(\"Please add a width of rectangle: \"))\n",
    "length = float(input(\"Please add a length of rectangle: \"))\n",
    "\n",
    "area = width * length\n",
    "\n",
    "print(\"Area of Rectangle\", area)"
   ]
  },
  {
   "cell_type": "code",
   "execution_count": 27,
   "id": "3b2fb451-1e95-4aa2-ac35-5177dcc2cc8f",
   "metadata": {},
   "outputs": [
    {
     "name": "stdin",
     "output_type": "stream",
     "text": [
      "Please add a radius of circle:  10\n"
     ]
    },
    {
     "name": "stdout",
     "output_type": "stream",
     "text": [
      "circumference 62.83185307179586\n"
     ]
    }
   ],
   "source": [
    "# 2. Circumference of a Circle:\n",
    "\n",
    "import math\n",
    "\n",
    "radius = float(input(\"Please add a radius of circle: \"))\n",
    "\n",
    "circumference = 2*math.pi*radius\n",
    "\n",
    "print(\"Circumference:\", circumference)"
   ]
  },
  {
   "cell_type": "code",
   "execution_count": 37,
   "id": "8420a5a6-ba18-4b5a-b047-4d9e95d2c177",
   "metadata": {},
   "outputs": [
    {
     "name": "stdin",
     "output_type": "stream",
     "text": [
      "Please add a principal of interest calculation:  250000\n",
      "Please add a rate of interest calculation:  5\n",
      "Please add a time of interest calculatione:  10\n"
     ]
    },
    {
     "name": "stdout",
     "output_type": "stream",
     "text": [
      "Simple Interest: 125000.0\n"
     ]
    }
   ],
   "source": [
    "# 3. Simple Interest:\n",
    "\n",
    "principal = float(input(\"Please add a principal of interest calculation: \"))\n",
    "rate = float(input(\"Please add a rate of interest calculation: \"))\n",
    "time = float(input(\"Please add a time of interest calculatione: \"))\n",
    "\n",
    "simpleInterest = principal * rate * time / 100\n",
    "\n",
    "print(\"Simple Interest:\", simpleInterest)"
   ]
  },
  {
   "cell_type": "code",
   "execution_count": 49,
   "id": "40ccfedf-7e99-4a0c-9273-7d331854c2ab",
   "metadata": {},
   "outputs": [
    {
     "name": "stdin",
     "output_type": "stream",
     "text": [
      "Please add a distance in meter for speed calculation:  300\n",
      "Please add a time in second for speed calculation:  10\n"
     ]
    },
    {
     "name": "stdout",
     "output_type": "stream",
     "text": [
      "30.0 mtr/second\n"
     ]
    }
   ],
   "source": [
    "# 4. Speed of an Object:\n",
    "\n",
    "distance = float(input(\"Please add a distance in meter for speed calculation: \"))\n",
    "time = float(input(\"Please add a time in second for speed calculation: \"))\n",
    "\n",
    "speed = distance / time\n",
    "\n",
    "print(speed, \"mtr/second\")"
   ]
  },
  {
   "cell_type": "code",
   "execution_count": 57,
   "id": "785bc19e-8ab1-4982-b5d0-e4722c502b99",
   "metadata": {},
   "outputs": [
    {
     "name": "stdin",
     "output_type": "stream",
     "text": [
      "Please add a height in meter for BMI calculator:  1.52\n",
      "Please add a weight in kg for BMI calculator:  60\n"
     ]
    },
    {
     "name": "stdout",
     "output_type": "stream",
     "text": [
      "bmi 25.969529085872576\n"
     ]
    }
   ],
   "source": [
    "# 5. BMI Calculator:\n",
    "\n",
    "height = float(input(\"Please add a height in meter for BMI calculator: \"))\n",
    "weight = float(input(\"Please add a weight in kg for BMI calculator: \"))\n",
    "\n",
    "bmi = weight / (height * height)\n",
    "\n",
    "print(\"bmi\", bmi)"
   ]
  },
  {
   "cell_type": "code",
   "execution_count": 61,
   "id": "3f42de6d-3189-4d6c-aaa9-e47ae31ab65e",
   "metadata": {},
   "outputs": [
    {
     "name": "stdin",
     "output_type": "stream",
     "text": [
      "Please add a Mass in kg:  100\n",
      "Please add a acceleration in (meter/second*second):  100\n"
     ]
    },
    {
     "name": "stdout",
     "output_type": "stream",
     "text": [
      "force 10000.0\n"
     ]
    }
   ],
   "source": [
    "# 6. Force Using Newton's Second Law:\n",
    "\n",
    "massInKg = float(input(\"Please add a Mass in kg: \"))\n",
    "acceleration = float(input(\"Please add a acceleration in (meter/second*second): \"))\n",
    "\n",
    "force = massInKg * acceleration\n",
    "\n",
    "print(\"force\", force)"
   ]
  },
  {
   "cell_type": "code",
   "execution_count": 97,
   "id": "35c81f5b-77d6-4118-9615-6cb101a2d7a7",
   "metadata": {},
   "outputs": [
    {
     "name": "stdin",
     "output_type": "stream",
     "text": [
      "Please add a Principal Amount:  1000\n",
      "Please add a annual interest rate:  0.05\n",
      "Please add a number of times interest is compounded per year:  4\n",
      "Please add a time in years:  3\n"
     ]
    },
    {
     "name": "stdout",
     "output_type": "stream",
     "text": [
      "total amount 1161\n"
     ]
    }
   ],
   "source": [
    "# 7. Compound Interest:\n",
    "\n",
    "principal_amount = int(input(\"Please add a Principal Amount: \"))\n",
    "annual_interest_rate = float(input(\"Please add a annual interest rate: \"))\n",
    "number_of_times_interest_is_compounded_per_year = int(input(\"Please add a number of times interest is compounded per year: \"))\n",
    "time_in_years = int(input(\"Please add a time in years: \"))\n",
    "\n",
    "total_amount = principal_amount * (1+(annual_interest_rate/number_of_times_interest_is_compounded_per_year))**(number_of_times_interest_is_compounded_per_year*time_in_years)\n",
    "\n",
    "print(\"total amount\", round(total_amount))"
   ]
  },
  {
   "cell_type": "code",
   "execution_count": 2,
   "id": "9ca5034c-9f0e-43f6-94d6-5e0a4f3d6fa2",
   "metadata": {},
   "outputs": [
    {
     "name": "stdin",
     "output_type": "stream",
     "text": [
      "Please add a a side of triangle:  10\n",
      "Please add a b side of triangle:  15\n",
      "Please add a c side of triangle:  25\n"
     ]
    },
    {
     "name": "stdout",
     "output_type": "stream",
     "text": [
      "Perimeter of triangle: 50.0\n"
     ]
    }
   ],
   "source": [
    "# 8. Perimeter of a Triangle:\n",
    "\n",
    "a = float(input(\"Please add a a side of triangle: \"))\n",
    "b = float(input(\"Please add a b side of triangle: \"))\n",
    "c = float(input(\"Please add a c side of triangle: \"))\n",
    "\n",
    "perimeter = a + b + c\n",
    "\n",
    "print(\"Perimeter of triangle:\", perimeter)"
   ]
  },
  {
   "cell_type": "code",
   "execution_count": 12,
   "id": "d810b12b-9740-4c31-907d-18f7fa87e52c",
   "metadata": {},
   "outputs": [
    {
     "name": "stdin",
     "output_type": "stream",
     "text": [
      "Please add radius of sphere:  3\n"
     ]
    },
    {
     "name": "stdout",
     "output_type": "stream",
     "text": [
      "volume: 113.09733552923254\n"
     ]
    }
   ],
   "source": [
    "# 9. Volume of a Sphere:\n",
    "\n",
    "import math as mt\n",
    "\n",
    "radius = float(input(\"Please add radius of sphere: \"))\n",
    "\n",
    "volume = 4/3 * mt.pi * radius**3\n",
    "\n",
    "print(\"volume:\", volume)"
   ]
  },
  {
   "cell_type": "code",
   "execution_count": 28,
   "id": "951f13df-2ac4-44a2-931e-7243dd90e2df",
   "metadata": {},
   "outputs": [
    {
     "name": "stdin",
     "output_type": "stream",
     "text": [
      "Please add (mass in kilograms):  10\n",
      "Please add (velocity in meters/second):  5\n"
     ]
    },
    {
     "name": "stdout",
     "output_type": "stream",
     "text": [
      "Kinetic energy:125.0J\n"
     ]
    }
   ],
   "source": [
    "# 10. Kinetic Energy:\n",
    "\n",
    "mass_in_kg = float(input(\"Please add (mass in kilograms): \"))\n",
    "velocity_in_ms = float(input(\"Please add (velocity in meters/second): \"))\n",
    "\n",
    "ke = 1/2 * mass_in_kg * velocity_in_ms**2\n",
    "\n",
    "print(f\"Kinetic energy: {ke}J\")"
   ]
  },
  {
   "cell_type": "code",
   "execution_count": null,
   "id": "7fd6815d-a6b7-4e2a-9c45-3e42dcfb5df8",
   "metadata": {},
   "outputs": [],
   "source": [
    "# 11. Quadratic Equation Roots:\n",
    "\n",
    "a = float(input(\"Please add a :\"))\n",
    "b = float(input(\"Please add b :\"))\n",
    "c = float(input(\"Please add c :\"))\n",
    "\n",
    "x = \n",
    "\n",
    "print(x)"
   ]
  },
  {
   "cell_type": "code",
   "execution_count": 22,
   "id": "0b1c1d68-7765-47da-89ce-cb69e9e3526d",
   "metadata": {},
   "outputs": [
    {
     "name": "stdin",
     "output_type": "stream",
     "text": [
      "Please add temp in celcius for converting into ferenhite 32\n"
     ]
    },
    {
     "name": "stdout",
     "output_type": "stream",
     "text": [
      "89.6\n"
     ]
    }
   ],
   "source": [
    "# 12. Temperature Conversion:\n",
    "\n",
    "temp_in_c = float(input(\"Please add temp in celcius for converting into ferenhite\"))\n",
    "\n",
    "temp_in_f = 9/5 * temp_in_c + 32\n",
    "\n",
    "print(temp_in_f)"
   ]
  },
  {
   "cell_type": "code",
   "execution_count": 34,
   "id": "f5b5bb19-7964-4ac6-8beb-d94d4bd7c9a4",
   "metadata": {},
   "outputs": [
    {
     "name": "stdin",
     "output_type": "stream",
     "text": [
      "Please add first masse of the objects:  10\n",
      "Please add second masse of the objects:  10\n",
      "Please adddistance between the centers of the objects:  50\n"
     ]
    },
    {
     "name": "stdout",
     "output_type": "stream",
     "text": [
      "26696000000.0\n"
     ]
    }
   ],
   "source": [
    "# 13. Gravitational Force:\n",
    "\n",
    "m1 = float(input(\"Please add first masse of the objects: \"))\n",
    "m2 = float(input(\"Please add second masse of the objects: \"))\n",
    "r = float(input(\"Please adddistance between the centers of the objects: \"))\n",
    "\n",
    "f = 6.674 * 10**11 *(m1 * m2) / (r**2)\n",
    "\n",
    "print(f)"
   ]
  },
  {
   "cell_type": "code",
   "execution_count": 42,
   "id": "413f0e30-069f-41d8-88df-f1d0c6c8303c",
   "metadata": {},
   "outputs": [
    {
     "name": "stdin",
     "output_type": "stream",
     "text": [
      "Please add radius:  10\n",
      "Please add height:  50\n"
     ]
    },
    {
     "name": "stdout",
     "output_type": "stream",
     "text": [
      "Volume: 15707.963267948966\n"
     ]
    }
   ],
   "source": [
    "# 14. Volume of a Cylinder:\n",
    "\n",
    "import math as mt\n",
    "\n",
    "radius = float(input(\"Please add radius: \"))\n",
    "height = float(input(\"Please add height: \"))\n",
    "\n",
    "volume = mt.pi * radius**2 * height\n",
    "\n",
    "print(\"Volume:\", volume)"
   ]
  },
  {
   "cell_type": "code",
   "execution_count": 50,
   "id": "56a08186-ae95-4f9e-8fc5-f07337b39328",
   "metadata": {},
   "outputs": [
    {
     "name": "stdin",
     "output_type": "stream",
     "text": [
      "Please add force:  10\n",
      "Please add area:  50\n"
     ]
    },
    {
     "name": "stdout",
     "output_type": "stream",
     "text": [
      "Pressure: 0.2\n"
     ]
    }
   ],
   "source": [
    "# 15. Pressure:\n",
    "\n",
    "force = float(input(\"Please add force: \"))\n",
    "area = float(input(\"Please add area: \"))\n",
    "\n",
    "pressure = force/area\n",
    "\n",
    "print(\"Pressure:\", pressure)"
   ]
  },
  {
   "cell_type": "code",
   "execution_count": 52,
   "id": "050ef3f3-8d02-4c46-83a7-b3be2e9da4c7",
   "metadata": {},
   "outputs": [
    {
     "name": "stdin",
     "output_type": "stream",
     "text": [
      "Please add voltage:  50\n",
      "Please add current:  100\n"
     ]
    },
    {
     "name": "stdout",
     "output_type": "stream",
     "text": [
      "Powere: 0.5\n"
     ]
    }
   ],
   "source": [
    "# 16. Electric Power:\n",
    "\n",
    "voltage = float(input(\"Please add voltage: \"))\n",
    "current = float(input(\"Please add current: \"))\n",
    "\n",
    "power = voltage/current\n",
    "\n",
    "print(\"Powere:\", power)"
   ]
  },
  {
   "cell_type": "code",
   "execution_count": 54,
   "id": "6b71905a-d5db-4b17-a002-42165f3c0241",
   "metadata": {},
   "outputs": [
    {
     "name": "stdin",
     "output_type": "stream",
     "text": [
      "Please add radius:  50\n"
     ]
    },
    {
     "name": "stdout",
     "output_type": "stream",
     "text": [
      "Circumference: 314.1592653589793\n"
     ]
    }
   ],
   "source": [
    "# 17. Perimeter of a Circle (Circumference):\n",
    "\n",
    "import math as mt\n",
    "\n",
    "radius = float(input(\"Please add radius: \"))\n",
    "\n",
    "circumference = 2 *  mt.pi * radius\n",
    "\n",
    "print(\"Circumference:\", circumference)"
   ]
  },
  {
   "cell_type": "code",
   "execution_count": 68,
   "id": "76560fbf-c4d2-4528-8772-f46cb49973d6",
   "metadata": {},
   "outputs": [
    {
     "name": "stdin",
     "output_type": "stream",
     "text": [
      "Please add Present valule:  2\n",
      "Please add annual interest rate:  2\n",
      "Please add time in years:  3\n"
     ]
    },
    {
     "name": "stdout",
     "output_type": "stream",
     "text": [
      "Future value: 54.0\n"
     ]
    }
   ],
   "source": [
    "# 18. Future Value in Savings:\n",
    "\n",
    "pv = float(input(\"Please add Present valule: \"))\n",
    "r = float(input(\"Please add annual interest rate: \"))\n",
    "t = float(input(\"Please add time in years: \"))\n",
    "\n",
    "fv = pv * (1 + r)**t\n",
    "\n",
    "print(\"Future value:\", fv)"
   ]
  },
  {
   "cell_type": "code",
   "execution_count": 79,
   "id": "1e037ed5-5e7f-41c5-afb4-6f1f239b7b86",
   "metadata": {},
   "outputs": [
    {
     "name": "stdin",
     "output_type": "stream",
     "text": [
      "Please add force:  10\n",
      "Please add distance:  50\n",
      "Please add angle between force and direction of movement (in degrees):  0\n"
     ]
    },
    {
     "name": "stdout",
     "output_type": "stream",
     "text": [
      "Work: 500.0\n"
     ]
    }
   ],
   "source": [
    "# 19. Work Done by a Force:\n",
    "\n",
    "import math as mt\n",
    "\n",
    "force = float(input(\"Please add force: \"))\n",
    "distance = float(input(\"Please add distance: \"))\n",
    "t_degrees = float(input(\"Please add angle between force and direction of movement (in degrees): \"))\n",
    "\n",
    "angle_radians = mt.radians(t_degrees)\n",
    "\n",
    "w = force * distance * mt.cos(angle_radians)\n",
    "\n",
    "print(\"Work:\", w)"
   ]
  },
  {
   "cell_type": "code",
   "execution_count": 103,
   "id": "119e0ce6-4e38-4a28-8b10-3827f5f2eebe",
   "metadata": {},
   "outputs": [
    {
     "name": "stdin",
     "output_type": "stream",
     "text": [
      "Please add mass:  5\n",
      "Please add specific heat capacity:  4200\n",
      "Please add initial temp:  25\n",
      "Please add final temp:  75\n"
     ]
    },
    {
     "name": "stdout",
     "output_type": "stream",
     "text": [
      "Heat transfer: 1050000.0\n"
     ]
    }
   ],
   "source": [
    "# 20. Heat Transfer:\n",
    "\n",
    "m, c, initial_t, final_t = float(input(\"Please add mass: \")), float(input(\"Please add specific heat capacity: \")), float(input(\"Please add initial temp: \")), float(input(\"Please add final temp: \"))\n",
    "\n",
    "delta_t = final_t-initial_t\n",
    "\n",
    "q = m * c * delta_t\n",
    "\n",
    "print(\"Heat transfer:\", q)"
   ]
  },
  {
   "cell_type": "code",
   "execution_count": null,
   "id": "99e08f8d-e544-4db8-b397-80c6cced717c",
   "metadata": {},
   "outputs": [],
   "source": []
  }
 ],
 "metadata": {
  "kernelspec": {
   "display_name": "Python 3 (ipykernel)",
   "language": "python",
   "name": "python3"
  },
  "language_info": {
   "codemirror_mode": {
    "name": "ipython",
    "version": 3
   },
   "file_extension": ".py",
   "mimetype": "text/x-python",
   "name": "python",
   "nbconvert_exporter": "python",
   "pygments_lexer": "ipython3",
   "version": "3.12.7"
  }
 },
 "nbformat": 4,
 "nbformat_minor": 5
}
