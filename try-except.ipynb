{
 "cells": [
  {
   "cell_type": "code",
   "execution_count": 36,
   "id": "b8b0207b-2ee2-4972-92ee-a0f9c8dafcba",
   "metadata": {},
   "outputs": [
    {
     "name": "stdout",
     "output_type": "stream",
     "text": [
      "123\n",
      "Print from try except else\n",
      "Print from finally\n"
     ]
    }
   ],
   "source": [
    "try:\n",
    "    int_num = int(\"123\")\n",
    "\n",
    "    print(int_num)\n",
    "except ValueError:\n",
    "    print(\"Value error\")\n",
    "else:\n",
    "    print(\"Print from try except else\")\n",
    "finally:\n",
    "    print(\"Print from finally\")"
   ]
  },
  {
   "cell_type": "code",
   "execution_count": 38,
   "id": "2c4dbe37-5f78-4dd4-bd62-a997d875103b",
   "metadata": {},
   "outputs": [
    {
     "name": "stdout",
     "output_type": "stream",
     "text": [
      "Value error\n",
      "Print from finally\n"
     ]
    }
   ],
   "source": [
    "try:\n",
    "    int_num = int(\"123.1\")\n",
    "\n",
    "    print(int_num)\n",
    "except ValueError:\n",
    "    print(\"Value error\")\n",
    "else:\n",
    "    print(\"Print from try except else\")\n",
    "finally:\n",
    "    print(\"Print from finally\")"
   ]
  },
  {
   "cell_type": "code",
   "execution_count": 98,
   "id": "ef712851-d0d0-4f52-9224-ee02f0cd3650",
   "metadata": {},
   "outputs": [
    {
     "name": "stdout",
     "output_type": "stream",
     "text": [
      "123\n",
      "Value error\n"
     ]
    }
   ],
   "source": [
    "try:\n",
    "    int_num = int(\"123\")\n",
    "    \n",
    "    print(int_num)\n",
    "\n",
    "    print(\"sdf\".split(\"a\", \"ASd\"))\n",
    "except (ValueError,TypeError):\n",
    "    print(\"Value error\")\n",
    "else:\n",
    "    print(\"Print from else\")"
   ]
  },
  {
   "cell_type": "code",
   "execution_count": 102,
   "id": "d04fecd4-6c2f-44f4-adb7-00775379a898",
   "metadata": {},
   "outputs": [
    {
     "name": "stdout",
     "output_type": "stream",
     "text": [
      "123\n",
      "'str' object cannot be interpreted as an integer\n"
     ]
    }
   ],
   "source": [
    "try:\n",
    "    int_num = int(\"123\")\n",
    "    \n",
    "    print(int_num)\n",
    "\n",
    "    print(\"sdf\".split(\"a\", \"asd\"))\n",
    "except Exception as e:\n",
    "    print(e)\n",
    "else:\n",
    "    print(\"Print from else\")"
   ]
  },
  {
   "cell_type": "code",
   "execution_count": 73,
   "id": "911be9a2-edd4-4ca9-8980-08b9c511ccfa",
   "metadata": {},
   "outputs": [
    {
     "name": "stdout",
     "output_type": "stream",
     "text": [
      "Print from except division by zero\n",
      "Print from finally\n"
     ]
    },
    {
     "data": {
      "text/plain": [
       "'Print from finally'"
      ]
     },
     "execution_count": 73,
     "metadata": {},
     "output_type": "execute_result"
    }
   ],
   "source": [
    "def bla ():\n",
    "    try:\n",
    "        10/0\n",
    "        print(\"Print from bla\")\n",
    "        return \"Print from bla\"\n",
    "    except Exception as e:\n",
    "        print(\"Print from except\",e)\n",
    "        return f\"Exception: {e}\"\n",
    "    finally:\n",
    "        print(\"Print from finally\")\n",
    "        return \"Print from finally\"\n",
    "bla()"
   ]
  },
  {
   "cell_type": "code",
   "execution_count": 77,
   "id": "9985f009-2d19-4efd-b3cb-73372d6586cb",
   "metadata": {},
   "outputs": [
    {
     "data": {
      "text/plain": [
       "'alu'"
      ]
     },
     "execution_count": 77,
     "metadata": {},
     "output_type": "execute_result"
    }
   ],
   "source": [
    "\"ghulam\"[4:1:-1]"
   ]
  },
  {
   "cell_type": "code",
   "execution_count": 85,
   "id": "56829a51-cf8e-4b0f-a293-2e404a9d5067",
   "metadata": {},
   "outputs": [
    {
     "data": {
      "text/plain": [
       "{'a', 'f', 's'}"
      ]
     },
     "execution_count": 85,
     "metadata": {},
     "output_type": "execute_result"
    }
   ],
   "source": [
    "set((\"a\",\"s\",\"s\",\"f\"))"
   ]
  },
  {
   "cell_type": "code",
   "execution_count": null,
   "id": "b35befb5-04de-4240-8cd1-b4f535ddb1bc",
   "metadata": {},
   "outputs": [],
   "source": []
  }
 ],
 "metadata": {
  "kernelspec": {
   "display_name": "Python 3 (ipykernel)",
   "language": "python",
   "name": "python3"
  },
  "language_info": {
   "codemirror_mode": {
    "name": "ipython",
    "version": 3
   },
   "file_extension": ".py",
   "mimetype": "text/x-python",
   "name": "python",
   "nbconvert_exporter": "python",
   "pygments_lexer": "ipython3",
   "version": "3.12.7"
  }
 },
 "nbformat": 4,
 "nbformat_minor": 5
}
