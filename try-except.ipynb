{
 "cells": [
  {
   "cell_type": "code",
   "execution_count": 36,
   "id": "b8b0207b-2ee2-4972-92ee-a0f9c8dafcba",
   "metadata": {},
   "outputs": [
    {
     "name": "stdout",
     "output_type": "stream",
     "text": [
      "123\n",
      "Print from try except else\n",
      "Print from finally\n"
     ]
    }
   ],
   "source": [
    "try:\n",
    "    int_num = int(\"123\")\n",
    "\n",
    "    print(int_num)\n",
    "except ValueError:\n",
    "    print(\"Value error\")\n",
    "else:\n",
    "    print(\"Print from try except else\")\n",
    "finally:\n",
    "    print(\"Print from finally\")"
   ]
  },
  {
   "cell_type": "code",
   "execution_count": 38,
   "id": "2c4dbe37-5f78-4dd4-bd62-a997d875103b",
   "metadata": {},
   "outputs": [
    {
     "name": "stdout",
     "output_type": "stream",
     "text": [
      "Value error\n",
      "Print from finally\n"
     ]
    }
   ],
   "source": [
    "try:\n",
    "    int_num = int(\"123.1\")\n",
    "\n",
    "    print(int_num)\n",
    "except ValueError:\n",
    "    print(\"Value error\")\n",
    "else:\n",
    "    print(\"Print from try except else\")\n",
    "finally:\n",
    "    print(\"Print from finally\")"
   ]
  },
  {
   "cell_type": "code",
   "execution_count": 98,
   "id": "ef712851-d0d0-4f52-9224-ee02f0cd3650",
   "metadata": {},
   "outputs": [
    {
     "name": "stdout",
     "output_type": "stream",
     "text": [
      "123\n",
      "Value error\n"
     ]
    }
   ],
   "source": [
    "try:\n",
    "    int_num = int(\"123\")\n",
    "    \n",
    "    print(int_num)\n",
    "\n",
    "    print(\"sdf\".split(\"a\", \"ASd\"))\n",
    "except (ValueError,TypeError):\n",
    "    print(\"Value error\")\n",
    "else:\n",
    "    print(\"Print from else\")"
   ]
  },
  {
   "cell_type": "code",
   "execution_count": 102,
   "id": "d04fecd4-6c2f-44f4-adb7-00775379a898",
   "metadata": {},
   "outputs": [
    {
     "name": "stdout",
     "output_type": "stream",
     "text": [
      "123\n",
      "'str' object cannot be interpreted as an integer\n"
     ]
    }
   ],
   "source": [
    "try:\n",
    "    int_num = int(\"123\")\n",
    "    \n",
    "    print(int_num)\n",
    "\n",
    "    print(\"sdf\".split(\"a\", \"asd\"))\n",
    "except Exception as e:\n",
    "    print(e)\n",
    "else:\n",
    "    print(\"Print from else\")"
   ]
  },
  {
   "cell_type": "code",
   "execution_count": null,
   "id": "9d307ad1-83b8-4f16-bd7f-fa5e037b221b",
   "metadata": {},
   "outputs": [],
   "source": []
  }
 ],
 "metadata": {
  "kernelspec": {
   "display_name": "Python 3 (ipykernel)",
   "language": "python",
   "name": "python3"
  },
  "language_info": {
   "codemirror_mode": {
    "name": "ipython",
    "version": 3
   },
   "file_extension": ".py",
   "mimetype": "text/x-python",
   "name": "python",
   "nbconvert_exporter": "python",
   "pygments_lexer": "ipython3",
   "version": "3.12.7"
  }
 },
 "nbformat": 4,
 "nbformat_minor": 5
}
