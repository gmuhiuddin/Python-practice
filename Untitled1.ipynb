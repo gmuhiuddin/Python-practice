{
 "cells": [
  {
   "cell_type": "code",
   "execution_count": 2,
   "id": "dbcc182f-5a4f-45bc-8dfc-dc01da01146d",
   "metadata": {},
   "outputs": [
    {
     "name": "stdout",
     "output_type": "stream",
     "text": [
      "gmuhiuddin\n"
     ]
    }
   ],
   "source": [
    "print(\"gmuhiuddin\")"
   ]
  },
  {
   "cell_type": "code",
   "execution_count": 4,
   "id": "f4ddfc30-9e9b-4b1a-adcb-ff324f0d8628",
   "metadata": {},
   "outputs": [
    {
     "name": "stdout",
     "output_type": "stream",
     "text": [
      "\n"
     ]
    }
   ],
   "source": [
    "print()"
   ]
  },
  {
   "cell_type": "code",
   "execution_count": 6,
   "id": "0b933888-d5dc-4bf7-8d9a-ca9fc1312a02",
   "metadata": {},
   "outputs": [
    {
     "name": "stdout",
     "output_type": "stream",
     "text": [
      "\n"
     ]
    }
   ],
   "source": [
    "print(\"\")\n"
   ]
  },
  {
   "cell_type": "code",
   "execution_count": 8,
   "id": "5edc0362-931d-4e68-bb2d-afc86458529a",
   "metadata": {},
   "outputs": [
    {
     "ename": "SyntaxError",
     "evalue": "unterminated string literal (detected at line 1) (3667213474.py, line 1)",
     "output_type": "error",
     "traceback": [
      "\u001b[1;36m  Cell \u001b[1;32mIn[8], line 1\u001b[1;36m\u001b[0m\n\u001b[1;33m    print(\"Nothing\", \"asdf\u001b[0m\n\u001b[1;37m                     ^\u001b[0m\n\u001b[1;31mSyntaxError\u001b[0m\u001b[1;31m:\u001b[0m unterminated string literal (detected at line 1)\n"
     ]
    }
   ],
   "source": [
    "print(\"Nothing\", \"asdf\n",
    "\")"
   ]
  },
  {
   "cell_type": "code",
   "execution_count": 10,
   "id": "7e57b56e-36d0-40b9-825a-fd3eb511c01e",
   "metadata": {},
   "outputs": [
    {
     "name": "stdout",
     "output_type": "stream",
     "text": [
      "sdf Asdf\n"
     ]
    }
   ],
   "source": [
    "print(\"sdf\", \"Asdf\")"
   ]
  },
  {
   "cell_type": "code",
   "execution_count": 12,
   "id": "9c69be0b-3222-44df-83d1-c3b44b3f9193",
   "metadata": {},
   "outputs": [
    {
     "name": "stdout",
     "output_type": "stream",
     "text": [
      "asfdasdf\n"
     ]
    }
   ],
   "source": [
    "print(\"asfd\" + \"asdf\")"
   ]
  },
  {
   "cell_type": "code",
   "execution_count": 14,
   "id": "e9520875-3554-4daf-91aa-ab24ffd24619",
   "metadata": {},
   "outputs": [
    {
     "name": "stdout",
     "output_type": "stream",
     "text": [
      "gmuhiuddin---dev\n"
     ]
    }
   ],
   "source": [
    "print(\"gmuhiuddin\", \"dev\", sep=\"---\")"
   ]
  },
  {
   "cell_type": "code",
   "execution_count": 18,
   "id": "69692045-6826-482b-ace4-b90e22d5826f",
   "metadata": {},
   "outputs": [
    {
     "name": "stdout",
     "output_type": "stream",
     "text": [
      "gmuhiuddin---dev\n"
     ]
    }
   ],
   "source": [
    "print(\"gmuhiuddin\", \"dev\", sep=\"---\")"
   ]
  },
  {
   "cell_type": "code",
   "execution_count": 20,
   "id": "df470009-259a-41ce-a846-3652bef08de0",
   "metadata": {},
   "outputs": [
    {
     "ename": "NameError",
     "evalue": "name 'true' is not defined",
     "output_type": "error",
     "traceback": [
      "\u001b[1;31m---------------------------------------------------------------------------\u001b[0m",
      "\u001b[1;31mNameError\u001b[0m                                 Traceback (most recent call last)",
      "Cell \u001b[1;32mIn[20], line 1\u001b[0m\n\u001b[1;32m----> 1\u001b[0m \u001b[38;5;28mprint\u001b[39m(true)\n",
      "\u001b[1;31mNameError\u001b[0m: name 'true' is not defined"
     ]
    }
   ],
   "source": [
    "print(true)"
   ]
  },
  {
   "cell_type": "code",
   "execution_count": 22,
   "id": "2c002a74-8823-4eb2-a7df-401f3a8b318b",
   "metadata": {},
   "outputs": [
    {
     "ename": "SyntaxError",
     "evalue": "invalid syntax (2897932048.py, line 1)",
     "output_type": "error",
     "traceback": [
      "\u001b[1;36m  Cell \u001b[1;32mIn[22], line 1\u001b[1;36m\u001b[0m\n\u001b[1;33m    print(true ? \"nothing\" : \"hello\")\u001b[0m\n\u001b[1;37m               ^\u001b[0m\n\u001b[1;31mSyntaxError\u001b[0m\u001b[1;31m:\u001b[0m invalid syntax\n"
     ]
    }
   ],
   "source": [
    "print(true ? \"nothing\" : \"hello\")"
   ]
  },
  {
   "cell_type": "code",
   "execution_count": 24,
   "id": "8d5aef4d-7577-4f47-8797-5d197c506958",
   "metadata": {},
   "outputs": [
    {
     "ename": "SyntaxError",
     "evalue": "invalid syntax. Perhaps you forgot a comma? (958636171.py, line 1)",
     "output_type": "error",
     "traceback": [
      "\u001b[1;36m  Cell \u001b[1;32mIn[24], line 1\u001b[1;36m\u001b[0m\n\u001b[1;33m    print(typeof 1)\u001b[0m\n\u001b[1;37m          ^\u001b[0m\n\u001b[1;31mSyntaxError\u001b[0m\u001b[1;31m:\u001b[0m invalid syntax. Perhaps you forgot a comma?\n"
     ]
    }
   ],
   "source": [
    "print(typeof 1)"
   ]
  },
  {
   "cell_type": "code",
   "execution_count": 28,
   "id": "215e3290-6e56-47c5-b6af-ebeab006f69e",
   "metadata": {},
   "outputs": [
    {
     "name": "stdout",
     "output_type": "stream",
     "text": [
      "True\n"
     ]
    }
   ],
   "source": [
    "print(True)"
   ]
  },
  {
   "cell_type": "code",
   "execution_count": 31,
   "id": "4b6585b0-80f7-40ce-90b1-15a565253481",
   "metadata": {},
   "outputs": [
    {
     "name": "stdout",
     "output_type": "stream",
     "text": [
      "False\n"
     ]
    }
   ],
   "source": [
    "print(False)"
   ]
  },
  {
   "cell_type": "code",
   "execution_count": 33,
   "id": "8015c8b4-2e49-4245-b19a-2ffeece55754",
   "metadata": {},
   "outputs": [
    {
     "name": "stdout",
     "output_type": "stream",
     "text": [
      " gmuhiuddin\n"
     ]
    }
   ],
   "source": [
    "print(''' gmuhiuddin''')\n"
   ]
  },
  {
   "cell_type": "code",
   "execution_count": 35,
   "id": "5cd37ca8-40ce-4460-9cbd-ab71aef954e4",
   "metadata": {},
   "outputs": [
    {
     "ename": "SyntaxError",
     "evalue": "unterminated string literal (detected at line 1) (2501394172.py, line 1)",
     "output_type": "error",
     "traceback": [
      "\u001b[1;36m  Cell \u001b[1;32mIn[35], line 1\u001b[1;36m\u001b[0m\n\u001b[1;33m    print(\"\"\"\" gmuhiuddin\"\"\"\")\u001b[0m\n\u001b[1;37m                            ^\u001b[0m\n\u001b[1;31mSyntaxError\u001b[0m\u001b[1;31m:\u001b[0m unterminated string literal (detected at line 1)\n"
     ]
    }
   ],
   "source": [
    "print(\"\"\"\" gmuhiuddin\"\"\"\")"
   ]
  },
  {
   "cell_type": "code",
   "execution_count": null,
   "id": "0461f52b-31b5-4e15-b041-b15dd222ef83",
   "metadata": {},
   "outputs": [],
   "source": []
  },
  {
   "cell_type": "code",
   "execution_count": 38,
   "id": "e4970e83-bcaf-4051-86fc-2c20134211a1",
   "metadata": {},
   "outputs": [
    {
     "name": "stdout",
     "output_type": "stream",
     "text": [
      " gmuhiuddin\n",
      "sdfas\n"
     ]
    }
   ],
   "source": [
    "print(''' gmuhiuddin\n",
    "sdfas''')\n"
   ]
  },
  {
   "cell_type": "code",
   "execution_count": 41,
   "id": "dcf0d008-72a1-4e3e-a508-44b33ea9faf2",
   "metadata": {},
   "outputs": [
    {
     "ename": "SyntaxError",
     "evalue": "invalid syntax (3293926612.py, line 1)",
     "output_type": "error",
     "traceback": [
      "\u001b[1;36m  Cell \u001b[1;32mIn[41], line 1\u001b[1;36m\u001b[0m\n\u001b[1;33m    print(`sdf`)\u001b[0m\n\u001b[1;37m          ^\u001b[0m\n\u001b[1;31mSyntaxError\u001b[0m\u001b[1;31m:\u001b[0m invalid syntax\n"
     ]
    }
   ],
   "source": [
    "print(`sdf`)"
   ]
  },
  {
   "cell_type": "code",
   "execution_count": 43,
   "id": "08e26279-88b8-4da5-ac80-3f388f7b9734",
   "metadata": {},
   "outputs": [
    {
     "name": "stdout",
     "output_type": "stream",
     "text": [
      "3\n"
     ]
    }
   ],
   "source": [
    "print(1+2)"
   ]
  },
  {
   "cell_type": "code",
   "execution_count": 47,
   "id": "eba11ec8-4d68-4d58-bb58-c4766587c2cd",
   "metadata": {},
   "outputs": [
    {
     "data": {
      "text/plain": [
       "1.0"
      ]
     },
     "execution_count": 47,
     "metadata": {},
     "output_type": "execute_result"
    }
   ],
   "source": [
    "3/3 # floating division"
   ]
  },
  {
   "cell_type": "code",
   "execution_count": 49,
   "id": "6cb47337-25f7-405c-8fe0-0e9af7766ba2",
   "metadata": {},
   "outputs": [
    {
     "data": {
      "text/plain": [
       "1"
      ]
     },
     "execution_count": 49,
     "metadata": {},
     "output_type": "execute_result"
    }
   ],
   "source": [
    "3//3 # integer division"
   ]
  },
  {
   "cell_type": "code",
   "execution_count": 51,
   "id": "901e0c3a-8eaf-4b1f-849e-34cb713d2e93",
   "metadata": {},
   "outputs": [
    {
     "data": {
      "text/plain": [
       "2"
      ]
     },
     "execution_count": 51,
     "metadata": {},
     "output_type": "execute_result"
    }
   ],
   "source": [
    "10%4"
   ]
  },
  {
   "cell_type": "code",
   "execution_count": 53,
   "id": "65cba780-2e84-4679-afb7-31b3c381b518",
   "metadata": {},
   "outputs": [
    {
     "data": {
      "text/plain": [
       "1"
      ]
     },
     "execution_count": 53,
     "metadata": {},
     "output_type": "execute_result"
    }
   ],
   "source": [
    "10%3\n"
   ]
  },
  {
   "cell_type": "code",
   "execution_count": 55,
   "id": "649ec088-1b3c-4210-a288-4ab927fee287",
   "metadata": {},
   "outputs": [
    {
     "data": {
      "text/plain": [
       "3125"
      ]
     },
     "execution_count": 55,
     "metadata": {},
     "output_type": "execute_result"
    }
   ],
   "source": [
    "5**5"
   ]
  },
  {
   "cell_type": "code",
   "execution_count": 57,
   "id": "bd96f75c-bfba-4f28-af10-116f41550e56",
   "metadata": {},
   "outputs": [
    {
     "data": {
      "text/plain": [
       "125"
      ]
     },
     "execution_count": 57,
     "metadata": {},
     "output_type": "execute_result"
    }
   ],
   "source": [
    "5**3"
   ]
  },
  {
   "cell_type": "code",
   "execution_count": 59,
   "id": "caf577bc-e8a6-43b6-89ed-fcb9f779f5d0",
   "metadata": {},
   "outputs": [
    {
     "data": {
      "text/plain": [
       "False"
      ]
     },
     "execution_count": 59,
     "metadata": {},
     "output_type": "execute_result"
    }
   ],
   "source": [
    "50 == 100"
   ]
  },
  {
   "cell_type": "code",
   "execution_count": 61,
   "id": "ce3736dd-48b9-498c-9610-b203e7e6e4e2",
   "metadata": {},
   "outputs": [
    {
     "data": {
      "text/plain": [
       "True"
      ]
     },
     "execution_count": 61,
     "metadata": {},
     "output_type": "execute_result"
    }
   ],
   "source": [
    "50 != 100\n"
   ]
  },
  {
   "cell_type": "code",
   "execution_count": 69,
   "id": "338e156b-6f60-4d48-8590-57b21e9f4346",
   "metadata": {},
   "outputs": [
    {
     "data": {
      "text/plain": [
       "False"
      ]
     },
     "execution_count": 69,
     "metadata": {},
     "output_type": "execute_result"
    }
   ],
   "source": [
    "50 == \"50\""
   ]
  },
  {
   "cell_type": "code",
   "execution_count": 71,
   "id": "4f731987-63ad-4bf6-9742-2095a16287b9",
   "metadata": {},
   "outputs": [
    {
     "data": {
      "text/plain": [
       "True"
      ]
     },
     "execution_count": 71,
     "metadata": {},
     "output_type": "execute_result"
    }
   ],
   "source": [
    "50 == 50"
   ]
  },
  {
   "cell_type": "code",
   "execution_count": 75,
   "id": "b71ad679-9b07-4226-870b-a03dfd3b4f41",
   "metadata": {},
   "outputs": [
    {
     "data": {
      "text/plain": [
       "True"
      ]
     },
     "execution_count": 75,
     "metadata": {},
     "output_type": "execute_result"
    }
   ],
   "source": [
    "100 >= 100"
   ]
  },
  {
   "cell_type": "code",
   "execution_count": 77,
   "id": "466132f4-da7c-4430-a0fd-831e3c25d4f0",
   "metadata": {},
   "outputs": [],
   "source": [
    "txt = \"bla bla \"\n"
   ]
  },
  {
   "cell_type": "code",
   "execution_count": 79,
   "id": "8cfabbe7-4ad4-4c9e-964b-d04a40afe308",
   "metadata": {},
   "outputs": [
    {
     "name": "stdout",
     "output_type": "stream",
     "text": [
      "bla bla \n"
     ]
    }
   ],
   "source": [
    "print(txt)"
   ]
  },
  {
   "cell_type": "code",
   "execution_count": 81,
   "id": "bb103590-9ab4-4b90-b3ac-28cc1d7f4f5f",
   "metadata": {},
   "outputs": [],
   "source": [
    "txts = [\"bla\", \"gmuhiuddin\"]\n"
   ]
  },
  {
   "cell_type": "code",
   "execution_count": 85,
   "id": "10a97ca0-58f1-42eb-954b-11bafe3f434b",
   "metadata": {},
   "outputs": [
    {
     "name": "stdout",
     "output_type": "stream",
     "text": [
      "bla\n"
     ]
    }
   ],
   "source": [
    "print(txts[0])"
   ]
  },
  {
   "cell_type": "code",
   "execution_count": 87,
   "id": "48b3efe8-d46b-4137-865c-f2f84e555fea",
   "metadata": {},
   "outputs": [
    {
     "data": {
      "text/plain": [
       "['bla', 'gmuhiuddin']"
      ]
     },
     "execution_count": 87,
     "metadata": {},
     "output_type": "execute_result"
    }
   ],
   "source": [
    "txts"
   ]
  },
  {
   "cell_type": "code",
   "execution_count": 89,
   "id": "76f16e84-c12d-4d3a-932e-136af7a15292",
   "metadata": {},
   "outputs": [
    {
     "data": {
      "text/plain": [
       "'bla'"
      ]
     },
     "execution_count": 89,
     "metadata": {},
     "output_type": "execute_result"
    }
   ],
   "source": [
    "txts[0]"
   ]
  },
  {
   "cell_type": "code",
   "execution_count": 91,
   "id": "b45451b6-6b74-4ced-868d-7b6bb6cccd27",
   "metadata": {},
   "outputs": [
    {
     "data": {
      "text/plain": [
       "2283701986176"
      ]
     },
     "execution_count": 91,
     "metadata": {},
     "output_type": "execute_result"
    }
   ],
   "source": [
    "id(txts)"
   ]
  },
  {
   "cell_type": "code",
   "execution_count": 93,
   "id": "d62bafd7-d732-4142-a181-4b8da6599eee",
   "metadata": {},
   "outputs": [
    {
     "data": {
      "text/plain": [
       "2283690549360"
      ]
     },
     "execution_count": 93,
     "metadata": {},
     "output_type": "execute_result"
    }
   ],
   "source": [
    "id(txts[0])"
   ]
  },
  {
   "cell_type": "code",
   "execution_count": 95,
   "id": "931c9a97-dd69-48f2-8938-c59d5072c769",
   "metadata": {},
   "outputs": [
    {
     "data": {
      "text/plain": [
       "['bla', 'gmuhiuddin']"
      ]
     },
     "execution_count": 95,
     "metadata": {},
     "output_type": "execute_result"
    }
   ],
   "source": [
    "txts"
   ]
  },
  {
   "cell_type": "code",
   "execution_count": 97,
   "id": "6a88ebae-bed3-48ce-bc30-c85340bedcf5",
   "metadata": {},
   "outputs": [
    {
     "ename": "IndexError",
     "evalue": "list assignment index out of range",
     "output_type": "error",
     "traceback": [
      "\u001b[1;31m---------------------------------------------------------------------------\u001b[0m",
      "\u001b[1;31mIndexError\u001b[0m                                Traceback (most recent call last)",
      "Cell \u001b[1;32mIn[97], line 1\u001b[0m\n\u001b[1;32m----> 1\u001b[0m txts[\u001b[38;5;241m2\u001b[39m] \u001b[38;5;241m=\u001b[39m \u001b[38;5;124m\"\u001b[39m\u001b[38;5;124mblaaaa\u001b[39m\u001b[38;5;124m\"\u001b[39m\n",
      "\u001b[1;31mIndexError\u001b[0m: list assignment index out of range"
     ]
    }
   ],
   "source": [
    "txts[2] = \"blaaaa\""
   ]
  },
  {
   "cell_type": "code",
   "execution_count": 99,
   "id": "30283b11-3d8a-4f6c-8229-694d08f6c072",
   "metadata": {},
   "outputs": [],
   "source": [
    "marks = 100"
   ]
  },
  {
   "cell_type": "code",
   "execution_count": 103,
   "id": "7739f4d8-2ae6-4708-b4ea-9bbdfb48fbbc",
   "metadata": {},
   "outputs": [],
   "source": [
    "maarks =+ 25"
   ]
  },
  {
   "cell_type": "code",
   "execution_count": 105,
   "id": "cffd7ab2-fd74-4ee6-8e05-4cd7e8d432b7",
   "metadata": {},
   "outputs": [
    {
     "data": {
      "text/plain": [
       "100"
      ]
     },
     "execution_count": 105,
     "metadata": {},
     "output_type": "execute_result"
    }
   ],
   "source": [
    "marks"
   ]
  },
  {
   "cell_type": "code",
   "execution_count": 107,
   "id": "e8e544de-adb3-49ae-b449-1e58fc9b5005",
   "metadata": {},
   "outputs": [],
   "source": [
    "marks = marks + 25"
   ]
  },
  {
   "cell_type": "code",
   "execution_count": 109,
   "id": "146db4b8-ebcc-4aa5-890e-9474724f45c1",
   "metadata": {},
   "outputs": [
    {
     "data": {
      "text/plain": [
       "125"
      ]
     },
     "execution_count": 109,
     "metadata": {},
     "output_type": "execute_result"
    }
   ],
   "source": [
    "marks\n"
   ]
  },
  {
   "cell_type": "code",
   "execution_count": 111,
   "id": "825772c5-91c3-4048-a48d-28e7ee1ce258",
   "metadata": {},
   "outputs": [
    {
     "data": {
      "text/plain": [
       "125"
      ]
     },
     "execution_count": 111,
     "metadata": {},
     "output_type": "execute_result"
    }
   ],
   "source": [
    "marks"
   ]
  },
  {
   "cell_type": "code",
   "execution_count": 113,
   "id": "f989d6a5-b2d5-4577-946b-00313e698b0a",
   "metadata": {},
   "outputs": [],
   "source": [
    "boolean = True\n"
   ]
  },
  {
   "cell_type": "code",
   "execution_count": 115,
   "id": "3466aabd-c798-4ab7-a448-baef119c1d34",
   "metadata": {},
   "outputs": [
    {
     "data": {
      "text/plain": [
       "True"
      ]
     },
     "execution_count": 115,
     "metadata": {},
     "output_type": "execute_result"
    }
   ],
   "source": [
    "boolean"
   ]
  },
  {
   "cell_type": "code",
   "execution_count": 117,
   "id": "47c31079-c7a0-4f40-aea8-229eb64f8119",
   "metadata": {},
   "outputs": [
    {
     "ename": "SyntaxError",
     "evalue": "invalid syntax (1875114559.py, line 1)",
     "output_type": "error",
     "traceback": [
      "\u001b[1;36m  Cell \u001b[1;32mIn[117], line 1\u001b[1;36m\u001b[0m\n\u001b[1;33m    is = \"Asdf\"\u001b[0m\n\u001b[1;37m    ^\u001b[0m\n\u001b[1;31mSyntaxError\u001b[0m\u001b[1;31m:\u001b[0m invalid syntax\n"
     ]
    }
   ],
   "source": [
    "is = \"Asdf\"\n"
   ]
  },
  {
   "cell_type": "code",
   "execution_count": 119,
   "id": "82fd6aec-4757-4d05-b7a7-231e885c9c68",
   "metadata": {},
   "outputs": [
    {
     "data": {
      "text/plain": [
       "bool"
      ]
     },
     "execution_count": 119,
     "metadata": {},
     "output_type": "execute_result"
    }
   ],
   "source": [
    "type(boolean)"
   ]
  },
  {
   "cell_type": "code",
   "execution_count": 121,
   "id": "d6519fd5-5d54-4a37-8cdb-37be91267651",
   "metadata": {},
   "outputs": [
    {
     "data": {
      "text/plain": [
       "list"
      ]
     },
     "execution_count": 121,
     "metadata": {},
     "output_type": "execute_result"
    }
   ],
   "source": [
    "type(txts)"
   ]
  },
  {
   "cell_type": "code",
   "execution_count": 1,
   "id": "ddc57f5d-4121-41e6-8967-fca37bfef8c5",
   "metadata": {},
   "outputs": [
    {
     "data": {
      "text/plain": [
       "bool"
      ]
     },
     "execution_count": 1,
     "metadata": {},
     "output_type": "execute_result"
    }
   ],
   "source": [
    "type(True)"
   ]
  },
  {
   "cell_type": "code",
   "execution_count": 2,
   "id": "1e4c5dfe-b100-475a-a6a1-29f276b8863a",
   "metadata": {},
   "outputs": [
    {
     "data": {
      "text/plain": [
       "int"
      ]
     },
     "execution_count": 2,
     "metadata": {},
     "output_type": "execute_result"
    }
   ],
   "source": [
    "type(1)"
   ]
  },
  {
   "cell_type": "code",
   "execution_count": 3,
   "id": "55643e73-2ed4-4731-8ebf-52b19aeda573",
   "metadata": {},
   "outputs": [
    {
     "data": {
      "text/plain": [
       "float"
      ]
     },
     "execution_count": 3,
     "metadata": {},
     "output_type": "execute_result"
    }
   ],
   "source": [
    "type(3.1)"
   ]
  },
  {
   "cell_type": "code",
   "execution_count": 4,
   "id": "ed899ac9-adfe-4134-8645-e640a0c58a03",
   "metadata": {},
   "outputs": [
    {
     "data": {
      "text/plain": [
       "1.5"
      ]
     },
     "execution_count": 4,
     "metadata": {},
     "output_type": "execute_result"
    }
   ],
   "source": [
    "3/2"
   ]
  },
  {
   "cell_type": "code",
   "execution_count": 5,
   "id": "1176c9ef-6f5c-4550-9dc6-75142440f339",
   "metadata": {},
   "outputs": [
    {
     "data": {
      "text/plain": [
       "1"
      ]
     },
     "execution_count": 5,
     "metadata": {},
     "output_type": "execute_result"
    }
   ],
   "source": [
    "3//2"
   ]
  },
  {
   "cell_type": "code",
   "execution_count": 6,
   "id": "18a7ca34-0df3-41ab-9354-de247e968af2",
   "metadata": {},
   "outputs": [
    {
     "data": {
      "text/plain": [
       "0"
      ]
     },
     "execution_count": 6,
     "metadata": {},
     "output_type": "execute_result"
    }
   ],
   "source": [
    "10%2"
   ]
  },
  {
   "cell_type": "code",
   "execution_count": 7,
   "id": "dbb716ff-1215-4d39-8c89-c9c7ba9f1166",
   "metadata": {},
   "outputs": [
    {
     "data": {
      "text/plain": [
       "1"
      ]
     },
     "execution_count": 7,
     "metadata": {},
     "output_type": "execute_result"
    }
   ],
   "source": [
    "10%3"
   ]
  },
  {
   "cell_type": "code",
   "execution_count": null,
   "id": "93b44983-ea1c-40e8-bf20-58c495d7e188",
   "metadata": {},
   "outputs": [],
   "source": []
  }
 ],
 "metadata": {
  "kernelspec": {
   "display_name": "Python 3 (ipykernel)",
   "language": "python",
   "name": "python3"
  },
  "language_info": {
   "codemirror_mode": {
    "name": "ipython",
    "version": 3
   },
   "file_extension": ".py",
   "mimetype": "text/x-python",
   "name": "python",
   "nbconvert_exporter": "python",
   "pygments_lexer": "ipython3",
   "version": "3.12.7"
  }
 },
 "nbformat": 4,
 "nbformat_minor": 5
}
