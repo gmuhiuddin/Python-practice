{
 "cells": [
  {
   "cell_type": "code",
   "execution_count": 1,
   "id": "cb80066a-3545-45c5-8c11-d5d91fba1d39",
   "metadata": {},
   "outputs": [],
   "source": [
    "import pandas as pd"
   ]
  },
  {
   "cell_type": "code",
   "execution_count": 2,
   "id": "ad1509f4-728b-45a9-848b-b58c62469c9d",
   "metadata": {},
   "outputs": [
    {
     "name": "stdout",
     "output_type": "stream",
     "text": [
      "pygame 2.6.1 (SDL 2.28.4, Python 3.12.7)\n",
      "Hello from the pygame community. https://www.pygame.org/contribute.html\n"
     ]
    }
   ],
   "source": [
    "import pygame\n",
    "\n",
    "pygame.init()\n",
    "\n",
    "sound = pygame.mixer.Sound(\"Lam-Yati-Nazeero-Kafi-Nazarin.mp3\")"
   ]
  },
  {
   "cell_type": "code",
   "execution_count": 3,
   "id": "19063e0a-afc0-4a53-b5e9-b0a6f87b7eb9",
   "metadata": {},
   "outputs": [],
   "source": [
    "s1 = pd.Series(range(1,4), index=[\"ahmed\", \"bilal\", \"ghulam\"])"
   ]
  },
  {
   "cell_type": "code",
   "execution_count": 4,
   "id": "8de8220e-2eb5-4a09-af33-fe77a8f66a25",
   "metadata": {},
   "outputs": [],
   "source": [
    "s1[\"amed\"] = 10"
   ]
  },
  {
   "cell_type": "code",
   "execution_count": 5,
   "id": "4e41ea6c-3346-46e4-b03a-dfb4760f9b65",
   "metadata": {},
   "outputs": [
    {
     "data": {
      "text/plain": [
       "ahmed      1\n",
       "bilal      2\n",
       "ghulam     3\n",
       "amed      10\n",
       "dtype: int64"
      ]
     },
     "execution_count": 5,
     "metadata": {},
     "output_type": "execute_result"
    }
   ],
   "source": [
    "s1"
   ]
  },
  {
   "cell_type": "code",
   "execution_count": 6,
   "id": "bbe560f6-1a83-48db-a69b-ca38c7bbdca8",
   "metadata": {},
   "outputs": [
    {
     "data": {
      "text/plain": [
       "bilal      2\n",
       "ghulam     3\n",
       "amed      10\n",
       "dtype: int64"
      ]
     },
     "execution_count": 6,
     "metadata": {},
     "output_type": "execute_result"
    }
   ],
   "source": [
    "s1[\"bilal\":\"amed\"]"
   ]
  },
  {
   "cell_type": "code",
   "execution_count": 7,
   "id": "8d2fec7d-dde9-4b6d-9900-1b3af60909a3",
   "metadata": {},
   "outputs": [],
   "source": [
    "data = pd.read_csv(\"imdb-top-1000.csv\")"
   ]
  },
  {
   "cell_type": "code",
   "execution_count": 8,
   "id": "75b019d4-5b04-49bf-b84e-14317205a44c",
   "metadata": {},
   "outputs": [
    {
     "data": {
      "text/html": [
       "<div>\n",
       "<style scoped>\n",
       "    .dataframe tbody tr th:only-of-type {\n",
       "        vertical-align: middle;\n",
       "    }\n",
       "\n",
       "    .dataframe tbody tr th {\n",
       "        vertical-align: top;\n",
       "    }\n",
       "\n",
       "    .dataframe thead th {\n",
       "        text-align: right;\n",
       "    }\n",
       "</style>\n",
       "<table border=\"1\" class=\"dataframe\">\n",
       "  <thead>\n",
       "    <tr style=\"text-align: right;\">\n",
       "      <th></th>\n",
       "      <th>Series_Title</th>\n",
       "      <th>Released_Year</th>\n",
       "      <th>Runtime</th>\n",
       "      <th>Genre</th>\n",
       "      <th>IMDB_Rating</th>\n",
       "      <th>Director</th>\n",
       "      <th>Star1</th>\n",
       "      <th>No_of_Votes</th>\n",
       "      <th>Gross</th>\n",
       "      <th>Metascore</th>\n",
       "    </tr>\n",
       "  </thead>\n",
       "  <tbody>\n",
       "    <tr>\n",
       "      <th>0</th>\n",
       "      <td>The Shawshank Redemption</td>\n",
       "      <td>1994</td>\n",
       "      <td>142</td>\n",
       "      <td>Drama</td>\n",
       "      <td>9.3</td>\n",
       "      <td>Frank Darabont</td>\n",
       "      <td>Tim Robbins</td>\n",
       "      <td>2343110</td>\n",
       "      <td>28341469.0</td>\n",
       "      <td>80.0</td>\n",
       "    </tr>\n",
       "    <tr>\n",
       "      <th>1</th>\n",
       "      <td>The Godfather</td>\n",
       "      <td>1972</td>\n",
       "      <td>175</td>\n",
       "      <td>Crime</td>\n",
       "      <td>9.2</td>\n",
       "      <td>Francis Ford Coppola</td>\n",
       "      <td>Marlon Brando</td>\n",
       "      <td>1620367</td>\n",
       "      <td>134966411.0</td>\n",
       "      <td>100.0</td>\n",
       "    </tr>\n",
       "    <tr>\n",
       "      <th>2</th>\n",
       "      <td>The Dark Knight</td>\n",
       "      <td>2008</td>\n",
       "      <td>152</td>\n",
       "      <td>Action</td>\n",
       "      <td>9.0</td>\n",
       "      <td>Christopher Nolan</td>\n",
       "      <td>Christian Bale</td>\n",
       "      <td>2303232</td>\n",
       "      <td>534858444.0</td>\n",
       "      <td>84.0</td>\n",
       "    </tr>\n",
       "    <tr>\n",
       "      <th>3</th>\n",
       "      <td>The Godfather: Part II</td>\n",
       "      <td>1974</td>\n",
       "      <td>202</td>\n",
       "      <td>Crime</td>\n",
       "      <td>9.0</td>\n",
       "      <td>Francis Ford Coppola</td>\n",
       "      <td>Al Pacino</td>\n",
       "      <td>1129952</td>\n",
       "      <td>57300000.0</td>\n",
       "      <td>90.0</td>\n",
       "    </tr>\n",
       "    <tr>\n",
       "      <th>4</th>\n",
       "      <td>12 Angry Men</td>\n",
       "      <td>1957</td>\n",
       "      <td>96</td>\n",
       "      <td>Crime</td>\n",
       "      <td>9.0</td>\n",
       "      <td>Sidney Lumet</td>\n",
       "      <td>Henry Fonda</td>\n",
       "      <td>689845</td>\n",
       "      <td>4360000.0</td>\n",
       "      <td>96.0</td>\n",
       "    </tr>\n",
       "  </tbody>\n",
       "</table>\n",
       "</div>"
      ],
      "text/plain": [
       "               Series_Title Released_Year  Runtime   Genre  IMDB_Rating  \\\n",
       "0  The Shawshank Redemption          1994      142   Drama          9.3   \n",
       "1             The Godfather          1972      175   Crime          9.2   \n",
       "2           The Dark Knight          2008      152  Action          9.0   \n",
       "3    The Godfather: Part II          1974      202   Crime          9.0   \n",
       "4              12 Angry Men          1957       96   Crime          9.0   \n",
       "\n",
       "               Director           Star1  No_of_Votes        Gross  Metascore  \n",
       "0        Frank Darabont     Tim Robbins      2343110   28341469.0       80.0  \n",
       "1  Francis Ford Coppola   Marlon Brando      1620367  134966411.0      100.0  \n",
       "2     Christopher Nolan  Christian Bale      2303232  534858444.0       84.0  \n",
       "3  Francis Ford Coppola       Al Pacino      1129952   57300000.0       90.0  \n",
       "4          Sidney Lumet     Henry Fonda       689845    4360000.0       96.0  "
      ]
     },
     "execution_count": 8,
     "metadata": {},
     "output_type": "execute_result"
    }
   ],
   "source": [
    "data.head()"
   ]
  },
  {
   "cell_type": "code",
   "execution_count": 9,
   "id": "712d9838-cce9-4878-a295-bf248baa38c6",
   "metadata": {},
   "outputs": [
    {
     "data": {
      "text/html": [
       "<div>\n",
       "<style scoped>\n",
       "    .dataframe tbody tr th:only-of-type {\n",
       "        vertical-align: middle;\n",
       "    }\n",
       "\n",
       "    .dataframe tbody tr th {\n",
       "        vertical-align: top;\n",
       "    }\n",
       "\n",
       "    .dataframe thead th {\n",
       "        text-align: right;\n",
       "    }\n",
       "</style>\n",
       "<table border=\"1\" class=\"dataframe\">\n",
       "  <thead>\n",
       "    <tr style=\"text-align: right;\">\n",
       "      <th></th>\n",
       "      <th>Series_Title</th>\n",
       "      <th>Released_Year</th>\n",
       "      <th>Runtime</th>\n",
       "      <th>Genre</th>\n",
       "      <th>IMDB_Rating</th>\n",
       "      <th>Director</th>\n",
       "      <th>Star1</th>\n",
       "      <th>No_of_Votes</th>\n",
       "      <th>Gross</th>\n",
       "      <th>Metascore</th>\n",
       "    </tr>\n",
       "  </thead>\n",
       "  <tbody>\n",
       "    <tr>\n",
       "      <th>477</th>\n",
       "      <td>Star Wars: Episode VII - The Force Awakens</td>\n",
       "      <td>2015</td>\n",
       "      <td>138</td>\n",
       "      <td>Action</td>\n",
       "      <td>7.9</td>\n",
       "      <td>J.J. Abrams</td>\n",
       "      <td>Daisy Ridley</td>\n",
       "      <td>860823</td>\n",
       "      <td>936662225.0</td>\n",
       "      <td>80.0</td>\n",
       "    </tr>\n",
       "  </tbody>\n",
       "</table>\n",
       "</div>"
      ],
      "text/plain": [
       "                                   Series_Title Released_Year  Runtime  \\\n",
       "477  Star Wars: Episode VII - The Force Awakens          2015      138   \n",
       "\n",
       "      Genre  IMDB_Rating     Director         Star1  No_of_Votes        Gross  \\\n",
       "477  Action          7.9  J.J. Abrams  Daisy Ridley       860823  936662225.0   \n",
       "\n",
       "     Metascore  \n",
       "477       80.0  "
      ]
     },
     "execution_count": 9,
     "metadata": {},
     "output_type": "execute_result"
    }
   ],
   "source": [
    "data[data.Gross==data.Gross.max()]"
   ]
  },
  {
   "cell_type": "code",
   "execution_count": 10,
   "id": "b4f0d4a6-d5a4-455f-b386-844290977308",
   "metadata": {},
   "outputs": [
    {
     "data": {
      "text/html": [
       "<div>\n",
       "<style scoped>\n",
       "    .dataframe tbody tr th:only-of-type {\n",
       "        vertical-align: middle;\n",
       "    }\n",
       "\n",
       "    .dataframe tbody tr th {\n",
       "        vertical-align: top;\n",
       "    }\n",
       "\n",
       "    .dataframe thead th {\n",
       "        text-align: right;\n",
       "    }\n",
       "</style>\n",
       "<table border=\"1\" class=\"dataframe\">\n",
       "  <thead>\n",
       "    <tr style=\"text-align: right;\">\n",
       "      <th></th>\n",
       "      <th>Series_Title</th>\n",
       "      <th>Released_Year</th>\n",
       "      <th>Runtime</th>\n",
       "      <th>Genre</th>\n",
       "      <th>IMDB_Rating</th>\n",
       "      <th>Director</th>\n",
       "      <th>Star1</th>\n",
       "      <th>No_of_Votes</th>\n",
       "      <th>Gross</th>\n",
       "      <th>Metascore</th>\n",
       "    </tr>\n",
       "  </thead>\n",
       "  <tbody>\n",
       "    <tr>\n",
       "      <th>140</th>\n",
       "      <td>Gangs of Wasseypur</td>\n",
       "      <td>2012</td>\n",
       "      <td>321</td>\n",
       "      <td>Action</td>\n",
       "      <td>8.2</td>\n",
       "      <td>Anurag Kashyap</td>\n",
       "      <td>Manoj Bajpayee</td>\n",
       "      <td>82365</td>\n",
       "      <td>5257741.0</td>\n",
       "      <td>89.0</td>\n",
       "    </tr>\n",
       "  </tbody>\n",
       "</table>\n",
       "</div>"
      ],
      "text/plain": [
       "           Series_Title Released_Year  Runtime   Genre  IMDB_Rating  \\\n",
       "140  Gangs of Wasseypur          2012      321  Action          8.2   \n",
       "\n",
       "           Director           Star1  No_of_Votes      Gross  Metascore  \n",
       "140  Anurag Kashyap  Manoj Bajpayee        82365  5257741.0       89.0  "
      ]
     },
     "execution_count": 10,
     "metadata": {},
     "output_type": "execute_result"
    }
   ],
   "source": [
    "data[data.Runtime==data.Runtime.max()]"
   ]
  },
  {
   "cell_type": "code",
   "execution_count": 11,
   "id": "822be913-7d72-4c53-b9dc-4c8b9a8e46f6",
   "metadata": {},
   "outputs": [
    {
     "data": {
      "text/plain": [
       "Director\n",
       "Neill Blomkamp     1\n",
       "Tomas Alfredson    1\n",
       "Duncan Jones       1\n",
       "Jacques Audiard    1\n",
       "George Stevens     1\n",
       "Name: count, dtype: int64"
      ]
     },
     "execution_count": 11,
     "metadata": {},
     "output_type": "execute_result"
    }
   ],
   "source": [
    "data.Director.value_counts().tail()"
   ]
  },
  {
   "cell_type": "code",
   "execution_count": 12,
   "id": "d5e6fe5c-8fa6-443a-b7b2-05793843d302",
   "metadata": {},
   "outputs": [
    {
     "data": {
      "text/plain": [
       "0    Woody Allen\n",
       "Name: Director, dtype: object"
      ]
     },
     "execution_count": 12,
     "metadata": {},
     "output_type": "execute_result"
    }
   ],
   "source": [
    "data[data.Genre==\"Comedy\"][\"Director\"].mode()"
   ]
  },
  {
   "cell_type": "code",
   "execution_count": 13,
   "id": "7454290e-ea14-49b8-a78d-e291908da0f3",
   "metadata": {},
   "outputs": [
    {
     "data": {
      "text/plain": [
       "'Leslie Cheung'"
      ]
     },
     "execution_count": 13,
     "metadata": {},
     "output_type": "execute_result"
    }
   ],
   "source": [
    "data[data.No_of_Votes==data.No_of_Votes.min()][\"Star1\"].values[0]"
   ]
  },
  {
   "cell_type": "code",
   "execution_count": 14,
   "id": "1804d235-430e-42c6-92cb-d5a5640f9d3e",
   "metadata": {},
   "outputs": [
    {
     "data": {
      "text/plain": [
       "Released_Year\n",
       "2014    32\n",
       "2004    31\n",
       "2009    29\n",
       "2013    28\n",
       "2016    28\n",
       "        ..\n",
       "1926     1\n",
       "1936     1\n",
       "1924     1\n",
       "1921     1\n",
       "PG       1\n",
       "Name: count, Length: 100, dtype: int64"
      ]
     },
     "execution_count": 14,
     "metadata": {},
     "output_type": "execute_result"
    }
   ],
   "source": [
    "data.Released_Year.value_counts()"
   ]
  },
  {
   "cell_type": "code",
   "execution_count": 15,
   "id": "615184d3-8ae1-455b-8620-282b1edfe118",
   "metadata": {},
   "outputs": [
    {
     "data": {
      "text/plain": [
       "7.957439446366782"
      ]
     },
     "execution_count": 15,
     "metadata": {},
     "output_type": "execute_result"
    }
   ],
   "source": [
    "data[data.Genre == \"Drama\"][\"IMDB_Rating\"].mean()"
   ]
  },
  {
   "cell_type": "code",
   "execution_count": 16,
   "id": "a88e047c-8662-4b23-bdd2-fab38b74b508",
   "metadata": {},
   "outputs": [
    {
     "data": {
      "text/plain": [
       "8.016822429906542"
      ]
     },
     "execution_count": 16,
     "metadata": {},
     "output_type": "execute_result"
    }
   ],
   "source": [
    "data[data.Genre == \"Crime\"][\"IMDB_Rating\"].mean()"
   ]
  },
  {
   "cell_type": "code",
   "execution_count": 17,
   "id": "103b09e7-5d0a-469c-9bae-31d94503fc1f",
   "metadata": {},
   "outputs": [
    {
     "data": {
      "text/html": [
       "<div>\n",
       "<style scoped>\n",
       "    .dataframe tbody tr th:only-of-type {\n",
       "        vertical-align: middle;\n",
       "    }\n",
       "\n",
       "    .dataframe tbody tr th {\n",
       "        vertical-align: top;\n",
       "    }\n",
       "\n",
       "    .dataframe thead th {\n",
       "        text-align: right;\n",
       "    }\n",
       "</style>\n",
       "<table border=\"1\" class=\"dataframe\">\n",
       "  <thead>\n",
       "    <tr style=\"text-align: right;\">\n",
       "      <th></th>\n",
       "      <th>Series_Title</th>\n",
       "      <th>Released_Year</th>\n",
       "      <th>Runtime</th>\n",
       "      <th>Genre</th>\n",
       "      <th>IMDB_Rating</th>\n",
       "      <th>Director</th>\n",
       "      <th>Star1</th>\n",
       "      <th>No_of_Votes</th>\n",
       "      <th>Gross</th>\n",
       "      <th>Metascore</th>\n",
       "    </tr>\n",
       "  </thead>\n",
       "  <tbody>\n",
       "    <tr>\n",
       "      <th>966</th>\n",
       "      <td>Apollo 13</td>\n",
       "      <td>PG</td>\n",
       "      <td>140</td>\n",
       "      <td>Adventure</td>\n",
       "      <td>7.6</td>\n",
       "      <td>Ron Howard</td>\n",
       "      <td>Tom Hanks</td>\n",
       "      <td>269197</td>\n",
       "      <td>173837933.0</td>\n",
       "      <td>77.0</td>\n",
       "    </tr>\n",
       "  </tbody>\n",
       "</table>\n",
       "</div>"
      ],
      "text/plain": [
       "    Series_Title Released_Year  Runtime      Genre  IMDB_Rating    Director  \\\n",
       "966    Apollo 13            PG      140  Adventure          7.6  Ron Howard   \n",
       "\n",
       "         Star1  No_of_Votes        Gross  Metascore  \n",
       "966  Tom Hanks       269197  173837933.0       77.0  "
      ]
     },
     "execution_count": 17,
     "metadata": {},
     "output_type": "execute_result"
    }
   ],
   "source": [
    "data[data.Released_Year==\"PG\"]"
   ]
  },
  {
   "cell_type": "code",
   "execution_count": 18,
   "id": "a0bdc884-1041-46c2-af89-a81458526af8",
   "metadata": {},
   "outputs": [],
   "source": [
    "data.loc[966:967, \"Released_Year\"] = \"2014\""
   ]
  },
  {
   "cell_type": "code",
   "execution_count": 19,
   "id": "1a51b681-c359-4347-bf1c-a9796b7b780f",
   "metadata": {},
   "outputs": [
    {
     "data": {
      "text/plain": [
       "Released_Year\n",
       "2014    34\n",
       "2004    31\n",
       "2009    29\n",
       "2013    28\n",
       "2016    28\n",
       "        ..\n",
       "1930     1\n",
       "1921     1\n",
       "1936     1\n",
       "1922     1\n",
       "1943     1\n",
       "Name: count, Length: 99, dtype: int64"
      ]
     },
     "execution_count": 19,
     "metadata": {},
     "output_type": "execute_result"
    }
   ],
   "source": [
    "data.Released_Year.value_counts()"
   ]
  },
  {
   "cell_type": "code",
   "execution_count": 20,
   "id": "207aea38-5b04-4895-83c4-4b3f83024234",
   "metadata": {},
   "outputs": [],
   "source": [
    "mode_of_data_release_year = data.Released_Year.mode()[0]"
   ]
  },
  {
   "cell_type": "code",
   "execution_count": 21,
   "id": "d244ebec-8a9d-4952-85c9-83f876b6d291",
   "metadata": {},
   "outputs": [
    {
     "data": {
      "text/plain": [
       "'2014'"
      ]
     },
     "execution_count": 21,
     "metadata": {},
     "output_type": "execute_result"
    }
   ],
   "source": [
    "mode_of_data_release_year"
   ]
  },
  {
   "cell_type": "code",
   "execution_count": 22,
   "id": "e2d28fa7-412d-44ed-bfda-ba0763023664",
   "metadata": {},
   "outputs": [],
   "source": [
    "data.loc[966:966, [\"Released_Year\"]] = mode_of_data_release_year"
   ]
  },
  {
   "cell_type": "code",
   "execution_count": 23,
   "id": "24e9eb39-6606-4c85-a8c3-a8e1fe367fdf",
   "metadata": {},
   "outputs": [
    {
     "data": {
      "text/plain": [
       "Released_Year\n",
       "2014    34\n",
       "2004    31\n",
       "2009    29\n",
       "2013    28\n",
       "2016    28\n",
       "        ..\n",
       "1930     1\n",
       "1921     1\n",
       "1936     1\n",
       "1922     1\n",
       "1943     1\n",
       "Name: count, Length: 99, dtype: int64"
      ]
     },
     "execution_count": 23,
     "metadata": {},
     "output_type": "execute_result"
    }
   ],
   "source": [
    "data.Released_Year.value_counts()"
   ]
  },
  {
   "cell_type": "code",
   "execution_count": 24,
   "id": "bfaf2572-afa2-4707-801a-b436179abc16",
   "metadata": {},
   "outputs": [
    {
     "data": {
      "text/plain": [
       "array(['1994', '1972', '2008', '1974', '1957', '2003', '1993', '2010',\n",
       "       '1999', '2001', '1966', '2002', '1990', '1980', '1975', '2020',\n",
       "       '2019', '2014', '1998', '1997', '1995', '1991', '1977', '1962',\n",
       "       '1954', '1946', '2011', '2006', '2000', '1988', '1985', '1968',\n",
       "       '1960', '1942', '1936', '1931', '2018', '2017', '2016', '2012',\n",
       "       '2009', '2007', '1984', '1981', '1979', '1971', '1963', '1964',\n",
       "       '1950', '1940', '2013', '2005', '2004', '1992', '1987', '1986',\n",
       "       '1983', '1976', '1973', '1965', '1959', '1958', '1952', '1948',\n",
       "       '1944', '1941', '1927', '1921', '2015', '1996', '1989', '1978',\n",
       "       '1961', '1955', '1953', '1925', '1924', '1982', '1967', '1951',\n",
       "       '1949', '1939', '1937', '1934', '1928', '1926', '1920', '1970',\n",
       "       '1969', '1956', '1947', '1945', '1930', '1938', '1935', '1933',\n",
       "       '1932', '1922', '1943'], dtype=object)"
      ]
     },
     "execution_count": 24,
     "metadata": {},
     "output_type": "execute_result"
    }
   ],
   "source": [
    "data.Released_Year.unique()"
   ]
  },
  {
   "cell_type": "code",
   "execution_count": 25,
   "id": "a70e1d5a-31a3-42cf-a806-bec0fcb3550a",
   "metadata": {},
   "outputs": [],
   "source": [
    "unneseccory_values_indixes = data[data.Released_Year==\"PG\"].index"
   ]
  },
  {
   "cell_type": "code",
   "execution_count": 26,
   "id": "90d9e6fb-33be-4a95-ae3c-1b9ae77aa197",
   "metadata": {},
   "outputs": [],
   "source": [
    "for index in unneseccory_values_indixes:\n",
    "    d_released_year_mode = data.Released_Year.mode()[0]\n",
    "    data.loc[index:index, \"Released_Year\"] = d_released_year_mode"
   ]
  },
  {
   "cell_type": "code",
   "execution_count": 27,
   "id": "bdb91aa6-5d25-4d06-a00f-80c3089af16a",
   "metadata": {},
   "outputs": [
    {
     "data": {
      "text/html": [
       "<div>\n",
       "<style scoped>\n",
       "    .dataframe tbody tr th:only-of-type {\n",
       "        vertical-align: middle;\n",
       "    }\n",
       "\n",
       "    .dataframe tbody tr th {\n",
       "        vertical-align: top;\n",
       "    }\n",
       "\n",
       "    .dataframe thead th {\n",
       "        text-align: right;\n",
       "    }\n",
       "</style>\n",
       "<table border=\"1\" class=\"dataframe\">\n",
       "  <thead>\n",
       "    <tr style=\"text-align: right;\">\n",
       "      <th></th>\n",
       "      <th>Series_Title</th>\n",
       "      <th>Released_Year</th>\n",
       "      <th>Runtime</th>\n",
       "      <th>Genre</th>\n",
       "      <th>IMDB_Rating</th>\n",
       "      <th>Director</th>\n",
       "      <th>Star1</th>\n",
       "      <th>No_of_Votes</th>\n",
       "      <th>Gross</th>\n",
       "      <th>Metascore</th>\n",
       "    </tr>\n",
       "  </thead>\n",
       "  <tbody>\n",
       "    <tr>\n",
       "      <th>966</th>\n",
       "      <td>Apollo 13</td>\n",
       "      <td>2014</td>\n",
       "      <td>140</td>\n",
       "      <td>Adventure</td>\n",
       "      <td>7.6</td>\n",
       "      <td>Ron Howard</td>\n",
       "      <td>Tom Hanks</td>\n",
       "      <td>269197</td>\n",
       "      <td>173837933.0</td>\n",
       "      <td>77.0</td>\n",
       "    </tr>\n",
       "  </tbody>\n",
       "</table>\n",
       "</div>"
      ],
      "text/plain": [
       "    Series_Title Released_Year  Runtime      Genre  IMDB_Rating    Director  \\\n",
       "966    Apollo 13          2014      140  Adventure          7.6  Ron Howard   \n",
       "\n",
       "         Star1  No_of_Votes        Gross  Metascore  \n",
       "966  Tom Hanks       269197  173837933.0       77.0  "
      ]
     },
     "execution_count": 27,
     "metadata": {},
     "output_type": "execute_result"
    }
   ],
   "source": [
    "data.loc[966:966]"
   ]
  },
  {
   "cell_type": "code",
   "execution_count": 28,
   "id": "4eb6cc5b-47b6-4302-93e5-d80834573156",
   "metadata": {},
   "outputs": [
    {
     "name": "stdout",
     "output_type": "stream",
     "text": [
      "\n",
      "\n",
      "122891\n",
      "\n",
      "\n",
      "\n",
      "\n",
      "273692911\n",
      "\n",
      "\n"
     ]
    },
    {
     "data": {
      "text/plain": [
       "Series_Title     None\n",
       "Released_Year    None\n",
       "Runtime          None\n",
       "Genre            None\n",
       "IMDB_Rating      None\n",
       "Director         None\n",
       "Star1            None\n",
       "No_of_Votes      None\n",
       "Gross            None\n",
       "Metascore        None\n",
       "dtype: object"
      ]
     },
     "execution_count": 28,
     "metadata": {},
     "output_type": "execute_result"
    }
   ],
   "source": [
    "data.apply(lambda x: print(x.sum() if x.dtype==\"int64\" else \"\"))"
   ]
  },
  {
   "cell_type": "code",
   "execution_count": 29,
   "id": "fdcded65-1276-4433-85f5-a68dcc9b2c51",
   "metadata": {},
   "outputs": [
    {
     "data": {
      "text/html": [
       "<div>\n",
       "<style scoped>\n",
       "    .dataframe tbody tr th:only-of-type {\n",
       "        vertical-align: middle;\n",
       "    }\n",
       "\n",
       "    .dataframe tbody tr th {\n",
       "        vertical-align: top;\n",
       "    }\n",
       "\n",
       "    .dataframe thead th {\n",
       "        text-align: right;\n",
       "    }\n",
       "</style>\n",
       "<table border=\"1\" class=\"dataframe\">\n",
       "  <thead>\n",
       "    <tr style=\"text-align: right;\">\n",
       "      <th></th>\n",
       "      <th>Series_Title</th>\n",
       "      <th>Released_Year</th>\n",
       "      <th>Runtime</th>\n",
       "      <th>Genre</th>\n",
       "      <th>IMDB_Rating</th>\n",
       "      <th>Director</th>\n",
       "      <th>Star1</th>\n",
       "      <th>No_of_Votes</th>\n",
       "      <th>Gross</th>\n",
       "      <th>Metascore</th>\n",
       "    </tr>\n",
       "  </thead>\n",
       "  <tbody>\n",
       "    <tr>\n",
       "      <th>0</th>\n",
       "      <td>The Shawshank Redemption</td>\n",
       "      <td>1994</td>\n",
       "      <td>142</td>\n",
       "      <td>Drama</td>\n",
       "      <td>9.3</td>\n",
       "      <td>Frank Darabont</td>\n",
       "      <td>Tim Robbins</td>\n",
       "      <td>2343110</td>\n",
       "      <td>28341469.0</td>\n",
       "      <td>80.0</td>\n",
       "    </tr>\n",
       "    <tr>\n",
       "      <th>1</th>\n",
       "      <td>The Godfather</td>\n",
       "      <td>1972</td>\n",
       "      <td>175</td>\n",
       "      <td>Crime</td>\n",
       "      <td>9.2</td>\n",
       "      <td>Francis Ford Coppola</td>\n",
       "      <td>Marlon Brando</td>\n",
       "      <td>1620367</td>\n",
       "      <td>134966411.0</td>\n",
       "      <td>100.0</td>\n",
       "    </tr>\n",
       "    <tr>\n",
       "      <th>2</th>\n",
       "      <td>The Dark Knight</td>\n",
       "      <td>2008</td>\n",
       "      <td>152</td>\n",
       "      <td>Action</td>\n",
       "      <td>9.0</td>\n",
       "      <td>Christopher Nolan</td>\n",
       "      <td>Christian Bale</td>\n",
       "      <td>2303232</td>\n",
       "      <td>534858444.0</td>\n",
       "      <td>84.0</td>\n",
       "    </tr>\n",
       "    <tr>\n",
       "      <th>3</th>\n",
       "      <td>The Godfather: Part II</td>\n",
       "      <td>1974</td>\n",
       "      <td>202</td>\n",
       "      <td>Crime</td>\n",
       "      <td>9.0</td>\n",
       "      <td>Francis Ford Coppola</td>\n",
       "      <td>Al Pacino</td>\n",
       "      <td>1129952</td>\n",
       "      <td>57300000.0</td>\n",
       "      <td>90.0</td>\n",
       "    </tr>\n",
       "    <tr>\n",
       "      <th>4</th>\n",
       "      <td>12 Angry Men</td>\n",
       "      <td>1957</td>\n",
       "      <td>96</td>\n",
       "      <td>Crime</td>\n",
       "      <td>9.0</td>\n",
       "      <td>Sidney Lumet</td>\n",
       "      <td>Henry Fonda</td>\n",
       "      <td>689845</td>\n",
       "      <td>4360000.0</td>\n",
       "      <td>96.0</td>\n",
       "    </tr>\n",
       "  </tbody>\n",
       "</table>\n",
       "</div>"
      ],
      "text/plain": [
       "               Series_Title Released_Year  Runtime   Genre  IMDB_Rating  \\\n",
       "0  The Shawshank Redemption          1994      142   Drama          9.3   \n",
       "1             The Godfather          1972      175   Crime          9.2   \n",
       "2           The Dark Knight          2008      152  Action          9.0   \n",
       "3    The Godfather: Part II          1974      202   Crime          9.0   \n",
       "4              12 Angry Men          1957       96   Crime          9.0   \n",
       "\n",
       "               Director           Star1  No_of_Votes        Gross  Metascore  \n",
       "0        Frank Darabont     Tim Robbins      2343110   28341469.0       80.0  \n",
       "1  Francis Ford Coppola   Marlon Brando      1620367  134966411.0      100.0  \n",
       "2     Christopher Nolan  Christian Bale      2303232  534858444.0       84.0  \n",
       "3  Francis Ford Coppola       Al Pacino      1129952   57300000.0       90.0  \n",
       "4          Sidney Lumet     Henry Fonda       689845    4360000.0       96.0  "
      ]
     },
     "execution_count": 29,
     "metadata": {},
     "output_type": "execute_result"
    }
   ],
   "source": [
    "data.head()"
   ]
  },
  {
   "cell_type": "code",
   "execution_count": 30,
   "id": "6ee9e687-201e-41ab-8af7-f05ca27dd333",
   "metadata": {},
   "outputs": [],
   "source": [
    "data[\"Country\"] = \"Pakistan\""
   ]
  },
  {
   "cell_type": "code",
   "execution_count": 31,
   "id": "687e53b6-2fb5-425c-8dc3-343a3642b3c6",
   "metadata": {},
   "outputs": [
    {
     "data": {
      "text/html": [
       "<div>\n",
       "<style scoped>\n",
       "    .dataframe tbody tr th:only-of-type {\n",
       "        vertical-align: middle;\n",
       "    }\n",
       "\n",
       "    .dataframe tbody tr th {\n",
       "        vertical-align: top;\n",
       "    }\n",
       "\n",
       "    .dataframe thead th {\n",
       "        text-align: right;\n",
       "    }\n",
       "</style>\n",
       "<table border=\"1\" class=\"dataframe\">\n",
       "  <thead>\n",
       "    <tr style=\"text-align: right;\">\n",
       "      <th></th>\n",
       "      <th>Series_Title</th>\n",
       "      <th>Released_Year</th>\n",
       "      <th>Runtime</th>\n",
       "      <th>Genre</th>\n",
       "      <th>IMDB_Rating</th>\n",
       "      <th>Director</th>\n",
       "      <th>Star1</th>\n",
       "      <th>No_of_Votes</th>\n",
       "      <th>Gross</th>\n",
       "      <th>Metascore</th>\n",
       "      <th>Country</th>\n",
       "    </tr>\n",
       "  </thead>\n",
       "  <tbody>\n",
       "    <tr>\n",
       "      <th>0</th>\n",
       "      <td>The Shawshank Redemption</td>\n",
       "      <td>1994</td>\n",
       "      <td>142</td>\n",
       "      <td>Drama</td>\n",
       "      <td>9.3</td>\n",
       "      <td>Frank Darabont</td>\n",
       "      <td>Tim Robbins</td>\n",
       "      <td>2343110</td>\n",
       "      <td>28341469.0</td>\n",
       "      <td>80.0</td>\n",
       "      <td>Pakistan</td>\n",
       "    </tr>\n",
       "    <tr>\n",
       "      <th>1</th>\n",
       "      <td>The Godfather</td>\n",
       "      <td>1972</td>\n",
       "      <td>175</td>\n",
       "      <td>Crime</td>\n",
       "      <td>9.2</td>\n",
       "      <td>Francis Ford Coppola</td>\n",
       "      <td>Marlon Brando</td>\n",
       "      <td>1620367</td>\n",
       "      <td>134966411.0</td>\n",
       "      <td>100.0</td>\n",
       "      <td>Pakistan</td>\n",
       "    </tr>\n",
       "    <tr>\n",
       "      <th>2</th>\n",
       "      <td>The Dark Knight</td>\n",
       "      <td>2008</td>\n",
       "      <td>152</td>\n",
       "      <td>Action</td>\n",
       "      <td>9.0</td>\n",
       "      <td>Christopher Nolan</td>\n",
       "      <td>Christian Bale</td>\n",
       "      <td>2303232</td>\n",
       "      <td>534858444.0</td>\n",
       "      <td>84.0</td>\n",
       "      <td>Pakistan</td>\n",
       "    </tr>\n",
       "    <tr>\n",
       "      <th>3</th>\n",
       "      <td>The Godfather: Part II</td>\n",
       "      <td>1974</td>\n",
       "      <td>202</td>\n",
       "      <td>Crime</td>\n",
       "      <td>9.0</td>\n",
       "      <td>Francis Ford Coppola</td>\n",
       "      <td>Al Pacino</td>\n",
       "      <td>1129952</td>\n",
       "      <td>57300000.0</td>\n",
       "      <td>90.0</td>\n",
       "      <td>Pakistan</td>\n",
       "    </tr>\n",
       "    <tr>\n",
       "      <th>4</th>\n",
       "      <td>12 Angry Men</td>\n",
       "      <td>1957</td>\n",
       "      <td>96</td>\n",
       "      <td>Crime</td>\n",
       "      <td>9.0</td>\n",
       "      <td>Sidney Lumet</td>\n",
       "      <td>Henry Fonda</td>\n",
       "      <td>689845</td>\n",
       "      <td>4360000.0</td>\n",
       "      <td>96.0</td>\n",
       "      <td>Pakistan</td>\n",
       "    </tr>\n",
       "  </tbody>\n",
       "</table>\n",
       "</div>"
      ],
      "text/plain": [
       "               Series_Title Released_Year  Runtime   Genre  IMDB_Rating  \\\n",
       "0  The Shawshank Redemption          1994      142   Drama          9.3   \n",
       "1             The Godfather          1972      175   Crime          9.2   \n",
       "2           The Dark Knight          2008      152  Action          9.0   \n",
       "3    The Godfather: Part II          1974      202   Crime          9.0   \n",
       "4              12 Angry Men          1957       96   Crime          9.0   \n",
       "\n",
       "               Director           Star1  No_of_Votes        Gross  Metascore  \\\n",
       "0        Frank Darabont     Tim Robbins      2343110   28341469.0       80.0   \n",
       "1  Francis Ford Coppola   Marlon Brando      1620367  134966411.0      100.0   \n",
       "2     Christopher Nolan  Christian Bale      2303232  534858444.0       84.0   \n",
       "3  Francis Ford Coppola       Al Pacino      1129952   57300000.0       90.0   \n",
       "4          Sidney Lumet     Henry Fonda       689845    4360000.0       96.0   \n",
       "\n",
       "    Country  \n",
       "0  Pakistan  \n",
       "1  Pakistan  \n",
       "2  Pakistan  \n",
       "3  Pakistan  \n",
       "4  Pakistan  "
      ]
     },
     "execution_count": 31,
     "metadata": {},
     "output_type": "execute_result"
    }
   ],
   "source": [
    "data.head()"
   ]
  },
  {
   "cell_type": "code",
   "execution_count": 32,
   "id": "04eefac5-1c98-44e7-b102-1bea7754bcd1",
   "metadata": {},
   "outputs": [],
   "source": [
    "data[\"Country\"] = [\"Pakistan\" if x==\"1994\" or x==\"1982\" else \"India\" for x in data.Released_Year]"
   ]
  },
  {
   "cell_type": "code",
   "execution_count": 33,
   "id": "1c2fcd63-accb-499c-87e2-f63cba714186",
   "metadata": {},
   "outputs": [
    {
     "data": {
      "text/html": [
       "<div>\n",
       "<style scoped>\n",
       "    .dataframe tbody tr th:only-of-type {\n",
       "        vertical-align: middle;\n",
       "    }\n",
       "\n",
       "    .dataframe tbody tr th {\n",
       "        vertical-align: top;\n",
       "    }\n",
       "\n",
       "    .dataframe thead th {\n",
       "        text-align: right;\n",
       "    }\n",
       "</style>\n",
       "<table border=\"1\" class=\"dataframe\">\n",
       "  <thead>\n",
       "    <tr style=\"text-align: right;\">\n",
       "      <th></th>\n",
       "      <th>Series_Title</th>\n",
       "      <th>Released_Year</th>\n",
       "      <th>Runtime</th>\n",
       "      <th>Genre</th>\n",
       "      <th>IMDB_Rating</th>\n",
       "      <th>Director</th>\n",
       "      <th>Star1</th>\n",
       "      <th>No_of_Votes</th>\n",
       "      <th>Gross</th>\n",
       "      <th>Metascore</th>\n",
       "      <th>Country</th>\n",
       "    </tr>\n",
       "  </thead>\n",
       "  <tbody>\n",
       "    <tr>\n",
       "      <th>537</th>\n",
       "      <td>La montaña sagrada</td>\n",
       "      <td>1973</td>\n",
       "      <td>114</td>\n",
       "      <td>Adventure</td>\n",
       "      <td>7.9</td>\n",
       "      <td>Alejandro Jodorowsky</td>\n",
       "      <td>Alejandro Jodorowsky</td>\n",
       "      <td>37183</td>\n",
       "      <td>61001.0</td>\n",
       "      <td>76.0</td>\n",
       "      <td>India</td>\n",
       "    </tr>\n",
       "    <tr>\n",
       "      <th>410</th>\n",
       "      <td>The Terminator</td>\n",
       "      <td>1984</td>\n",
       "      <td>107</td>\n",
       "      <td>Action</td>\n",
       "      <td>8.0</td>\n",
       "      <td>James Cameron</td>\n",
       "      <td>Arnold Schwarzenegger</td>\n",
       "      <td>799795</td>\n",
       "      <td>38400000.0</td>\n",
       "      <td>84.0</td>\n",
       "      <td>India</td>\n",
       "    </tr>\n",
       "    <tr>\n",
       "      <th>224</th>\n",
       "      <td>A Wednesday</td>\n",
       "      <td>2008</td>\n",
       "      <td>104</td>\n",
       "      <td>Action</td>\n",
       "      <td>8.1</td>\n",
       "      <td>Neeraj Pandey</td>\n",
       "      <td>Anupam Kher</td>\n",
       "      <td>73891</td>\n",
       "      <td>573329738.0</td>\n",
       "      <td>NaN</td>\n",
       "      <td>India</td>\n",
       "    </tr>\n",
       "    <tr>\n",
       "      <th>268</th>\n",
       "      <td>Platoon</td>\n",
       "      <td>1986</td>\n",
       "      <td>120</td>\n",
       "      <td>Drama</td>\n",
       "      <td>8.1</td>\n",
       "      <td>Oliver Stone</td>\n",
       "      <td>Charlie Sheen</td>\n",
       "      <td>381222</td>\n",
       "      <td>138530565.0</td>\n",
       "      <td>92.0</td>\n",
       "      <td>India</td>\n",
       "    </tr>\n",
       "    <tr>\n",
       "      <th>37</th>\n",
       "      <td>The Departed</td>\n",
       "      <td>2006</td>\n",
       "      <td>151</td>\n",
       "      <td>Crime</td>\n",
       "      <td>8.5</td>\n",
       "      <td>Martin Scorsese</td>\n",
       "      <td>Leonardo DiCaprio</td>\n",
       "      <td>1189773</td>\n",
       "      <td>132384315.0</td>\n",
       "      <td>85.0</td>\n",
       "      <td>India</td>\n",
       "    </tr>\n",
       "    <tr>\n",
       "      <th>677</th>\n",
       "      <td>Predator</td>\n",
       "      <td>1987</td>\n",
       "      <td>107</td>\n",
       "      <td>Action</td>\n",
       "      <td>7.8</td>\n",
       "      <td>John McTiernan</td>\n",
       "      <td>Arnold Schwarzenegger</td>\n",
       "      <td>371387</td>\n",
       "      <td>59735548.0</td>\n",
       "      <td>45.0</td>\n",
       "      <td>India</td>\n",
       "    </tr>\n",
       "    <tr>\n",
       "      <th>970</th>\n",
       "      <td>My Cousin Vinny</td>\n",
       "      <td>1992</td>\n",
       "      <td>120</td>\n",
       "      <td>Comedy</td>\n",
       "      <td>7.6</td>\n",
       "      <td>Jonathan Lynn</td>\n",
       "      <td>Joe Pesci</td>\n",
       "      <td>107325</td>\n",
       "      <td>52929168.0</td>\n",
       "      <td>68.0</td>\n",
       "      <td>India</td>\n",
       "    </tr>\n",
       "    <tr>\n",
       "      <th>994</th>\n",
       "      <td>A Hard Day's Night</td>\n",
       "      <td>1964</td>\n",
       "      <td>87</td>\n",
       "      <td>Comedy</td>\n",
       "      <td>7.6</td>\n",
       "      <td>Richard Lester</td>\n",
       "      <td>John Lennon</td>\n",
       "      <td>40351</td>\n",
       "      <td>13780024.0</td>\n",
       "      <td>96.0</td>\n",
       "      <td>India</td>\n",
       "    </tr>\n",
       "    <tr>\n",
       "      <th>247</th>\n",
       "      <td>Lagaan: Once Upon a Time in India</td>\n",
       "      <td>2001</td>\n",
       "      <td>224</td>\n",
       "      <td>Adventure</td>\n",
       "      <td>8.1</td>\n",
       "      <td>Ashutosh Gowariker</td>\n",
       "      <td>Aamir Khan</td>\n",
       "      <td>105036</td>\n",
       "      <td>70147.0</td>\n",
       "      <td>84.0</td>\n",
       "      <td>India</td>\n",
       "    </tr>\n",
       "    <tr>\n",
       "      <th>227</th>\n",
       "      <td>Okuribito</td>\n",
       "      <td>2008</td>\n",
       "      <td>130</td>\n",
       "      <td>Drama</td>\n",
       "      <td>8.1</td>\n",
       "      <td>Yôjirô Takita</td>\n",
       "      <td>Masahiro Motoki</td>\n",
       "      <td>48582</td>\n",
       "      <td>1498210.0</td>\n",
       "      <td>68.0</td>\n",
       "      <td>India</td>\n",
       "    </tr>\n",
       "  </tbody>\n",
       "</table>\n",
       "</div>"
      ],
      "text/plain": [
       "                          Series_Title Released_Year  Runtime      Genre  \\\n",
       "537                 La montaña sagrada          1973      114  Adventure   \n",
       "410                     The Terminator          1984      107     Action   \n",
       "224                        A Wednesday          2008      104     Action   \n",
       "268                            Platoon          1986      120      Drama   \n",
       "37                        The Departed          2006      151      Crime   \n",
       "677                           Predator          1987      107     Action   \n",
       "970                    My Cousin Vinny          1992      120     Comedy   \n",
       "994                 A Hard Day's Night          1964       87     Comedy   \n",
       "247  Lagaan: Once Upon a Time in India          2001      224  Adventure   \n",
       "227                          Okuribito          2008      130      Drama   \n",
       "\n",
       "     IMDB_Rating              Director                  Star1  No_of_Votes  \\\n",
       "537          7.9  Alejandro Jodorowsky   Alejandro Jodorowsky        37183   \n",
       "410          8.0         James Cameron  Arnold Schwarzenegger       799795   \n",
       "224          8.1         Neeraj Pandey            Anupam Kher        73891   \n",
       "268          8.1          Oliver Stone          Charlie Sheen       381222   \n",
       "37           8.5       Martin Scorsese      Leonardo DiCaprio      1189773   \n",
       "677          7.8        John McTiernan  Arnold Schwarzenegger       371387   \n",
       "970          7.6         Jonathan Lynn              Joe Pesci       107325   \n",
       "994          7.6        Richard Lester            John Lennon        40351   \n",
       "247          8.1    Ashutosh Gowariker             Aamir Khan       105036   \n",
       "227          8.1         Yôjirô Takita        Masahiro Motoki        48582   \n",
       "\n",
       "           Gross  Metascore Country  \n",
       "537      61001.0       76.0   India  \n",
       "410   38400000.0       84.0   India  \n",
       "224  573329738.0        NaN   India  \n",
       "268  138530565.0       92.0   India  \n",
       "37   132384315.0       85.0   India  \n",
       "677   59735548.0       45.0   India  \n",
       "970   52929168.0       68.0   India  \n",
       "994   13780024.0       96.0   India  \n",
       "247      70147.0       84.0   India  \n",
       "227    1498210.0       68.0   India  "
      ]
     },
     "execution_count": 33,
     "metadata": {},
     "output_type": "execute_result"
    }
   ],
   "source": [
    "data.sample(10)"
   ]
  },
  {
   "cell_type": "code",
   "execution_count": 34,
   "id": "9c10ac55-4082-419f-a473-4872b551e1aa",
   "metadata": {},
   "outputs": [
    {
     "data": {
      "text/plain": [
       "[1, 0, 1, 0, 1, 0, 1, 0, 1]"
      ]
     },
     "execution_count": 34,
     "metadata": {},
     "output_type": "execute_result"
    }
   ],
   "source": [
    "[0 if x%2==0 else 1 for x in range(1,10)]"
   ]
  },
  {
   "cell_type": "code",
   "execution_count": 35,
   "id": "d227bbb2-7bc8-4983-afeb-17a1465da7c3",
   "metadata": {},
   "outputs": [
    {
     "data": {
      "text/html": [
       "<div>\n",
       "<style scoped>\n",
       "    .dataframe tbody tr th:only-of-type {\n",
       "        vertical-align: middle;\n",
       "    }\n",
       "\n",
       "    .dataframe tbody tr th {\n",
       "        vertical-align: top;\n",
       "    }\n",
       "\n",
       "    .dataframe thead th {\n",
       "        text-align: right;\n",
       "    }\n",
       "</style>\n",
       "<table border=\"1\" class=\"dataframe\">\n",
       "  <thead>\n",
       "    <tr style=\"text-align: right;\">\n",
       "      <th></th>\n",
       "      <th>Series_Title</th>\n",
       "      <th>Released_Year</th>\n",
       "      <th>Runtime</th>\n",
       "      <th>Genre</th>\n",
       "      <th>IMDB_Rating</th>\n",
       "      <th>Director</th>\n",
       "      <th>Star1</th>\n",
       "      <th>No_of_Votes</th>\n",
       "      <th>Gross</th>\n",
       "      <th>Metascore</th>\n",
       "      <th>Country</th>\n",
       "    </tr>\n",
       "  </thead>\n",
       "  <tbody>\n",
       "    <tr>\n",
       "      <th>0</th>\n",
       "      <td>The Shawshank Redemption</td>\n",
       "      <td>1994</td>\n",
       "      <td>142</td>\n",
       "      <td>Drama</td>\n",
       "      <td>9.3</td>\n",
       "      <td>Frank Darabont</td>\n",
       "      <td>Tim Robbins</td>\n",
       "      <td>2343110</td>\n",
       "      <td>28341469.0</td>\n",
       "      <td>80.0</td>\n",
       "      <td>Pakistan</td>\n",
       "    </tr>\n",
       "    <tr>\n",
       "      <th>1</th>\n",
       "      <td>The Godfather</td>\n",
       "      <td>1972</td>\n",
       "      <td>175</td>\n",
       "      <td>Crime</td>\n",
       "      <td>9.2</td>\n",
       "      <td>Francis Ford Coppola</td>\n",
       "      <td>Marlon Brando</td>\n",
       "      <td>1620367</td>\n",
       "      <td>134966411.0</td>\n",
       "      <td>100.0</td>\n",
       "      <td>India</td>\n",
       "    </tr>\n",
       "    <tr>\n",
       "      <th>2</th>\n",
       "      <td>The Dark Knight</td>\n",
       "      <td>2008</td>\n",
       "      <td>152</td>\n",
       "      <td>Action</td>\n",
       "      <td>9.0</td>\n",
       "      <td>Christopher Nolan</td>\n",
       "      <td>Christian Bale</td>\n",
       "      <td>2303232</td>\n",
       "      <td>534858444.0</td>\n",
       "      <td>84.0</td>\n",
       "      <td>India</td>\n",
       "    </tr>\n",
       "    <tr>\n",
       "      <th>3</th>\n",
       "      <td>The Godfather: Part II</td>\n",
       "      <td>1974</td>\n",
       "      <td>202</td>\n",
       "      <td>Crime</td>\n",
       "      <td>9.0</td>\n",
       "      <td>Francis Ford Coppola</td>\n",
       "      <td>Al Pacino</td>\n",
       "      <td>1129952</td>\n",
       "      <td>57300000.0</td>\n",
       "      <td>90.0</td>\n",
       "      <td>India</td>\n",
       "    </tr>\n",
       "    <tr>\n",
       "      <th>4</th>\n",
       "      <td>12 Angry Men</td>\n",
       "      <td>1957</td>\n",
       "      <td>96</td>\n",
       "      <td>Crime</td>\n",
       "      <td>9.0</td>\n",
       "      <td>Sidney Lumet</td>\n",
       "      <td>Henry Fonda</td>\n",
       "      <td>689845</td>\n",
       "      <td>4360000.0</td>\n",
       "      <td>96.0</td>\n",
       "      <td>India</td>\n",
       "    </tr>\n",
       "    <tr>\n",
       "      <th>...</th>\n",
       "      <td>...</td>\n",
       "      <td>...</td>\n",
       "      <td>...</td>\n",
       "      <td>...</td>\n",
       "      <td>...</td>\n",
       "      <td>...</td>\n",
       "      <td>...</td>\n",
       "      <td>...</td>\n",
       "      <td>...</td>\n",
       "      <td>...</td>\n",
       "      <td>...</td>\n",
       "    </tr>\n",
       "    <tr>\n",
       "      <th>995</th>\n",
       "      <td>Breakfast at Tiffany's</td>\n",
       "      <td>1961</td>\n",
       "      <td>115</td>\n",
       "      <td>Comedy</td>\n",
       "      <td>7.6</td>\n",
       "      <td>Blake Edwards</td>\n",
       "      <td>Audrey Hepburn</td>\n",
       "      <td>166544</td>\n",
       "      <td>679874270.0</td>\n",
       "      <td>76.0</td>\n",
       "      <td>India</td>\n",
       "    </tr>\n",
       "    <tr>\n",
       "      <th>996</th>\n",
       "      <td>Giant</td>\n",
       "      <td>1956</td>\n",
       "      <td>201</td>\n",
       "      <td>Drama</td>\n",
       "      <td>7.6</td>\n",
       "      <td>George Stevens</td>\n",
       "      <td>Elizabeth Taylor</td>\n",
       "      <td>34075</td>\n",
       "      <td>195217415.0</td>\n",
       "      <td>84.0</td>\n",
       "      <td>India</td>\n",
       "    </tr>\n",
       "    <tr>\n",
       "      <th>997</th>\n",
       "      <td>From Here to Eternity</td>\n",
       "      <td>1953</td>\n",
       "      <td>118</td>\n",
       "      <td>Drama</td>\n",
       "      <td>7.6</td>\n",
       "      <td>Fred Zinnemann</td>\n",
       "      <td>Burt Lancaster</td>\n",
       "      <td>43374</td>\n",
       "      <td>30500000.0</td>\n",
       "      <td>85.0</td>\n",
       "      <td>India</td>\n",
       "    </tr>\n",
       "    <tr>\n",
       "      <th>998</th>\n",
       "      <td>Lifeboat</td>\n",
       "      <td>1944</td>\n",
       "      <td>97</td>\n",
       "      <td>Drama</td>\n",
       "      <td>7.6</td>\n",
       "      <td>Alfred Hitchcock</td>\n",
       "      <td>Tallulah Bankhead</td>\n",
       "      <td>26471</td>\n",
       "      <td>852142728.0</td>\n",
       "      <td>78.0</td>\n",
       "      <td>India</td>\n",
       "    </tr>\n",
       "    <tr>\n",
       "      <th>999</th>\n",
       "      <td>The 39 Steps</td>\n",
       "      <td>1935</td>\n",
       "      <td>86</td>\n",
       "      <td>Crime</td>\n",
       "      <td>7.6</td>\n",
       "      <td>Alfred Hitchcock</td>\n",
       "      <td>Robert Donat</td>\n",
       "      <td>51853</td>\n",
       "      <td>302787539.0</td>\n",
       "      <td>93.0</td>\n",
       "      <td>India</td>\n",
       "    </tr>\n",
       "  </tbody>\n",
       "</table>\n",
       "<p>1000 rows × 11 columns</p>\n",
       "</div>"
      ],
      "text/plain": [
       "                 Series_Title Released_Year  Runtime   Genre  IMDB_Rating  \\\n",
       "0    The Shawshank Redemption          1994      142   Drama          9.3   \n",
       "1               The Godfather          1972      175   Crime          9.2   \n",
       "2             The Dark Knight          2008      152  Action          9.0   \n",
       "3      The Godfather: Part II          1974      202   Crime          9.0   \n",
       "4                12 Angry Men          1957       96   Crime          9.0   \n",
       "..                        ...           ...      ...     ...          ...   \n",
       "995    Breakfast at Tiffany's          1961      115  Comedy          7.6   \n",
       "996                     Giant          1956      201   Drama          7.6   \n",
       "997     From Here to Eternity          1953      118   Drama          7.6   \n",
       "998                  Lifeboat          1944       97   Drama          7.6   \n",
       "999              The 39 Steps          1935       86   Crime          7.6   \n",
       "\n",
       "                 Director              Star1  No_of_Votes        Gross  \\\n",
       "0          Frank Darabont        Tim Robbins      2343110   28341469.0   \n",
       "1    Francis Ford Coppola      Marlon Brando      1620367  134966411.0   \n",
       "2       Christopher Nolan     Christian Bale      2303232  534858444.0   \n",
       "3    Francis Ford Coppola          Al Pacino      1129952   57300000.0   \n",
       "4            Sidney Lumet        Henry Fonda       689845    4360000.0   \n",
       "..                    ...                ...          ...          ...   \n",
       "995         Blake Edwards     Audrey Hepburn       166544  679874270.0   \n",
       "996        George Stevens   Elizabeth Taylor        34075  195217415.0   \n",
       "997        Fred Zinnemann     Burt Lancaster        43374   30500000.0   \n",
       "998      Alfred Hitchcock  Tallulah Bankhead        26471  852142728.0   \n",
       "999      Alfred Hitchcock       Robert Donat        51853  302787539.0   \n",
       "\n",
       "     Metascore   Country  \n",
       "0         80.0  Pakistan  \n",
       "1        100.0     India  \n",
       "2         84.0     India  \n",
       "3         90.0     India  \n",
       "4         96.0     India  \n",
       "..         ...       ...  \n",
       "995       76.0     India  \n",
       "996       84.0     India  \n",
       "997       85.0     India  \n",
       "998       78.0     India  \n",
       "999       93.0     India  \n",
       "\n",
       "[1000 rows x 11 columns]"
      ]
     },
     "execution_count": 35,
     "metadata": {},
     "output_type": "execute_result"
    }
   ],
   "source": [
    "data"
   ]
  },
  {
   "cell_type": "code",
   "execution_count": 36,
   "id": "c76e2442-6a6e-4ad7-8624-31bfb64ae6b2",
   "metadata": {},
   "outputs": [],
   "source": [
    "data1 = data.copy()"
   ]
  },
  {
   "cell_type": "code",
   "execution_count": 37,
   "id": "5b405b20-b1c9-4779-8d35-b97f280f5c3c",
   "metadata": {},
   "outputs": [],
   "source": [
    "data1.Series_Title=data1.Series_Title.str.split().str[0:2].str.join(\" \")"
   ]
  },
  {
   "cell_type": "code",
   "execution_count": 38,
   "id": "fc31138f-fd8d-4f16-a630-7d918c4f3cb9",
   "metadata": {},
   "outputs": [
    {
     "data": {
      "text/html": [
       "<div>\n",
       "<style scoped>\n",
       "    .dataframe tbody tr th:only-of-type {\n",
       "        vertical-align: middle;\n",
       "    }\n",
       "\n",
       "    .dataframe tbody tr th {\n",
       "        vertical-align: top;\n",
       "    }\n",
       "\n",
       "    .dataframe thead th {\n",
       "        text-align: right;\n",
       "    }\n",
       "</style>\n",
       "<table border=\"1\" class=\"dataframe\">\n",
       "  <thead>\n",
       "    <tr style=\"text-align: right;\">\n",
       "      <th></th>\n",
       "      <th>Series_Title</th>\n",
       "      <th>Released_Year</th>\n",
       "      <th>Runtime</th>\n",
       "      <th>Genre</th>\n",
       "      <th>IMDB_Rating</th>\n",
       "      <th>Director</th>\n",
       "      <th>Star1</th>\n",
       "      <th>No_of_Votes</th>\n",
       "      <th>Gross</th>\n",
       "      <th>Metascore</th>\n",
       "      <th>Country</th>\n",
       "    </tr>\n",
       "  </thead>\n",
       "  <tbody>\n",
       "    <tr>\n",
       "      <th>0</th>\n",
       "      <td>The Shawshank</td>\n",
       "      <td>1994</td>\n",
       "      <td>142</td>\n",
       "      <td>Drama</td>\n",
       "      <td>9.3</td>\n",
       "      <td>Frank Darabont</td>\n",
       "      <td>Tim Robbins</td>\n",
       "      <td>2343110</td>\n",
       "      <td>28341469.0</td>\n",
       "      <td>80.0</td>\n",
       "      <td>Pakistan</td>\n",
       "    </tr>\n",
       "    <tr>\n",
       "      <th>1</th>\n",
       "      <td>The Godfather</td>\n",
       "      <td>1972</td>\n",
       "      <td>175</td>\n",
       "      <td>Crime</td>\n",
       "      <td>9.2</td>\n",
       "      <td>Francis Ford Coppola</td>\n",
       "      <td>Marlon Brando</td>\n",
       "      <td>1620367</td>\n",
       "      <td>134966411.0</td>\n",
       "      <td>100.0</td>\n",
       "      <td>India</td>\n",
       "    </tr>\n",
       "    <tr>\n",
       "      <th>2</th>\n",
       "      <td>The Dark</td>\n",
       "      <td>2008</td>\n",
       "      <td>152</td>\n",
       "      <td>Action</td>\n",
       "      <td>9.0</td>\n",
       "      <td>Christopher Nolan</td>\n",
       "      <td>Christian Bale</td>\n",
       "      <td>2303232</td>\n",
       "      <td>534858444.0</td>\n",
       "      <td>84.0</td>\n",
       "      <td>India</td>\n",
       "    </tr>\n",
       "    <tr>\n",
       "      <th>3</th>\n",
       "      <td>The Godfather:</td>\n",
       "      <td>1974</td>\n",
       "      <td>202</td>\n",
       "      <td>Crime</td>\n",
       "      <td>9.0</td>\n",
       "      <td>Francis Ford Coppola</td>\n",
       "      <td>Al Pacino</td>\n",
       "      <td>1129952</td>\n",
       "      <td>57300000.0</td>\n",
       "      <td>90.0</td>\n",
       "      <td>India</td>\n",
       "    </tr>\n",
       "    <tr>\n",
       "      <th>4</th>\n",
       "      <td>12 Angry</td>\n",
       "      <td>1957</td>\n",
       "      <td>96</td>\n",
       "      <td>Crime</td>\n",
       "      <td>9.0</td>\n",
       "      <td>Sidney Lumet</td>\n",
       "      <td>Henry Fonda</td>\n",
       "      <td>689845</td>\n",
       "      <td>4360000.0</td>\n",
       "      <td>96.0</td>\n",
       "      <td>India</td>\n",
       "    </tr>\n",
       "  </tbody>\n",
       "</table>\n",
       "</div>"
      ],
      "text/plain": [
       "     Series_Title Released_Year  Runtime   Genre  IMDB_Rating  \\\n",
       "0   The Shawshank          1994      142   Drama          9.3   \n",
       "1   The Godfather          1972      175   Crime          9.2   \n",
       "2        The Dark          2008      152  Action          9.0   \n",
       "3  The Godfather:          1974      202   Crime          9.0   \n",
       "4        12 Angry          1957       96   Crime          9.0   \n",
       "\n",
       "               Director           Star1  No_of_Votes        Gross  Metascore  \\\n",
       "0        Frank Darabont     Tim Robbins      2343110   28341469.0       80.0   \n",
       "1  Francis Ford Coppola   Marlon Brando      1620367  134966411.0      100.0   \n",
       "2     Christopher Nolan  Christian Bale      2303232  534858444.0       84.0   \n",
       "3  Francis Ford Coppola       Al Pacino      1129952   57300000.0       90.0   \n",
       "4          Sidney Lumet     Henry Fonda       689845    4360000.0       96.0   \n",
       "\n",
       "    Country  \n",
       "0  Pakistan  \n",
       "1     India  \n",
       "2     India  \n",
       "3     India  \n",
       "4     India  "
      ]
     },
     "execution_count": 38,
     "metadata": {},
     "output_type": "execute_result"
    }
   ],
   "source": [
    "data1.head()"
   ]
  },
  {
   "cell_type": "code",
   "execution_count": 39,
   "id": "f81f6199-c219-43b7-94ea-a2ea061424b8",
   "metadata": {},
   "outputs": [
    {
     "data": {
      "text/html": [
       "<div>\n",
       "<style scoped>\n",
       "    .dataframe tbody tr th:only-of-type {\n",
       "        vertical-align: middle;\n",
       "    }\n",
       "\n",
       "    .dataframe tbody tr th {\n",
       "        vertical-align: top;\n",
       "    }\n",
       "\n",
       "    .dataframe thead th {\n",
       "        text-align: right;\n",
       "    }\n",
       "</style>\n",
       "<table border=\"1\" class=\"dataframe\">\n",
       "  <thead>\n",
       "    <tr style=\"text-align: right;\">\n",
       "      <th></th>\n",
       "      <th>Series_Title</th>\n",
       "      <th>Released_Year</th>\n",
       "      <th>Runtime</th>\n",
       "      <th>Genre</th>\n",
       "      <th>IMDB_Rating</th>\n",
       "      <th>Director</th>\n",
       "      <th>Star1</th>\n",
       "      <th>No_of_Votes</th>\n",
       "      <th>Gross</th>\n",
       "      <th>Metascore</th>\n",
       "      <th>Country</th>\n",
       "    </tr>\n",
       "  </thead>\n",
       "  <tbody>\n",
       "    <tr>\n",
       "      <th>0</th>\n",
       "      <td>The Shawshank Redemption</td>\n",
       "      <td>1994</td>\n",
       "      <td>142</td>\n",
       "      <td>Drama</td>\n",
       "      <td>9.3</td>\n",
       "      <td>Frank Darabont</td>\n",
       "      <td>Tim Robbins</td>\n",
       "      <td>2343110</td>\n",
       "      <td>28341469.0</td>\n",
       "      <td>80.0</td>\n",
       "      <td>Pakistan</td>\n",
       "    </tr>\n",
       "    <tr>\n",
       "      <th>1</th>\n",
       "      <td>The Godfather</td>\n",
       "      <td>1972</td>\n",
       "      <td>175</td>\n",
       "      <td>Crime</td>\n",
       "      <td>9.2</td>\n",
       "      <td>Francis Ford Coppola</td>\n",
       "      <td>Marlon Brando</td>\n",
       "      <td>1620367</td>\n",
       "      <td>134966411.0</td>\n",
       "      <td>100.0</td>\n",
       "      <td>India</td>\n",
       "    </tr>\n",
       "    <tr>\n",
       "      <th>2</th>\n",
       "      <td>The Dark Knight</td>\n",
       "      <td>2008</td>\n",
       "      <td>152</td>\n",
       "      <td>Action</td>\n",
       "      <td>9.0</td>\n",
       "      <td>Christopher Nolan</td>\n",
       "      <td>Christian Bale</td>\n",
       "      <td>2303232</td>\n",
       "      <td>534858444.0</td>\n",
       "      <td>84.0</td>\n",
       "      <td>India</td>\n",
       "    </tr>\n",
       "    <tr>\n",
       "      <th>3</th>\n",
       "      <td>The Godfather: Part II</td>\n",
       "      <td>1974</td>\n",
       "      <td>202</td>\n",
       "      <td>Crime</td>\n",
       "      <td>9.0</td>\n",
       "      <td>Francis Ford Coppola</td>\n",
       "      <td>Al Pacino</td>\n",
       "      <td>1129952</td>\n",
       "      <td>57300000.0</td>\n",
       "      <td>90.0</td>\n",
       "      <td>India</td>\n",
       "    </tr>\n",
       "    <tr>\n",
       "      <th>4</th>\n",
       "      <td>12 Angry Men</td>\n",
       "      <td>1957</td>\n",
       "      <td>96</td>\n",
       "      <td>Crime</td>\n",
       "      <td>9.0</td>\n",
       "      <td>Sidney Lumet</td>\n",
       "      <td>Henry Fonda</td>\n",
       "      <td>689845</td>\n",
       "      <td>4360000.0</td>\n",
       "      <td>96.0</td>\n",
       "      <td>India</td>\n",
       "    </tr>\n",
       "  </tbody>\n",
       "</table>\n",
       "</div>"
      ],
      "text/plain": [
       "               Series_Title Released_Year  Runtime   Genre  IMDB_Rating  \\\n",
       "0  The Shawshank Redemption          1994      142   Drama          9.3   \n",
       "1             The Godfather          1972      175   Crime          9.2   \n",
       "2           The Dark Knight          2008      152  Action          9.0   \n",
       "3    The Godfather: Part II          1974      202   Crime          9.0   \n",
       "4              12 Angry Men          1957       96   Crime          9.0   \n",
       "\n",
       "               Director           Star1  No_of_Votes        Gross  Metascore  \\\n",
       "0        Frank Darabont     Tim Robbins      2343110   28341469.0       80.0   \n",
       "1  Francis Ford Coppola   Marlon Brando      1620367  134966411.0      100.0   \n",
       "2     Christopher Nolan  Christian Bale      2303232  534858444.0       84.0   \n",
       "3  Francis Ford Coppola       Al Pacino      1129952   57300000.0       90.0   \n",
       "4          Sidney Lumet     Henry Fonda       689845    4360000.0       96.0   \n",
       "\n",
       "    Country  \n",
       "0  Pakistan  \n",
       "1     India  \n",
       "2     India  \n",
       "3     India  \n",
       "4     India  "
      ]
     },
     "execution_count": 39,
     "metadata": {},
     "output_type": "execute_result"
    }
   ],
   "source": [
    "data.head()"
   ]
  },
  {
   "cell_type": "code",
   "execution_count": 40,
   "id": "d1c5d555-fe12-4724-b4a7-a0f07618e317",
   "metadata": {},
   "outputs": [],
   "source": [
    "import random\n",
    "from faker import Faker\n",
    "\n",
    "fake = Faker()\n",
    "\n",
    "# Generating 1000 rows of messy data\n",
    "data = []\n",
    "for i in range(1, 1001):\n",
    "    name = fake.name() if random.random() > 0.05 else None  # 5% missing names\n",
    "    age = random.choice([random.randint(20, 60), None])  # Some missing ages\n",
    "    email = fake.ascii_free_email() if random.random() > 0.1 else fake.user_name()  # 10% invalid emails\n",
    "    salary = random.choice([random.randint(30000, 120000), None, 0])  # Some missing or 0 salary\n",
    "    join_date = fake.date_between(start_date='-10y', end_date='today') if random.random() > 0.1 else None\n",
    "    department = random.choice([\"IT\", \"HR\", \"Finance\", \"Sales\", \"Marketing\", \"Engineering\"])\n",
    "    status = random.choice([\"Active\", \"Left\"])\n",
    "    rating = random.choice([round(random.uniform(1, 5), 1), None, -1])  # Some negative ratings\n",
    "\n",
    "    data.append([i, name, age, email, salary, join_date, department, status, rating])\n",
    "\n",
    "employee_data = pd.DataFrame(data, columns=[\"ID\", \"Name\", \"Age\", \"Email\", \"Salary\", \"Join Date\", \"Department\", \"Status\", \"Rating\"])\n",
    "employee_data.set_index(\"ID\", inplace=True)"
   ]
  },
  {
   "cell_type": "code",
   "execution_count": 41,
   "id": "9fa7d14a-895a-45f4-8f58-893f243c41a0",
   "metadata": {},
   "outputs": [
    {
     "data": {
      "text/html": [
       "<div>\n",
       "<style scoped>\n",
       "    .dataframe tbody tr th:only-of-type {\n",
       "        vertical-align: middle;\n",
       "    }\n",
       "\n",
       "    .dataframe tbody tr th {\n",
       "        vertical-align: top;\n",
       "    }\n",
       "\n",
       "    .dataframe thead th {\n",
       "        text-align: right;\n",
       "    }\n",
       "</style>\n",
       "<table border=\"1\" class=\"dataframe\">\n",
       "  <thead>\n",
       "    <tr style=\"text-align: right;\">\n",
       "      <th></th>\n",
       "      <th>Name</th>\n",
       "      <th>Age</th>\n",
       "      <th>Email</th>\n",
       "      <th>Salary</th>\n",
       "      <th>Join Date</th>\n",
       "      <th>Department</th>\n",
       "      <th>Status</th>\n",
       "      <th>Rating</th>\n",
       "    </tr>\n",
       "    <tr>\n",
       "      <th>ID</th>\n",
       "      <th></th>\n",
       "      <th></th>\n",
       "      <th></th>\n",
       "      <th></th>\n",
       "      <th></th>\n",
       "      <th></th>\n",
       "      <th></th>\n",
       "      <th></th>\n",
       "    </tr>\n",
       "  </thead>\n",
       "  <tbody>\n",
       "    <tr>\n",
       "      <th>1</th>\n",
       "      <td>None</td>\n",
       "      <td>NaN</td>\n",
       "      <td>skennedy@hotmail.com</td>\n",
       "      <td>46352.0</td>\n",
       "      <td>2015-07-14</td>\n",
       "      <td>HR</td>\n",
       "      <td>Left</td>\n",
       "      <td>3.5</td>\n",
       "    </tr>\n",
       "    <tr>\n",
       "      <th>2</th>\n",
       "      <td>None</td>\n",
       "      <td>23.0</td>\n",
       "      <td>sandra45@hotmail.com</td>\n",
       "      <td>0.0</td>\n",
       "      <td>2015-10-22</td>\n",
       "      <td>Sales</td>\n",
       "      <td>Left</td>\n",
       "      <td>-1.0</td>\n",
       "    </tr>\n",
       "    <tr>\n",
       "      <th>3</th>\n",
       "      <td>Paul Baker</td>\n",
       "      <td>NaN</td>\n",
       "      <td>veronicafisher@yahoo.com</td>\n",
       "      <td>NaN</td>\n",
       "      <td>2018-12-16</td>\n",
       "      <td>Sales</td>\n",
       "      <td>Active</td>\n",
       "      <td>NaN</td>\n",
       "    </tr>\n",
       "    <tr>\n",
       "      <th>4</th>\n",
       "      <td>William Novak</td>\n",
       "      <td>28.0</td>\n",
       "      <td>crystalbutler@gmail.com</td>\n",
       "      <td>87569.0</td>\n",
       "      <td>2015-03-11</td>\n",
       "      <td>Marketing</td>\n",
       "      <td>Left</td>\n",
       "      <td>3.2</td>\n",
       "    </tr>\n",
       "    <tr>\n",
       "      <th>5</th>\n",
       "      <td>Shannon Baird</td>\n",
       "      <td>NaN</td>\n",
       "      <td>fcurtis@gmail.com</td>\n",
       "      <td>107120.0</td>\n",
       "      <td>None</td>\n",
       "      <td>IT</td>\n",
       "      <td>Active</td>\n",
       "      <td>NaN</td>\n",
       "    </tr>\n",
       "  </tbody>\n",
       "</table>\n",
       "</div>"
      ],
      "text/plain": [
       "             Name   Age                     Email    Salary   Join Date  \\\n",
       "ID                                                                        \n",
       "1            None   NaN      skennedy@hotmail.com   46352.0  2015-07-14   \n",
       "2            None  23.0      sandra45@hotmail.com       0.0  2015-10-22   \n",
       "3      Paul Baker   NaN  veronicafisher@yahoo.com       NaN  2018-12-16   \n",
       "4   William Novak  28.0   crystalbutler@gmail.com   87569.0  2015-03-11   \n",
       "5   Shannon Baird   NaN         fcurtis@gmail.com  107120.0        None   \n",
       "\n",
       "   Department  Status  Rating  \n",
       "ID                             \n",
       "1          HR    Left     3.5  \n",
       "2       Sales    Left    -1.0  \n",
       "3       Sales  Active     NaN  \n",
       "4   Marketing    Left     3.2  \n",
       "5          IT  Active     NaN  "
      ]
     },
     "execution_count": 41,
     "metadata": {},
     "output_type": "execute_result"
    }
   ],
   "source": [
    "employee_data.head()"
   ]
  },
  {
   "cell_type": "code",
   "execution_count": 42,
   "id": "d1bda63b-edb8-477a-8b4f-ce7260f9acd6",
   "metadata": {},
   "outputs": [
    {
     "data": {
      "text/plain": [
       "ID\n",
       "1                    None\n",
       "2                    None\n",
       "3              Paul Baker\n",
       "4           William Novak\n",
       "5           Shannon Baird\n",
       "              ...        \n",
       "996     Michelle Thompson\n",
       "997                  None\n",
       "998          Gregory Hunt\n",
       "999         Carmen Miller\n",
       "1000    Christopher Smith\n",
       "Name: Name, Length: 1000, dtype: object"
      ]
     },
     "execution_count": 42,
     "metadata": {},
     "output_type": "execute_result"
    }
   ],
   "source": [
    "employee_data.Name"
   ]
  },
  {
   "cell_type": "code",
   "execution_count": 43,
   "id": "e62dd860-e17c-4a51-be3a-b96c28a40c8f",
   "metadata": {},
   "outputs": [
    {
     "name": "stdout",
     "output_type": "stream",
     "text": [
      "<class 'pandas.core.frame.DataFrame'>\n",
      "Index: 1000 entries, 1 to 1000\n",
      "Data columns (total 8 columns):\n",
      " #   Column      Non-Null Count  Dtype  \n",
      "---  ------      --------------  -----  \n",
      " 0   Name        942 non-null    object \n",
      " 1   Age         462 non-null    float64\n",
      " 2   Email       1000 non-null   object \n",
      " 3   Salary      659 non-null    float64\n",
      " 4   Join Date   903 non-null    object \n",
      " 5   Department  1000 non-null   object \n",
      " 6   Status      1000 non-null   object \n",
      " 7   Rating      644 non-null    float64\n",
      "dtypes: float64(3), object(5)\n",
      "memory usage: 70.3+ KB\n"
     ]
    }
   ],
   "source": [
    "employee_data.info()"
   ]
  },
  {
   "cell_type": "code",
   "execution_count": 44,
   "id": "e02cf292-6c82-4902-b208-87ac0ad7a612",
   "metadata": {},
   "outputs": [],
   "source": [
    "weights = pd.read_csv(\"weight-height.csv\")"
   ]
  },
  {
   "cell_type": "code",
   "execution_count": 45,
   "id": "c2d26496-7359-4e19-bd6c-773d86fde02a",
   "metadata": {},
   "outputs": [
    {
     "data": {
      "text/html": [
       "<div>\n",
       "<style scoped>\n",
       "    .dataframe tbody tr th:only-of-type {\n",
       "        vertical-align: middle;\n",
       "    }\n",
       "\n",
       "    .dataframe tbody tr th {\n",
       "        vertical-align: top;\n",
       "    }\n",
       "\n",
       "    .dataframe thead th {\n",
       "        text-align: right;\n",
       "    }\n",
       "</style>\n",
       "<table border=\"1\" class=\"dataframe\">\n",
       "  <thead>\n",
       "    <tr style=\"text-align: right;\">\n",
       "      <th></th>\n",
       "      <th>Gender</th>\n",
       "      <th>Height</th>\n",
       "      <th>Weight</th>\n",
       "    </tr>\n",
       "  </thead>\n",
       "  <tbody>\n",
       "    <tr>\n",
       "      <th>0</th>\n",
       "      <td>Male</td>\n",
       "      <td>73.847017</td>\n",
       "      <td>241.893563</td>\n",
       "    </tr>\n",
       "    <tr>\n",
       "      <th>1</th>\n",
       "      <td>Male</td>\n",
       "      <td>68.781904</td>\n",
       "      <td>162.310473</td>\n",
       "    </tr>\n",
       "    <tr>\n",
       "      <th>2</th>\n",
       "      <td>Male</td>\n",
       "      <td>74.110105</td>\n",
       "      <td>212.740856</td>\n",
       "    </tr>\n",
       "    <tr>\n",
       "      <th>3</th>\n",
       "      <td>Male</td>\n",
       "      <td>71.730978</td>\n",
       "      <td>220.042470</td>\n",
       "    </tr>\n",
       "    <tr>\n",
       "      <th>4</th>\n",
       "      <td>Male</td>\n",
       "      <td>69.881796</td>\n",
       "      <td>206.349801</td>\n",
       "    </tr>\n",
       "    <tr>\n",
       "      <th>...</th>\n",
       "      <td>...</td>\n",
       "      <td>...</td>\n",
       "      <td>...</td>\n",
       "    </tr>\n",
       "    <tr>\n",
       "      <th>9995</th>\n",
       "      <td>Female</td>\n",
       "      <td>66.172652</td>\n",
       "      <td>136.777454</td>\n",
       "    </tr>\n",
       "    <tr>\n",
       "      <th>9996</th>\n",
       "      <td>Female</td>\n",
       "      <td>67.067155</td>\n",
       "      <td>170.867906</td>\n",
       "    </tr>\n",
       "    <tr>\n",
       "      <th>9997</th>\n",
       "      <td>Female</td>\n",
       "      <td>63.867992</td>\n",
       "      <td>128.475319</td>\n",
       "    </tr>\n",
       "    <tr>\n",
       "      <th>9998</th>\n",
       "      <td>Female</td>\n",
       "      <td>69.034243</td>\n",
       "      <td>163.852461</td>\n",
       "    </tr>\n",
       "    <tr>\n",
       "      <th>9999</th>\n",
       "      <td>Female</td>\n",
       "      <td>61.944246</td>\n",
       "      <td>113.649103</td>\n",
       "    </tr>\n",
       "  </tbody>\n",
       "</table>\n",
       "<p>10000 rows × 3 columns</p>\n",
       "</div>"
      ],
      "text/plain": [
       "      Gender     Height      Weight\n",
       "0       Male  73.847017  241.893563\n",
       "1       Male  68.781904  162.310473\n",
       "2       Male  74.110105  212.740856\n",
       "3       Male  71.730978  220.042470\n",
       "4       Male  69.881796  206.349801\n",
       "...      ...        ...         ...\n",
       "9995  Female  66.172652  136.777454\n",
       "9996  Female  67.067155  170.867906\n",
       "9997  Female  63.867992  128.475319\n",
       "9998  Female  69.034243  163.852461\n",
       "9999  Female  61.944246  113.649103\n",
       "\n",
       "[10000 rows x 3 columns]"
      ]
     },
     "execution_count": 45,
     "metadata": {},
     "output_type": "execute_result"
    }
   ],
   "source": [
    "weights"
   ]
  },
  {
   "cell_type": "code",
   "execution_count": 46,
   "id": "fbb6cceb-0c59-4d36-acf2-83e4335828ef",
   "metadata": {},
   "outputs": [],
   "source": [
    "bins = [50, 100, 150, 200, 250, 300]"
   ]
  },
  {
   "cell_type": "code",
   "execution_count": 47,
   "id": "64591675-2d23-4aa4-ad4a-f071ca93f2ab",
   "metadata": {},
   "outputs": [],
   "source": [
    "weights_categories = pd.cut(weights.Weight, bins, labels=[\"Slip\", \"Healthy\", \"Fat\", \"Very Fat\", \"Over weight\"])"
   ]
  },
  {
   "cell_type": "code",
   "execution_count": 48,
   "id": "040c6f21-e5af-4f4f-b945-3b0ba7ef7417",
   "metadata": {},
   "outputs": [
    {
     "data": {
      "text/plain": [
       "Weight\n",
       "Fat            4717\n",
       "Healthy        3857\n",
       "Very Fat       1272\n",
       "Slip            146\n",
       "Over weight       8\n",
       "Name: count, dtype: int64"
      ]
     },
     "execution_count": 48,
     "metadata": {},
     "output_type": "execute_result"
    }
   ],
   "source": [
    "weights_categories.value_counts()"
   ]
  },
  {
   "cell_type": "code",
   "execution_count": 49,
   "id": "2ce283e3-9c52-445d-85ab-6a181d859541",
   "metadata": {},
   "outputs": [],
   "source": [
    "weights_copy = weights.copy()"
   ]
  },
  {
   "cell_type": "code",
   "execution_count": 50,
   "id": "43de4749-58e3-4136-bb82-28c240da1384",
   "metadata": {},
   "outputs": [],
   "source": [
    "weights_copy[\"Gender\"] = weights_copy[\"Gender\"].map({\"Male\": \"M\", \"Female\": \"F\"})"
   ]
  },
  {
   "cell_type": "code",
   "execution_count": 51,
   "id": "cc44ae0f-683c-42b1-9c56-e5c2ce4a5ee0",
   "metadata": {},
   "outputs": [],
   "source": [
    "import seaborn as sb"
   ]
  },
  {
   "cell_type": "code",
   "execution_count": 52,
   "id": "4603fd7b-d719-4e65-8bc0-4400fba7b559",
   "metadata": {},
   "outputs": [
    {
     "data": {
      "text/plain": [
       "<Axes: xlabel='Weight', ylabel='count'>"
      ]
     },
     "execution_count": 52,
     "metadata": {},
     "output_type": "execute_result"
    },
    {
     "data": {
      "image/png": "[encoded data removed]",
      "text/plain": [
       "<Figure size 640x480 with 1 Axes>"
      ]
     },
     "metadata": {},
     "output_type": "display_data"
    }
   ],
   "source": [
    "sb.barplot(weights_categories.value_counts())"
   ]
  },
  {
   "cell_type": "code",
   "execution_count": 53,
   "id": "e1362d72-9611-4e96-a323-5a6bac156830",
   "metadata": {},
   "outputs": [
    {
     "name": "stdout",
     "output_type": "stream",
     "text": [
      "<class 'pandas.core.frame.DataFrame'>\n",
      "Index: 1000 entries, 1 to 1000\n",
      "Data columns (total 8 columns):\n",
      " #   Column      Non-Null Count  Dtype  \n",
      "---  ------      --------------  -----  \n",
      " 0   Name        942 non-null    object \n",
      " 1   Age         462 non-null    float64\n",
      " 2   Email       1000 non-null   object \n",
      " 3   Salary      659 non-null    float64\n",
      " 4   Join Date   903 non-null    object \n",
      " 5   Department  1000 non-null   object \n",
      " 6   Status      1000 non-null   object \n",
      " 7   Rating      644 non-null    float64\n",
      "dtypes: float64(3), object(5)\n",
      "memory usage: 70.3+ KB\n"
     ]
    }
   ],
   "source": [
    "employee_data.info()"
   ]
  },
  {
   "cell_type": "code",
   "execution_count": 54,
   "id": "fbd91498-f2f7-4958-82f6-10fcf7a732b9",
   "metadata": {},
   "outputs": [
    {
     "name": "stderr",
     "output_type": "stream",
     "text": [
      "C:\\Users\\dell\\AppData\\Local\\Temp\\ipykernel_7552\\4238854033.py:1: FutureWarning: A value is trying to be set on a copy of a DataFrame or Series through chained assignment using an inplace method.\n",
      "The behavior will change in pandas 3.0. This inplace method will never work because the intermediate object on which we are setting values always behaves as a copy.\n",
      "\n",
      "For example, when doing 'df[col].method(value, inplace=True)', try using 'df.method({col: value}, inplace=True)' or df[col] = df[col].method(value) instead, to perform the operation inplace on the original object.\n",
      "\n",
      "\n",
      "  employee_data.Age.fillna(employee_data.Age.mode()[0], inplace=True)\n"
     ]
    }
   ],
   "source": [
    "employee_data.Age.fillna(employee_data.Age.mode()[0], inplace=True)"
   ]
  },
  {
   "cell_type": "code",
   "execution_count": 55,
   "id": "567239d5-4fc3-4648-bab1-594843437d07",
   "metadata": {},
   "outputs": [
    {
     "name": "stdout",
     "output_type": "stream",
     "text": [
      "<class 'pandas.core.frame.DataFrame'>\n",
      "Index: 1000 entries, 1 to 1000\n",
      "Data columns (total 8 columns):\n",
      " #   Column      Non-Null Count  Dtype  \n",
      "---  ------      --------------  -----  \n",
      " 0   Name        942 non-null    object \n",
      " 1   Age         1000 non-null   float64\n",
      " 2   Email       1000 non-null   object \n",
      " 3   Salary      659 non-null    float64\n",
      " 4   Join Date   903 non-null    object \n",
      " 5   Department  1000 non-null   object \n",
      " 6   Status      1000 non-null   object \n",
      " 7   Rating      644 non-null    float64\n",
      "dtypes: float64(3), object(5)\n",
      "memory usage: 70.3+ KB\n"
     ]
    }
   ],
   "source": [
    "employee_data.info()"
   ]
  },
  {
   "cell_type": "code",
   "execution_count": 56,
   "id": "1414c5ea-30cc-42d9-a63c-c6dcf433e765",
   "metadata": {},
   "outputs": [],
   "source": [
    "import numpy as np"
   ]
  },
  {
   "cell_type": "code",
   "execution_count": 57,
   "id": "1436ea47-a306-43d7-b2cb-7715d690083d",
   "metadata": {},
   "outputs": [],
   "source": [
    "employee_data.Name = [fake.name() if x is None else x for x in employee_data.Name]"
   ]
  },
  {
   "cell_type": "code",
   "execution_count": 58,
   "id": "d7a833c1-767c-415a-a839-0985c2ec546e",
   "metadata": {},
   "outputs": [
    {
     "name": "stdout",
     "output_type": "stream",
     "text": [
      "<class 'pandas.core.frame.DataFrame'>\n",
      "Index: 1000 entries, 1 to 1000\n",
      "Data columns (total 8 columns):\n",
      " #   Column      Non-Null Count  Dtype  \n",
      "---  ------      --------------  -----  \n",
      " 0   Name        1000 non-null   object \n",
      " 1   Age         1000 non-null   float64\n",
      " 2   Email       1000 non-null   object \n",
      " 3   Salary      659 non-null    float64\n",
      " 4   Join Date   903 non-null    object \n",
      " 5   Department  1000 non-null   object \n",
      " 6   Status      1000 non-null   object \n",
      " 7   Rating      644 non-null    float64\n",
      "dtypes: float64(3), object(5)\n",
      "memory usage: 70.3+ KB\n"
     ]
    }
   ],
   "source": [
    "employee_data.info()"
   ]
  },
  {
   "cell_type": "code",
   "execution_count": 59,
   "id": "301324bc-b512-4c53-85cf-8c50b1ceae32",
   "metadata": {},
   "outputs": [
    {
     "name": "stderr",
     "output_type": "stream",
     "text": [
      "C:\\Users\\dell\\AppData\\Local\\Temp\\ipykernel_7552\\752748360.py:1: FutureWarning: A value is trying to be set on a copy of a DataFrame or Series through chained assignment using an inplace method.\n",
      "The behavior will change in pandas 3.0. This inplace method will never work because the intermediate object on which we are setting values always behaves as a copy.\n",
      "\n",
      "For example, when doing 'df[col].method(value, inplace=True)', try using 'df.method({col: value}, inplace=True)' or df[col] = df[col].method(value) instead, to perform the operation inplace on the original object.\n",
      "\n",
      "\n",
      "  employee_data.Salary.fillna(0, inplace=True)\n"
     ]
    }
   ],
   "source": [
    "employee_data.Salary.fillna(0, inplace=True)"
   ]
  },
  {
   "cell_type": "code",
   "execution_count": 60,
   "id": "72c9bf28-fdb5-4ca4-b887-ed1f728f01e0",
   "metadata": {},
   "outputs": [],
   "source": [
    "employee_data.Salary = [employee_data.Salary.mean() if x == 0 else x for x in employee_data.Salary]"
   ]
  },
  {
   "cell_type": "code",
   "execution_count": 61,
   "id": "bac97526-54e8-4adf-a968-543428067415",
   "metadata": {},
   "outputs": [
    {
     "data": {
      "text/plain": [
       "ID\n",
       "1        46352.000\n",
       "2        24741.217\n",
       "3        24741.217\n",
       "4        87569.000\n",
       "5       107120.000\n",
       "           ...    \n",
       "996      24741.217\n",
       "997      24741.217\n",
       "998      67215.000\n",
       "999      24741.217\n",
       "1000     24741.217\n",
       "Name: Salary, Length: 1000, dtype: float64"
      ]
     },
     "execution_count": 61,
     "metadata": {},
     "output_type": "execute_result"
    }
   ],
   "source": [
    "employee_data.Salary"
   ]
  },
  {
   "cell_type": "code",
   "execution_count": 62,
   "id": "657e4303-ef08-4595-a356-d3bc2e5879bd",
   "metadata": {},
   "outputs": [
    {
     "data": {
      "text/plain": [
       "ID\n",
       "1        46352.000\n",
       "2        24741.217\n",
       "3        24741.217\n",
       "4        87569.000\n",
       "5       107120.000\n",
       "           ...    \n",
       "996      24741.217\n",
       "997      24741.217\n",
       "998      67215.000\n",
       "999      24741.217\n",
       "1000     24741.217\n",
       "Name: Salary, Length: 1000, dtype: float64"
      ]
     },
     "execution_count": 62,
     "metadata": {},
     "output_type": "execute_result"
    }
   ],
   "source": [
    "employee_data.Salary"
   ]
  },
  {
   "cell_type": "code",
   "execution_count": 63,
   "id": "b408164d-ba19-4252-a754-18fad1bffcc7",
   "metadata": {},
   "outputs": [],
   "source": [
    "s2 = pd.Series([1,2,3,np.nan,4,5])"
   ]
  },
  {
   "cell_type": "code",
   "execution_count": 64,
   "id": "de33a1ad-9068-43ff-8e94-3cf77940b155",
   "metadata": {},
   "outputs": [
    {
     "name": "stdout",
     "output_type": "stream",
     "text": [
      "<class 'pandas.core.frame.DataFrame'>\n",
      "Index: 1000 entries, 1 to 1000\n",
      "Data columns (total 8 columns):\n",
      " #   Column      Non-Null Count  Dtype  \n",
      "---  ------      --------------  -----  \n",
      " 0   Name        1000 non-null   object \n",
      " 1   Age         1000 non-null   float64\n",
      " 2   Email       1000 non-null   object \n",
      " 3   Salary      1000 non-null   float64\n",
      " 4   Join Date   903 non-null    object \n",
      " 5   Department  1000 non-null   object \n",
      " 6   Status      1000 non-null   object \n",
      " 7   Rating      644 non-null    float64\n",
      "dtypes: float64(3), object(5)\n",
      "memory usage: 70.3+ KB\n"
     ]
    }
   ],
   "source": [
    "employee_data.info()"
   ]
  },
  {
   "cell_type": "code",
   "execution_count": 65,
   "id": "5354c01f-2649-46e2-a9cf-70d32b11eb05",
   "metadata": {},
   "outputs": [],
   "source": [
    "flight_report_fz920 = pd.read_csv(\"FZ920_391d72ad.csv\")"
   ]
  },
  {
   "cell_type": "code",
   "execution_count": 66,
   "id": "5d51e0bc-33d7-464c-b53f-c022410fb7c3",
   "metadata": {},
   "outputs": [
    {
     "data": {
      "text/html": [
       "<div>\n",
       "<style scoped>\n",
       "    .dataframe tbody tr th:only-of-type {\n",
       "        vertical-align: middle;\n",
       "    }\n",
       "\n",
       "    .dataframe tbody tr th {\n",
       "        vertical-align: top;\n",
       "    }\n",
       "\n",
       "    .dataframe thead th {\n",
       "        text-align: right;\n",
       "    }\n",
       "</style>\n",
       "<table border=\"1\" class=\"dataframe\">\n",
       "  <thead>\n",
       "    <tr style=\"text-align: right;\">\n",
       "      <th></th>\n",
       "      <th>Timestamp</th>\n",
       "      <th>UTC</th>\n",
       "      <th>Callsign</th>\n",
       "      <th>Position</th>\n",
       "      <th>Altitude</th>\n",
       "      <th>Speed</th>\n",
       "      <th>Direction</th>\n",
       "    </tr>\n",
       "  </thead>\n",
       "  <tbody>\n",
       "    <tr>\n",
       "      <th>0</th>\n",
       "      <td>1739463859</td>\n",
       "      <td>2025-02-13T16:24:19Z</td>\n",
       "      <td>FDB920</td>\n",
       "      <td>24.401705,38.273724</td>\n",
       "      <td>18200</td>\n",
       "      <td>414</td>\n",
       "      <td>63</td>\n",
       "    </tr>\n",
       "    <tr>\n",
       "      <th>1</th>\n",
       "      <td>1739463890</td>\n",
       "      <td>2025-02-13T16:24:50Z</td>\n",
       "      <td>FDB920</td>\n",
       "      <td>24.427122,38.329227</td>\n",
       "      <td>19050</td>\n",
       "      <td>427</td>\n",
       "      <td>63</td>\n",
       "    </tr>\n",
       "    <tr>\n",
       "      <th>2</th>\n",
       "      <td>1739463921</td>\n",
       "      <td>2025-02-13T16:25:21Z</td>\n",
       "      <td>FDB920</td>\n",
       "      <td>24.456778,38.393902</td>\n",
       "      <td>20175</td>\n",
       "      <td>433</td>\n",
       "      <td>63</td>\n",
       "    </tr>\n",
       "    <tr>\n",
       "      <th>3</th>\n",
       "      <td>1739463953</td>\n",
       "      <td>2025-02-13T16:25:53Z</td>\n",
       "      <td>FDB920</td>\n",
       "      <td>24.484755,38.455154</td>\n",
       "      <td>21300</td>\n",
       "      <td>436</td>\n",
       "      <td>63</td>\n",
       "    </tr>\n",
       "    <tr>\n",
       "      <th>4</th>\n",
       "      <td>1739463985</td>\n",
       "      <td>2025-02-13T16:26:25Z</td>\n",
       "      <td>FDB920</td>\n",
       "      <td>24.513336,38.517658</td>\n",
       "      <td>22400</td>\n",
       "      <td>439</td>\n",
       "      <td>63</td>\n",
       "    </tr>\n",
       "  </tbody>\n",
       "</table>\n",
       "</div>"
      ],
      "text/plain": [
       "    Timestamp                   UTC Callsign             Position  Altitude  \\\n",
       "0  1739463859  2025-02-13T16:24:19Z   FDB920  24.401705,38.273724     18200   \n",
       "1  1739463890  2025-02-13T16:24:50Z   FDB920  24.427122,38.329227     19050   \n",
       "2  1739463921  2025-02-13T16:25:21Z   FDB920  24.456778,38.393902     20175   \n",
       "3  1739463953  2025-02-13T16:25:53Z   FDB920  24.484755,38.455154     21300   \n",
       "4  1739463985  2025-02-13T16:26:25Z   FDB920  24.513336,38.517658     22400   \n",
       "\n",
       "   Speed  Direction  \n",
       "0    414         63  \n",
       "1    427         63  \n",
       "2    433         63  \n",
       "3    436         63  \n",
       "4    439         63  "
      ]
     },
     "execution_count": 66,
     "metadata": {},
     "output_type": "execute_result"
    }
   ],
   "source": [
    "flight_report_fz920.head()"
   ]
  },
  {
   "cell_type": "code",
   "execution_count": 67,
   "id": "a5af1cc5-f61a-4bc5-a487-f9202f1f14cf",
   "metadata": {},
   "outputs": [
    {
     "data": {
      "text/plain": [
       "(555, 7)"
      ]
     },
     "execution_count": 67,
     "metadata": {},
     "output_type": "execute_result"
    }
   ],
   "source": [
    "flight_report_fz920.shape"
   ]
  },
  {
   "cell_type": "code",
   "execution_count": 69,
   "id": "d96ddddb-5a27-4950-8261-c96c7697504a",
   "metadata": {},
   "outputs": [
    {
     "name": "stdout",
     "output_type": "stream",
     "text": [
      "<class 'pandas.core.frame.DataFrame'>\n",
      "RangeIndex: 555 entries, 0 to 554\n",
      "Data columns (total 7 columns):\n",
      " #   Column     Non-Null Count  Dtype \n",
      "---  ------     --------------  ----- \n",
      " 0   Timestamp  555 non-null    int64 \n",
      " 1   UTC        555 non-null    object\n",
      " 2   Callsign   555 non-null    object\n",
      " 3   Position   555 non-null    object\n",
      " 4   Altitude   555 non-null    int64 \n",
      " 5   Speed      555 non-null    int64 \n",
      " 6   Direction  555 non-null    int64 \n",
      "dtypes: int64(4), object(3)\n",
      "memory usage: 30.5+ KB\n"
     ]
    }
   ],
   "source": [
    "flight_report_fz920.info()"
   ]
  },
  {
   "cell_type": "code",
   "execution_count": 70,
   "id": "b622601b-1487-45c3-8ad4-d3356c2413ea",
   "metadata": {},
   "outputs": [
    {
     "data": {
      "text/html": [
       "<div>\n",
       "<style scoped>\n",
       "    .dataframe tbody tr th:only-of-type {\n",
       "        vertical-align: middle;\n",
       "    }\n",
       "\n",
       "    .dataframe tbody tr th {\n",
       "        vertical-align: top;\n",
       "    }\n",
       "\n",
       "    .dataframe thead th {\n",
       "        text-align: right;\n",
       "    }\n",
       "</style>\n",
       "<table border=\"1\" class=\"dataframe\">\n",
       "  <thead>\n",
       "    <tr style=\"text-align: right;\">\n",
       "      <th></th>\n",
       "      <th>Timestamp</th>\n",
       "      <th>UTC</th>\n",
       "      <th>Callsign</th>\n",
       "      <th>Position</th>\n",
       "      <th>Altitude</th>\n",
       "      <th>Speed</th>\n",
       "      <th>Direction</th>\n",
       "    </tr>\n",
       "  </thead>\n",
       "  <tbody>\n",
       "    <tr>\n",
       "      <th>47</th>\n",
       "      <td>1739465347</td>\n",
       "      <td>2025-02-13T16:49:07Z</td>\n",
       "      <td>FDB920</td>\n",
       "      <td>25.794363,41.93528</td>\n",
       "      <td>37000</td>\n",
       "      <td>565</td>\n",
       "      <td>68</td>\n",
       "    </tr>\n",
       "    <tr>\n",
       "      <th>527</th>\n",
       "      <td>1739471699</td>\n",
       "      <td>2025-02-13T18:34:59Z</td>\n",
       "      <td>FDB920</td>\n",
       "      <td>25.303608,55.280144</td>\n",
       "      <td>1325</td>\n",
       "      <td>167</td>\n",
       "      <td>121</td>\n",
       "    </tr>\n",
       "    <tr>\n",
       "      <th>119</th>\n",
       "      <td>1739467363</td>\n",
       "      <td>2025-02-13T17:22:43Z</td>\n",
       "      <td>FDB920</td>\n",
       "      <td>27.018267,47.517033</td>\n",
       "      <td>37000</td>\n",
       "      <td>557</td>\n",
       "      <td>84</td>\n",
       "    </tr>\n",
       "    <tr>\n",
       "      <th>554</th>\n",
       "      <td>1739471918</td>\n",
       "      <td>2025-02-13T18:38:38Z</td>\n",
       "      <td>FDB920</td>\n",
       "      <td>25.257248,55.367443</td>\n",
       "      <td>0</td>\n",
       "      <td>6</td>\n",
       "      <td>300</td>\n",
       "    </tr>\n",
       "    <tr>\n",
       "      <th>409</th>\n",
       "      <td>1739471223</td>\n",
       "      <td>2025-02-13T18:27:03Z</td>\n",
       "      <td>FDB920</td>\n",
       "      <td>25.325363,55.392963</td>\n",
       "      <td>5700</td>\n",
       "      <td>205</td>\n",
       "      <td>288</td>\n",
       "    </tr>\n",
       "    <tr>\n",
       "      <th>186</th>\n",
       "      <td>1739468937</td>\n",
       "      <td>2025-02-13T17:48:57Z</td>\n",
       "      <td>FDB920</td>\n",
       "      <td>26.542831,51.817379</td>\n",
       "      <td>37000</td>\n",
       "      <td>537</td>\n",
       "      <td>109</td>\n",
       "    </tr>\n",
       "    <tr>\n",
       "      <th>66</th>\n",
       "      <td>1739465952</td>\n",
       "      <td>2025-02-13T16:59:12Z</td>\n",
       "      <td>FDB920</td>\n",
       "      <td>26.268356,43.580704</td>\n",
       "      <td>37000</td>\n",
       "      <td>552</td>\n",
       "      <td>80</td>\n",
       "    </tr>\n",
       "    <tr>\n",
       "      <th>265</th>\n",
       "      <td>1739470227</td>\n",
       "      <td>2025-02-13T18:10:27Z</td>\n",
       "      <td>FDB920</td>\n",
       "      <td>25.778275,54.324493</td>\n",
       "      <td>14700</td>\n",
       "      <td>253</td>\n",
       "      <td>206</td>\n",
       "    </tr>\n",
       "    <tr>\n",
       "      <th>457</th>\n",
       "      <td>1739471460</td>\n",
       "      <td>2025-02-13T18:31:00Z</td>\n",
       "      <td>FDB920</td>\n",
       "      <td>25.437353,55.174896</td>\n",
       "      <td>2600</td>\n",
       "      <td>200</td>\n",
       "      <td>281</td>\n",
       "    </tr>\n",
       "    <tr>\n",
       "      <th>203</th>\n",
       "      <td>1739469473</td>\n",
       "      <td>2025-02-13T17:57:53Z</td>\n",
       "      <td>FDB920</td>\n",
       "      <td>26.046862,53.189358</td>\n",
       "      <td>30100</td>\n",
       "      <td>502</td>\n",
       "      <td>111</td>\n",
       "    </tr>\n",
       "  </tbody>\n",
       "</table>\n",
       "</div>"
      ],
      "text/plain": [
       "      Timestamp                   UTC Callsign             Position  Altitude  \\\n",
       "47   1739465347  2025-02-13T16:49:07Z   FDB920   25.794363,41.93528     37000   \n",
       "527  1739471699  2025-02-13T18:34:59Z   FDB920  25.303608,55.280144      1325   \n",
       "119  1739467363  2025-02-13T17:22:43Z   FDB920  27.018267,47.517033     37000   \n",
       "554  1739471918  2025-02-13T18:38:38Z   FDB920  25.257248,55.367443         0   \n",
       "409  1739471223  2025-02-13T18:27:03Z   FDB920  25.325363,55.392963      5700   \n",
       "186  1739468937  2025-02-13T17:48:57Z   FDB920  26.542831,51.817379     37000   \n",
       "66   1739465952  2025-02-13T16:59:12Z   FDB920  26.268356,43.580704     37000   \n",
       "265  1739470227  2025-02-13T18:10:27Z   FDB920  25.778275,54.324493     14700   \n",
       "457  1739471460  2025-02-13T18:31:00Z   FDB920  25.437353,55.174896      2600   \n",
       "203  1739469473  2025-02-13T17:57:53Z   FDB920  26.046862,53.189358     30100   \n",
       "\n",
       "     Speed  Direction  \n",
       "47     565         68  \n",
       "527    167        121  \n",
       "119    557         84  \n",
       "554      6        300  \n",
       "409    205        288  \n",
       "186    537        109  \n",
       "66     552         80  \n",
       "265    253        206  \n",
       "457    200        281  \n",
       "203    502        111  "
      ]
     },
     "execution_count": 70,
     "metadata": {},
     "output_type": "execute_result"
    }
   ],
   "source": [
    "flight_report_fz920.sample(10)"
   ]
  },
  {
   "cell_type": "code",
   "execution_count": 71,
   "id": "4d8c1b56-59b5-4e75-aac8-6cdb71ec4ccf",
   "metadata": {},
   "outputs": [
    {
     "data": {
      "text/plain": [
       "<Axes: ylabel='Speed'>"
      ]
     },
     "execution_count": 71,
     "metadata": {},
     "output_type": "execute_result"
    },
    {
     "data": {
      "image/png": "[encoded data removed]",
      "text/plain": [
       "<Figure size 640x480 with 1 Axes>"
      ]
     },
     "metadata": {},
     "output_type": "display_data"
    }
   ],
   "source": [
    "sb.barplot(flight_report_fz920[\"Speed\"])"
   ]
  },
  {
   "cell_type": "code",
   "execution_count": 72,
   "id": "7fd32cd9-b60e-4479-9582-9615cd4c4cd6",
   "metadata": {},
   "outputs": [
    {
     "data": {
      "text/plain": [
       "<Axes: ylabel='Altitude'>"
      ]
     },
     "execution_count": 72,
     "metadata": {},
     "output_type": "execute_result"
    },
    {
     "data": {
      "image/png": "[encoded data removed]",
      "text/plain": [
       "<Figure size 640x480 with 1 Axes>"
      ]
     },
     "metadata": {},
     "output_type": "display_data"
    }
   ],
   "source": [
    "sb.barplot(flight_report_fz920[\"Altitude\"])"
   ]
  },
  {
   "cell_type": "code",
   "execution_count": 73,
   "id": "c43ec4ba-c86f-48ab-96e1-32aed4d9836b",
   "metadata": {},
   "outputs": [],
   "source": [
    "flight_report_fz920[\"latitude\"] = flight_report_fz920.Position.str.split(\",\").str[0]"
   ]
  },
  {
   "cell_type": "code",
   "execution_count": 74,
   "id": "b9043447-19b7-41c9-ab8f-4643cbe7997f",
   "metadata": {},
   "outputs": [],
   "source": [
    "flight_report_fz920[\"longitude\"] = flight_report_fz920.Position.str.split(\",\").str[1]"
   ]
  },
  {
   "cell_type": "code",
   "execution_count": 75,
   "id": "789dc666-7280-4df9-bd00-d80fc68e25b3",
   "metadata": {},
   "outputs": [
    {
     "data": {
      "text/html": [
       "<div>\n",
       "<style scoped>\n",
       "    .dataframe tbody tr th:only-of-type {\n",
       "        vertical-align: middle;\n",
       "    }\n",
       "\n",
       "    .dataframe tbody tr th {\n",
       "        vertical-align: top;\n",
       "    }\n",
       "\n",
       "    .dataframe thead th {\n",
       "        text-align: right;\n",
       "    }\n",
       "</style>\n",
       "<table border=\"1\" class=\"dataframe\">\n",
       "  <thead>\n",
       "    <tr style=\"text-align: right;\">\n",
       "      <th></th>\n",
       "      <th>Timestamp</th>\n",
       "      <th>UTC</th>\n",
       "      <th>Callsign</th>\n",
       "      <th>Position</th>\n",
       "      <th>Altitude</th>\n",
       "      <th>Speed</th>\n",
       "      <th>Direction</th>\n",
       "      <th>latitude</th>\n",
       "      <th>longitude</th>\n",
       "    </tr>\n",
       "  </thead>\n",
       "  <tbody>\n",
       "    <tr>\n",
       "      <th>0</th>\n",
       "      <td>1739463859</td>\n",
       "      <td>2025-02-13T16:24:19Z</td>\n",
       "      <td>FDB920</td>\n",
       "      <td>24.401705,38.273724</td>\n",
       "      <td>18200</td>\n",
       "      <td>414</td>\n",
       "      <td>63</td>\n",
       "      <td>24.401705</td>\n",
       "      <td>38.273724</td>\n",
       "    </tr>\n",
       "    <tr>\n",
       "      <th>1</th>\n",
       "      <td>1739463890</td>\n",
       "      <td>2025-02-13T16:24:50Z</td>\n",
       "      <td>FDB920</td>\n",
       "      <td>24.427122,38.329227</td>\n",
       "      <td>19050</td>\n",
       "      <td>427</td>\n",
       "      <td>63</td>\n",
       "      <td>24.427122</td>\n",
       "      <td>38.329227</td>\n",
       "    </tr>\n",
       "    <tr>\n",
       "      <th>2</th>\n",
       "      <td>1739463921</td>\n",
       "      <td>2025-02-13T16:25:21Z</td>\n",
       "      <td>FDB920</td>\n",
       "      <td>24.456778,38.393902</td>\n",
       "      <td>20175</td>\n",
       "      <td>433</td>\n",
       "      <td>63</td>\n",
       "      <td>24.456778</td>\n",
       "      <td>38.393902</td>\n",
       "    </tr>\n",
       "    <tr>\n",
       "      <th>3</th>\n",
       "      <td>1739463953</td>\n",
       "      <td>2025-02-13T16:25:53Z</td>\n",
       "      <td>FDB920</td>\n",
       "      <td>24.484755,38.455154</td>\n",
       "      <td>21300</td>\n",
       "      <td>436</td>\n",
       "      <td>63</td>\n",
       "      <td>24.484755</td>\n",
       "      <td>38.455154</td>\n",
       "    </tr>\n",
       "    <tr>\n",
       "      <th>4</th>\n",
       "      <td>1739463985</td>\n",
       "      <td>2025-02-13T16:26:25Z</td>\n",
       "      <td>FDB920</td>\n",
       "      <td>24.513336,38.517658</td>\n",
       "      <td>22400</td>\n",
       "      <td>439</td>\n",
       "      <td>63</td>\n",
       "      <td>24.513336</td>\n",
       "      <td>38.517658</td>\n",
       "    </tr>\n",
       "  </tbody>\n",
       "</table>\n",
       "</div>"
      ],
      "text/plain": [
       "    Timestamp                   UTC Callsign             Position  Altitude  \\\n",
       "0  1739463859  2025-02-13T16:24:19Z   FDB920  24.401705,38.273724     18200   \n",
       "1  1739463890  2025-02-13T16:24:50Z   FDB920  24.427122,38.329227     19050   \n",
       "2  1739463921  2025-02-13T16:25:21Z   FDB920  24.456778,38.393902     20175   \n",
       "3  1739463953  2025-02-13T16:25:53Z   FDB920  24.484755,38.455154     21300   \n",
       "4  1739463985  2025-02-13T16:26:25Z   FDB920  24.513336,38.517658     22400   \n",
       "\n",
       "   Speed  Direction   latitude  longitude  \n",
       "0    414         63  24.401705  38.273724  \n",
       "1    427         63  24.427122  38.329227  \n",
       "2    433         63  24.456778  38.393902  \n",
       "3    436         63  24.484755  38.455154  \n",
       "4    439         63  24.513336  38.517658  "
      ]
     },
     "execution_count": 75,
     "metadata": {},
     "output_type": "execute_result"
    }
   ],
   "source": [
    "flight_report_fz920.head()"
   ]
  },
  {
   "cell_type": "code",
   "execution_count": 76,
   "id": "4efbc780-3f4b-44ee-ac15-723c8003ff4a",
   "metadata": {},
   "outputs": [
    {
     "data": {
      "text/plain": [
       "0      24.401705,38.273724\n",
       "1      24.427122,38.329227\n",
       "2      24.456778,38.393902\n",
       "3      24.484755,38.455154\n",
       "4      24.513336,38.517658\n",
       "              ...         \n",
       "550    25.256578,55.368645\n",
       "551    25.256731,55.368359\n",
       "552    25.256847,55.368153\n",
       "553    25.256973,55.367939\n",
       "554    25.257248,55.367443\n",
       "Name: Position, Length: 555, dtype: object"
      ]
     },
     "execution_count": 76,
     "metadata": {},
     "output_type": "execute_result"
    }
   ],
   "source": [
    "flight_report_fz920.pop(\"Position\")"
   ]
  },
  {
   "cell_type": "code",
   "execution_count": 77,
   "id": "d9fb2a1c-da48-4a99-96cf-7c15769bf767",
   "metadata": {},
   "outputs": [
    {
     "data": {
      "text/html": [
       "<div>\n",
       "<style scoped>\n",
       "    .dataframe tbody tr th:only-of-type {\n",
       "        vertical-align: middle;\n",
       "    }\n",
       "\n",
       "    .dataframe tbody tr th {\n",
       "        vertical-align: top;\n",
       "    }\n",
       "\n",
       "    .dataframe thead th {\n",
       "        text-align: right;\n",
       "    }\n",
       "</style>\n",
       "<table border=\"1\" class=\"dataframe\">\n",
       "  <thead>\n",
       "    <tr style=\"text-align: right;\">\n",
       "      <th></th>\n",
       "      <th>Timestamp</th>\n",
       "      <th>UTC</th>\n",
       "      <th>Callsign</th>\n",
       "      <th>Altitude</th>\n",
       "      <th>Speed</th>\n",
       "      <th>Direction</th>\n",
       "      <th>latitude</th>\n",
       "      <th>longitude</th>\n",
       "    </tr>\n",
       "  </thead>\n",
       "  <tbody>\n",
       "    <tr>\n",
       "      <th>0</th>\n",
       "      <td>1739463859</td>\n",
       "      <td>2025-02-13T16:24:19Z</td>\n",
       "      <td>FDB920</td>\n",
       "      <td>18200</td>\n",
       "      <td>414</td>\n",
       "      <td>63</td>\n",
       "      <td>24.401705</td>\n",
       "      <td>38.273724</td>\n",
       "    </tr>\n",
       "    <tr>\n",
       "      <th>1</th>\n",
       "      <td>1739463890</td>\n",
       "      <td>2025-02-13T16:24:50Z</td>\n",
       "      <td>FDB920</td>\n",
       "      <td>19050</td>\n",
       "      <td>427</td>\n",
       "      <td>63</td>\n",
       "      <td>24.427122</td>\n",
       "      <td>38.329227</td>\n",
       "    </tr>\n",
       "    <tr>\n",
       "      <th>2</th>\n",
       "      <td>1739463921</td>\n",
       "      <td>2025-02-13T16:25:21Z</td>\n",
       "      <td>FDB920</td>\n",
       "      <td>20175</td>\n",
       "      <td>433</td>\n",
       "      <td>63</td>\n",
       "      <td>24.456778</td>\n",
       "      <td>38.393902</td>\n",
       "    </tr>\n",
       "    <tr>\n",
       "      <th>3</th>\n",
       "      <td>1739463953</td>\n",
       "      <td>2025-02-13T16:25:53Z</td>\n",
       "      <td>FDB920</td>\n",
       "      <td>21300</td>\n",
       "      <td>436</td>\n",
       "      <td>63</td>\n",
       "      <td>24.484755</td>\n",
       "      <td>38.455154</td>\n",
       "    </tr>\n",
       "    <tr>\n",
       "      <th>4</th>\n",
       "      <td>1739463985</td>\n",
       "      <td>2025-02-13T16:26:25Z</td>\n",
       "      <td>FDB920</td>\n",
       "      <td>22400</td>\n",
       "      <td>439</td>\n",
       "      <td>63</td>\n",
       "      <td>24.513336</td>\n",
       "      <td>38.517658</td>\n",
       "    </tr>\n",
       "  </tbody>\n",
       "</table>\n",
       "</div>"
      ],
      "text/plain": [
       "    Timestamp                   UTC Callsign  Altitude  Speed  Direction  \\\n",
       "0  1739463859  2025-02-13T16:24:19Z   FDB920     18200    414         63   \n",
       "1  1739463890  2025-02-13T16:24:50Z   FDB920     19050    427         63   \n",
       "2  1739463921  2025-02-13T16:25:21Z   FDB920     20175    433         63   \n",
       "3  1739463953  2025-02-13T16:25:53Z   FDB920     21300    436         63   \n",
       "4  1739463985  2025-02-13T16:26:25Z   FDB920     22400    439         63   \n",
       "\n",
       "    latitude  longitude  \n",
       "0  24.401705  38.273724  \n",
       "1  24.427122  38.329227  \n",
       "2  24.456778  38.393902  \n",
       "3  24.484755  38.455154  \n",
       "4  24.513336  38.517658  "
      ]
     },
     "execution_count": 77,
     "metadata": {},
     "output_type": "execute_result"
    }
   ],
   "source": [
    "flight_report_fz920.head()"
   ]
  },
  {
   "cell_type": "code",
   "execution_count": 78,
   "id": "9d31be77-0d92-48b6-bdb3-61d72d38e05e",
   "metadata": {},
   "outputs": [
    {
     "data": {
      "text/plain": [
       "Direction\n",
       "121    46\n",
       "68     25\n",
       "63     24\n",
       "301    24\n",
       "69     16\n",
       "       ..\n",
       "119     1\n",
       "127     1\n",
       "146     1\n",
       "208     1\n",
       "309     1\n",
       "Name: count, Length: 164, dtype: int64"
      ]
     },
     "execution_count": 78,
     "metadata": {},
     "output_type": "execute_result"
    }
   ],
   "source": [
    "flight_report_fz920.Direction.value_counts()"
   ]
  },
  {
   "cell_type": "code",
   "execution_count": 79,
   "id": "f3b93a44-f41d-4a3d-9ec3-2d5640728d6c",
   "metadata": {},
   "outputs": [
    {
     "data": {
      "text/plain": [
       "<pygame.mixer.Channel at 0x2dbe86ce0d0>"
      ]
     },
     "execution_count": 79,
     "metadata": {},
     "output_type": "execute_result"
    }
   ],
   "source": [
    "sound.play()"
   ]
  },
  {
   "cell_type": "code",
   "execution_count": 80,
   "id": "4f9f20ab-d4d1-4fc9-bead-77a5e6f59a37",
   "metadata": {},
   "outputs": [
    {
     "name": "stdout",
     "output_type": "stream",
     "text": [
      "<class 'pandas.core.frame.DataFrame'>\n",
      "Index: 1000 entries, 1 to 1000\n",
      "Data columns (total 8 columns):\n",
      " #   Column      Non-Null Count  Dtype  \n",
      "---  ------      --------------  -----  \n",
      " 0   Name        1000 non-null   object \n",
      " 1   Age         1000 non-null   float64\n",
      " 2   Email       1000 non-null   object \n",
      " 3   Salary      1000 non-null   float64\n",
      " 4   Join Date   903 non-null    object \n",
      " 5   Department  1000 non-null   object \n",
      " 6   Status      1000 non-null   object \n",
      " 7   Rating      644 non-null    float64\n",
      "dtypes: float64(3), object(5)\n",
      "memory usage: 70.3+ KB\n"
     ]
    }
   ],
   "source": [
    "employee_data.info()"
   ]
  },
  {
   "cell_type": "code",
   "execution_count": 81,
   "id": "1c136a9b-ac8c-493c-8f8f-20d01ce71ae3",
   "metadata": {},
   "outputs": [],
   "source": [
    "covid_latest_wise_Data = pd.read_csv(\"covid_19_country_wise_latest.csv\")"
   ]
  },
  {
   "cell_type": "code",
   "execution_count": 82,
   "id": "de3423d8-076d-45c2-bf67-88680d513fb9",
   "metadata": {},
   "outputs": [
    {
     "data": {
      "text/plain": [
       "(187, 16)"
      ]
     },
     "execution_count": 82,
     "metadata": {},
     "output_type": "execute_result"
    }
   ],
   "source": [
    "covid_latest_wise_Data.shape"
   ]
  },
  {
   "cell_type": "code",
   "execution_count": 83,
   "id": "024f750e-f7ca-4a2f-ad4f-a2cc741b2bd8",
   "metadata": {},
   "outputs": [
    {
     "name": "stdout",
     "output_type": "stream",
     "text": [
      "<class 'pandas.core.frame.DataFrame'>\n",
      "RangeIndex: 187 entries, 0 to 186\n",
      "Data columns (total 16 columns):\n",
      " #   Column                  Non-Null Count  Dtype  \n",
      "---  ------                  --------------  -----  \n",
      " 0   Unnamed: 0              187 non-null    int64  \n",
      " 1   Country/Region          187 non-null    object \n",
      " 2   Confirmed               187 non-null    int64  \n",
      " 3   Deaths                  187 non-null    object \n",
      " 4   Recovered               187 non-null    int64  \n",
      " 5   Active                  187 non-null    int64  \n",
      " 6   New cases               177 non-null    float64\n",
      " 7   New deaths              177 non-null    float64\n",
      " 8   New recovered           187 non-null    int64  \n",
      " 9   Deaths / 100 Cases      187 non-null    float64\n",
      " 10  Recovered / 100 Cases   187 non-null    float64\n",
      " 11  Deaths / 100 Recovered  187 non-null    float64\n",
      " 12  Confirmed last week     187 non-null    int64  \n",
      " 13  1 week change           187 non-null    int64  \n",
      " 14  1 week % increase       187 non-null    float64\n",
      " 15  WHO Region              187 non-null    object \n",
      "dtypes: float64(6), int64(7), object(3)\n",
      "memory usage: 23.5+ KB\n"
     ]
    }
   ],
   "source": [
    "covid_latest_wise_Data.info()"
   ]
  },
  {
   "cell_type": "code",
   "execution_count": 84,
   "id": "49398f7a-6dab-4fa6-9eb6-1ea4f1f4de92",
   "metadata": {},
   "outputs": [],
   "source": [
    "import seaborn as sb"
   ]
  },
  {
   "cell_type": "code",
   "execution_count": 85,
   "id": "7a076fcb-3880-49cb-9b63-3604fe1e3acc",
   "metadata": {},
   "outputs": [
    {
     "data": {
      "text/plain": [
       "<Axes: xlabel='Country/Region', ylabel='New cases'>"
      ]
     },
     "execution_count": 85,
     "metadata": {},
     "output_type": "execute_result"
    },
    {
     "data": {
      "image/png": "[encoded data removed]",
      "text/plain": [
       "<Figure size 640x480 with 1 Axes>"
      ]
     },
     "metadata": {},
     "output_type": "display_data"
    }
   ],
   "source": [
    "sb.barplot(x=covid_latest_wise_Data[\"Country/Region\"][1:5], y=covid_latest_wise_Data[\"New cases\"][1:5])"
   ]
  },
  {
   "cell_type": "code",
   "execution_count": 86,
   "id": "7d801332-6d0b-458b-bcf8-746df6cd6121",
   "metadata": {},
   "outputs": [
    {
     "data": {
      "text/plain": [
       "56336.0"
      ]
     },
     "execution_count": 86,
     "metadata": {},
     "output_type": "execute_result"
    }
   ],
   "source": [
    "covid_latest_wise_Data[\"New cases\"].max()"
   ]
  },
  {
   "cell_type": "code",
   "execution_count": 87,
   "id": "6724fcfe-a7cb-4fe8-8000-fe7df58644b4",
   "metadata": {},
   "outputs": [
    {
     "name": "stderr",
     "output_type": "stream",
     "text": [
      "C:\\Users\\dell\\AppData\\Local\\Temp\\ipykernel_7552\\2165310069.py:1: FutureWarning: pandas.value_counts is deprecated and will be removed in a future version. Use pd.Series(obj).value_counts() instead.\n",
      "  cases_bins = pd.value_counts(pd.cut(covid_latest_wise_Data[\"New cases\"], [1, 10, 500, 1000, 2000, 3000, 4000, 5000, 5700]))\n"
     ]
    },
    {
     "data": {
      "text/plain": [
       "New cases\n",
       "(10, 500]       81\n",
       "(1, 10]         21\n",
       "(500, 1000]     13\n",
       "(1000, 2000]    10\n",
       "(2000, 3000]     6\n",
       "(4000, 5000]     2\n",
       "(5000, 5700]     1\n",
       "(3000, 4000]     0\n",
       "Name: count, dtype: int64"
      ]
     },
     "execution_count": 87,
     "metadata": {},
     "output_type": "execute_result"
    }
   ],
   "source": [
    "cases_bins = pd.value_counts(pd.cut(covid_latest_wise_Data[\"New cases\"], [1, 10, 500, 1000, 2000, 3000, 4000, 5000, 5700]))\n",
    "cases_bins"
   ]
  },
  {
   "cell_type": "code",
   "execution_count": 315,
   "id": "72fa9130-0fb8-47ff-93ef-e0556068ad6e",
   "metadata": {},
   "outputs": [],
   "source": [
    "abc=\"abc\""
   ]
  },
  {
   "cell_type": "code",
   "execution_count": 317,
   "id": "731171a6-42f5-4570-b432-0c2044fb4ac4",
   "metadata": {},
   "outputs": [],
   "source": [
    "def gen_func():\n",
    "    abc = \"xyz\"\n",
    "    for x in range(1, 4):\n",
    "        yield x"
   ]
  },
  {
   "cell_type": "code",
   "execution_count": 319,
   "id": "d6478029-8196-4b1b-b36d-57a1fab3750f",
   "metadata": {},
   "outputs": [],
   "source": [
    "x_gen_obj = gen_func()"
   ]
  },
  {
   "cell_type": "code",
   "execution_count": 329,
   "id": "73fe5a6b-bc94-4792-a22e-035e02996a25",
   "metadata": {},
   "outputs": [],
   "source": [
    "try:\n",
    "    a=next(x_gen_obj)\n",
    "except StopIteration:\n",
    "    pass\n",
    "else:\n",
    "    print(a)"
   ]
  },
  {
   "cell_type": "code",
   "execution_count": 348,
   "id": "4cb1f2a0-267b-4a88-bc94-e941799e5241",
   "metadata": {},
   "outputs": [],
   "source": [
    "def gen_func_2():\n",
    "    print(\"abc\")\n",
    "    yield bla\n",
    "    yield bla\n",
    "    yield bla"
   ]
  },
  {
   "cell_type": "code",
   "execution_count": 350,
   "id": "d84d4f6b-1ffd-40f0-82f7-e4f7bb92fa8a",
   "metadata": {},
   "outputs": [],
   "source": [
    "gen_ins_2 = gen_func_2()"
   ]
  },
  {
   "cell_type": "code",
   "execution_count": 352,
   "id": "0bf3ac05-4b60-4311-9114-c334b633921d",
   "metadata": {},
   "outputs": [],
   "source": [
    "bla = 100"
   ]
  },
  {
   "cell_type": "code",
   "execution_count": 356,
   "id": "f99decd8-a135-455a-87ab-e1c1548b76a7",
   "metadata": {},
   "outputs": [
    {
     "data": {
      "text/plain": [
       "100"
      ]
     },
     "execution_count": 356,
     "metadata": {},
     "output_type": "execute_result"
    }
   ],
   "source": [
    "next(gen_ins_2)"
   ]
  },
  {
   "cell_type": "code",
   "execution_count": null,
   "id": "dbe1523a-7ab2-4531-a296-c65be6232c16",
   "metadata": {},
   "outputs": [],
   "source": []
  }
 ],
 "metadata": {
  "kernelspec": {
   "display_name": "Python 3 (ipykernel)",
   "language": "python",
   "name": "python3"
  },
  "language_info": {
   "codemirror_mode": {
    "name": "ipython",
    "version": 3
   },
   "file_extension": ".py",
   "mimetype": "text/x-python",
   "name": "python",
   "nbconvert_exporter": "python",
   "pygments_lexer": "ipython3",
   "version": "3.12.7"
  }
 },
 "nbformat": 4,
 "nbformat_minor": 5
}
